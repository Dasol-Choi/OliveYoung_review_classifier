{
 "cells": [
  {
   "cell_type": "code",
   "execution_count": 4,
   "metadata": {
    "colab": {
     "base_uri": "https://localhost:8080/"
    },
    "executionInfo": {
     "elapsed": 2523,
     "status": "ok",
     "timestamp": 1676796330954,
     "user": {
      "displayName": "최다솔",
      "userId": "02081007897853777168"
     },
     "user_tz": -540
    },
    "id": "cDYsHqsP6NZg",
    "outputId": "1bffbe59-790a-47e0-c257-293960fc3edf"
   },
   "outputs": [
    {
     "name": "stdout",
     "output_type": "stream",
     "text": [
      "Drive already mounted at /content/drive; to attempt to forcibly remount, call drive.mount(\"/content/drive\", force_remount=True).\n"
     ]
    }
   ],
   "source": [
    "from google.colab import drive\n",
    "drive.mount('/content/drive')"
   ]
  },
  {
   "cell_type": "code",
   "execution_count": 5,
   "metadata": {
    "executionInfo": {
     "elapsed": 12,
     "status": "ok",
     "timestamp": 1676796330955,
     "user": {
      "displayName": "최다솔",
      "userId": "02081007897853777168"
     },
     "user_tz": -540
    },
    "id": "g_8fWfdJRyyE"
   },
   "outputs": [],
   "source": [
    "# !cd /content/drive/MyDrive/olive_review"
   ]
  },
  {
   "cell_type": "code",
   "execution_count": 1,
   "metadata": {
    "colab": {
     "base_uri": "https://localhost:8080/"
    },
    "executionInfo": {
     "elapsed": 3354,
     "status": "ok",
     "timestamp": 1676796334300,
     "user": {
      "displayName": "최다솔",
      "userId": "02081007897853777168"
     },
     "user_tz": -540
    },
    "id": "jZQUHsJARy0q",
    "outputId": "f340fb7f-ca72-4195-ffd2-666f569ebe58",
    "scrolled": true
   },
   "outputs": [
    {
     "name": "stdout",
     "output_type": "stream",
     "text": [
      "Collecting transformers\n",
      "  Using cached transformers-4.26.1-py3-none-any.whl (6.3 MB)\n",
      "Collecting filelock\n",
      "  Downloading filelock-3.9.0-py3-none-any.whl (9.7 kB)\n",
      "Collecting tokenizers!=0.11.3,<0.14,>=0.11.1\n",
      "  Downloading tokenizers-0.13.2-cp37-cp37m-win_amd64.whl (3.3 MB)\n",
      "     ---------------------------------------- 3.3/3.3 MB 14.0 MB/s eta 0:00:00\n",
      "Collecting pyyaml>=5.1\n",
      "  Using cached PyYAML-6.0-cp37-cp37m-win_amd64.whl (153 kB)\n",
      "Requirement already satisfied: requests in c:\\users\\aaa\\anaconda3\\envs\\tfgpu3\\lib\\site-packages (from transformers) (2.28.1)\n",
      "Collecting regex!=2019.12.17\n",
      "  Downloading regex-2022.10.31-cp37-cp37m-win_amd64.whl (268 kB)\n",
      "     -------------------------------------- 268.0/268.0 kB 8.3 MB/s eta 0:00:00\n",
      "Collecting huggingface-hub<1.0,>=0.11.0\n",
      "  Using cached huggingface_hub-0.12.1-py3-none-any.whl (190 kB)\n",
      "Requirement already satisfied: numpy>=1.17 in c:\\users\\aaa\\anaconda3\\envs\\tfgpu3\\lib\\site-packages (from transformers) (1.21.5)\n",
      "Requirement already satisfied: importlib-metadata in c:\\users\\aaa\\anaconda3\\envs\\tfgpu3\\lib\\site-packages (from transformers) (4.11.3)\n",
      "Requirement already satisfied: packaging>=20.0 in c:\\users\\aaa\\anaconda3\\envs\\tfgpu3\\lib\\site-packages (from transformers) (22.0)\n",
      "Collecting tqdm>=4.27\n",
      "  Using cached tqdm-4.64.1-py2.py3-none-any.whl (78 kB)\n",
      "Requirement already satisfied: typing-extensions>=3.7.4.3 in c:\\users\\aaa\\anaconda3\\envs\\tfgpu3\\lib\\site-packages (from huggingface-hub<1.0,>=0.11.0->transformers) (3.7.4.3)\n",
      "Requirement already satisfied: colorama in c:\\users\\aaa\\anaconda3\\envs\\tfgpu3\\lib\\site-packages (from tqdm>=4.27->transformers) (0.4.6)\n",
      "Requirement already satisfied: zipp>=0.5 in c:\\users\\aaa\\anaconda3\\envs\\tfgpu3\\lib\\site-packages (from importlib-metadata->transformers) (3.11.0)\n",
      "Requirement already satisfied: charset-normalizer<3,>=2 in c:\\users\\aaa\\anaconda3\\envs\\tfgpu3\\lib\\site-packages (from requests->transformers) (2.0.4)\n",
      "Requirement already satisfied: urllib3<1.27,>=1.21.1 in c:\\users\\aaa\\anaconda3\\envs\\tfgpu3\\lib\\site-packages (from requests->transformers) (1.26.14)\n",
      "Requirement already satisfied: certifi>=2017.4.17 in c:\\users\\aaa\\anaconda3\\envs\\tfgpu3\\lib\\site-packages (from requests->transformers) (2022.12.7)\n",
      "Requirement already satisfied: idna<4,>=2.5 in c:\\users\\aaa\\anaconda3\\envs\\tfgpu3\\lib\\site-packages (from requests->transformers) (3.4)\n",
      "Installing collected packages: tokenizers, tqdm, regex, pyyaml, filelock, huggingface-hub, transformers\n",
      "Successfully installed filelock-3.9.0 huggingface-hub-0.12.1 pyyaml-6.0 regex-2022.10.31 tokenizers-0.13.2 tqdm-4.64.1 transformers-4.26.1\n"
     ]
    }
   ],
   "source": [
    "!pip install transformers"
   ]
  },
  {
   "cell_type": "code",
   "execution_count": 6,
   "metadata": {
    "scrolled": true
   },
   "outputs": [
    {
     "name": "stdout",
     "output_type": "stream",
     "text": [
      "Collecting seaborn\n",
      "  Using cached seaborn-0.12.2-py3-none-any.whl (293 kB)\n",
      "Requirement already satisfied: matplotlib!=3.6.1,>=3.1 in c:\\users\\aaa\\anaconda3\\envs\\tfgpu3\\lib\\site-packages (from seaborn) (3.5.3)\n",
      "Requirement already satisfied: pandas>=0.25 in c:\\users\\aaa\\anaconda3\\envs\\tfgpu3\\lib\\site-packages (from seaborn) (1.3.5)\n",
      "Requirement already satisfied: typing_extensions in c:\\users\\aaa\\anaconda3\\envs\\tfgpu3\\lib\\site-packages (from seaborn) (3.7.4.3)\n",
      "Requirement already satisfied: numpy!=1.24.0,>=1.17 in c:\\users\\aaa\\anaconda3\\envs\\tfgpu3\\lib\\site-packages (from seaborn) (1.21.5)\n",
      "Requirement already satisfied: pillow>=6.2.0 in c:\\users\\aaa\\anaconda3\\envs\\tfgpu3\\lib\\site-packages (from matplotlib!=3.6.1,>=3.1->seaborn) (9.4.0)\n",
      "Requirement already satisfied: kiwisolver>=1.0.1 in c:\\users\\aaa\\anaconda3\\envs\\tfgpu3\\lib\\site-packages (from matplotlib!=3.6.1,>=3.1->seaborn) (1.4.4)\n",
      "Requirement already satisfied: pyparsing>=2.2.1 in c:\\users\\aaa\\anaconda3\\envs\\tfgpu3\\lib\\site-packages (from matplotlib!=3.6.1,>=3.1->seaborn) (3.0.9)\n",
      "Requirement already satisfied: cycler>=0.10 in c:\\users\\aaa\\anaconda3\\envs\\tfgpu3\\lib\\site-packages (from matplotlib!=3.6.1,>=3.1->seaborn) (0.11.0)\n",
      "Requirement already satisfied: fonttools>=4.22.0 in c:\\users\\aaa\\anaconda3\\envs\\tfgpu3\\lib\\site-packages (from matplotlib!=3.6.1,>=3.1->seaborn) (4.38.0)\n",
      "Requirement already satisfied: packaging>=20.0 in c:\\users\\aaa\\anaconda3\\envs\\tfgpu3\\lib\\site-packages (from matplotlib!=3.6.1,>=3.1->seaborn) (22.0)\n",
      "Requirement already satisfied: python-dateutil>=2.7 in c:\\users\\aaa\\anaconda3\\envs\\tfgpu3\\lib\\site-packages (from matplotlib!=3.6.1,>=3.1->seaborn) (2.8.2)\n",
      "Requirement already satisfied: pytz>=2017.3 in c:\\users\\aaa\\anaconda3\\envs\\tfgpu3\\lib\\site-packages (from pandas>=0.25->seaborn) (2022.7)\n",
      "Requirement already satisfied: six>=1.5 in c:\\users\\aaa\\anaconda3\\envs\\tfgpu3\\lib\\site-packages (from python-dateutil>=2.7->matplotlib!=3.6.1,>=3.1->seaborn) (1.15.0)\n",
      "Installing collected packages: seaborn\n",
      "Successfully installed seaborn-0.12.2\n"
     ]
    }
   ],
   "source": [
    "!pip install seaborn"
   ]
  },
  {
   "cell_type": "code",
   "execution_count": 19,
   "metadata": {
    "executionInfo": {
     "elapsed": 9572,
     "status": "ok",
     "timestamp": 1676796343865,
     "user": {
      "displayName": "최다솔",
      "userId": "02081007897853777168"
     },
     "user_tz": -540
    },
    "id": "4mEPY14juCFS"
   },
   "outputs": [],
   "source": [
    "import os\n",
    "import pandas as pd\n",
    "import numpy as np\n",
    "import re\n",
    "from tqdm import tqdm\n",
    "import urllib.request\n",
    "import seaborn as sns\n",
    "import matplotlib.pyplot as plt\n",
    "import tensorflow as tf\n",
    "from tensorflow.keras.optimizers import Adam\n",
    "from tensorflow.keras.callbacks import EarlyStopping, ModelCheckpoint\n",
    "from transformers import BertTokenizer, TFBertForSequenceClassification, BertModel, AutoTokenizer, TFBertModel, BertConfig\n",
    "from sklearn.model_selection import train_test_split\n",
    "from sklearn.metrics import accuracy_score, f1_score, precision_score, recall_score, \\\n",
    "                            roc_auc_score, confusion_matrix, classification_report, \\\n",
    "                            matthews_corrcoef, cohen_kappa_score, log_loss"
   ]
  },
  {
   "cell_type": "code",
   "execution_count": 8,
   "metadata": {
    "colab": {
     "base_uri": "https://localhost:8080/"
    },
    "executionInfo": {
     "elapsed": 4704,
     "status": "ok",
     "timestamp": 1676796553940,
     "user": {
      "displayName": "최다솔",
      "userId": "02081007897853777168"
     },
     "user_tz": -540
    },
    "id": "2BPgrU0iuHHi",
    "outputId": "65c151b1-6ead-4016-f0c9-1511626fd1e7",
    "scrolled": true
   },
   "outputs": [
    {
     "data": {
      "application/vnd.jupyter.widget-view+json": {
       "model_id": "55b63c0bb2374a78bb5cafbab0d39c91",
       "version_major": 2,
       "version_minor": 0
      },
      "text/plain": [
       "Downloading (…)solve/main/vocab.txt:   0%|          | 0.00/232k [00:00<?, ?B/s]"
      ]
     },
     "metadata": {},
     "output_type": "display_data"
    },
    {
     "data": {
      "application/vnd.jupyter.widget-view+json": {
       "model_id": "1c125d1daa1544089fa7c8ca76dadad7",
       "version_major": 2,
       "version_minor": 0
      },
      "text/plain": [
       "Downloading (…)okenizer_config.json:   0%|          | 0.00/28.0 [00:00<?, ?B/s]"
      ]
     },
     "metadata": {},
     "output_type": "display_data"
    },
    {
     "data": {
      "application/vnd.jupyter.widget-view+json": {
       "model_id": "fe0cbd9324df4ab98630e8941e31d793",
       "version_major": 2,
       "version_minor": 0
      },
      "text/plain": [
       "Downloading (…)lve/main/config.json:   0%|          | 0.00/570 [00:00<?, ?B/s]"
      ]
     },
     "metadata": {},
     "output_type": "display_data"
    },
    {
     "data": {
      "application/vnd.jupyter.widget-view+json": {
       "model_id": "faff8619e63a4683b996939c80b114ac",
       "version_major": 2,
       "version_minor": 0
      },
      "text/plain": [
       "Downloading (…)\"tf_model.h5\";:   0%|          | 0.00/536M [00:00<?, ?B/s]"
      ]
     },
     "metadata": {},
     "output_type": "display_data"
    },
    {
     "name": "stderr",
     "output_type": "stream",
     "text": [
      "Some layers from the model checkpoint at bert-base-uncased were not used when initializing TFBertModel: ['mlm___cls', 'nsp___cls']\n",
      "- This IS expected if you are initializing TFBertModel from the checkpoint of a model trained on another task or with another architecture (e.g. initializing a BertForSequenceClassification model from a BertForPreTraining model).\n",
      "- This IS NOT expected if you are initializing TFBertModel from the checkpoint of a model that you expect to be exactly identical (initializing a BertForSequenceClassification model from a BertForSequenceClassification model).\n",
      "All the layers of TFBertModel were initialized from the model checkpoint at bert-base-uncased.\n",
      "If your task is similar to the task the model of the checkpoint was trained on, you can already use TFBertModel for predictions without further training.\n"
     ]
    }
   ],
   "source": [
    "bert_tokenizer = BertTokenizer.from_pretrained(\"bert-base-uncased\")  \n",
    "\n",
    "config = BertConfig.from_pretrained(\"bert-base-uncased\",output_hidden_states=False) # dropout=0.2, attention_dropout=0.2\n",
    "bert_model = TFBertModel.from_pretrained('bert-base-uncased', config=config)"
   ]
  },
  {
   "cell_type": "code",
   "execution_count": 27,
   "metadata": {
    "colab": {
     "base_uri": "https://localhost:8080/"
    },
    "executionInfo": {
     "elapsed": 2,
     "status": "ok",
     "timestamp": 1676796554323,
     "user": {
      "displayName": "최다솔",
      "userId": "02081007897853777168"
     },
     "user_tz": -540
    },
    "id": "vqnnTjMPugqD",
    "outputId": "e376e9b0-a0b8-42c3-b815-6f063b4b3f71"
   },
   "outputs": [
    {
     "data": {
      "text/plain": [
       "(15567, 4)"
      ]
     },
     "execution_count": 27,
     "metadata": {},
     "output_type": "execute_result"
    }
   ],
   "source": [
    "reviews = pd.read_csv('E:/olive_young/Review_NLP/reviews_final.csv')\n",
    "reviews.shape"
   ]
  },
  {
   "cell_type": "code",
   "execution_count": 28,
   "metadata": {
    "executionInfo": {
     "elapsed": 2,
     "status": "ok",
     "timestamp": 1676796556474,
     "user": {
      "displayName": "최다솔",
      "userId": "02081007897853777168"
     },
     "user_tz": -540
    },
    "id": "I6GxOifQugse"
   },
   "outputs": [],
   "source": [
    "# 데이터 분리\n",
    "X = reviews['reviews']\n",
    "y = reviews['key_sent']\n",
    "\n",
    "# X2 = reviews[reviews.key_sent == 1].reviews\n",
    "# y2 = reviews[reviews.key_sent == 1].sentiment"
   ]
  },
  {
   "cell_type": "code",
   "execution_count": 32,
   "metadata": {
    "executionInfo": {
     "elapsed": 2,
     "status": "ok",
     "timestamp": 1676796557158,
     "user": {
      "displayName": "최다솔",
      "userId": "02081007897853777168"
     },
     "user_tz": -540
    },
    "id": "jey_g5Oqugu0"
   },
   "outputs": [],
   "source": [
    "sentences = X"
   ]
  },
  {
   "cell_type": "code",
   "execution_count": 33,
   "metadata": {
    "colab": {
     "base_uri": "https://localhost:8080/"
    },
    "executionInfo": {
     "elapsed": 8080,
     "status": "ok",
     "timestamp": 1676796566203,
     "user": {
      "displayName": "최다솔",
      "userId": "02081007897853777168"
     },
     "user_tz": -540
    },
    "id": "c76YWTpcugxJ",
    "outputId": "9ce430e2-f408-48d4-b89f-480afd41d59d"
   },
   "outputs": [
    {
     "name": "stderr",
     "output_type": "stream",
     "text": [
      "  0%|                                                                                        | 0/15567 [00:00<?, ?it/s]C:\\Users\\aaa\\anaconda3\\envs\\tfgpu3\\lib\\site-packages\\transformers\\tokenization_utils_base.py:2345: FutureWarning: The `pad_to_max_length` argument is deprecated and will be removed in a future version, use `padding=True` or `padding='longest'` to pad to the longest sequence in the batch, or use `padding='max_length'` to pad to a max length. In this case, you can give a specific length with `max_length` (e.g. `max_length=45`) or leave max_length to None to pad to the maximal input size of the model (e.g. 512 for Bert).\n",
      "  FutureWarning,\n",
      "100%|██████████████████████████████████████████████████████████████████████████| 15567/15567 [00:07<00:00, 2199.22it/s]\n"
     ]
    }
   ],
   "source": [
    "input_ids=[]\n",
    "attention_masks=[]\n",
    "\n",
    "for sent in tqdm(sentences):\n",
    "    bert_inp=bert_tokenizer.encode_plus(sent,add_special_tokens = True,max_length =260,pad_to_max_length = True,\n",
    "                                        return_attention_mask = True)\n",
    "    input_ids.append(bert_inp['input_ids'])\n",
    "    attention_masks.append(bert_inp['attention_mask'])\n",
    "\n",
    "input_ids=np.asarray(input_ids)\n",
    "attention_masks=np.array(attention_masks)\n",
    "target = np.array(pd.get_dummies(y))"
   ]
  },
  {
   "cell_type": "code",
   "execution_count": 13,
   "metadata": {
    "colab": {
     "base_uri": "https://localhost:8080/",
     "height": 35
    },
    "executionInfo": {
     "elapsed": 307,
     "status": "ok",
     "timestamp": 1676796571147,
     "user": {
      "displayName": "최다솔",
      "userId": "02081007897853777168"
     },
     "user_tz": -540
    },
    "id": "mcJOcecYugzw",
    "outputId": "eb70cb49-679c-4fde-9bff-1817346fab7c"
   },
   "outputs": [
    {
     "data": {
      "text/plain": [
       "'[CLS]'"
      ]
     },
     "execution_count": 13,
     "metadata": {},
     "output_type": "execute_result"
    }
   ],
   "source": [
    "bert_tokenizer.convert_ids_to_tokens(101)"
   ]
  },
  {
   "cell_type": "code",
   "execution_count": 34,
   "metadata": {
    "executionInfo": {
     "elapsed": 1,
     "status": "ok",
     "timestamp": 1676796572619,
     "user": {
      "displayName": "최다솔",
      "userId": "02081007897853777168"
     },
     "user_tz": -540
    },
    "id": "Gry6-xXxug16"
   },
   "outputs": [],
   "source": [
    "from sklearn.model_selection import train_test_split\n",
    "X_train, X_test, y_train, y_test, train_mask, test_mask = train_test_split(input_ids, target, attention_masks, test_size=0.2)"
   ]
  },
  {
   "cell_type": "code",
   "execution_count": 35,
   "metadata": {},
   "outputs": [
    {
     "name": "stdout",
     "output_type": "stream",
     "text": [
      "Model: \"tf_bert_model\"\n",
      "_________________________________________________________________\n",
      "Layer (type)                 Output Shape              Param #   \n",
      "=================================================================\n",
      "bert (TFBertMainLayer)       multiple                  109482240 \n",
      "=================================================================\n",
      "Total params: 109,482,240\n",
      "Trainable params: 0\n",
      "Non-trainable params: 109,482,240\n",
      "_________________________________________________________________\n"
     ]
    }
   ],
   "source": [
    "bert_model.summary()"
   ]
  },
  {
   "cell_type": "code",
   "execution_count": 36,
   "metadata": {
    "executionInfo": {
     "elapsed": 2,
     "status": "ok",
     "timestamp": 1676796574155,
     "user": {
      "displayName": "최다솔",
      "userId": "02081007897853777168"
     },
     "user_tz": -540
    },
    "id": "NPE9jaiDvPvD"
   },
   "outputs": [
    {
     "name": "stdout",
     "output_type": "stream",
     "text": [
      "Model: \"model_1\"\n",
      "__________________________________________________________________________________________________\n",
      "Layer (type)                    Output Shape         Param #     Connected to                     \n",
      "==================================================================================================\n",
      "input_3 (InputLayer)            [(None, 260)]        0                                            \n",
      "__________________________________________________________________________________________________\n",
      "input_4 (InputLayer)            [(None, 260)]        0                                            \n",
      "__________________________________________________________________________________________________\n",
      "tf_bert_model (TFBertModel)     TFBaseModelOutputWit 109482240   input_3[0][0]                    \n",
      "                                                                 input_4[0][0]                    \n",
      "__________________________________________________________________________________________________\n",
      "tf.__operators__.getitem_1 (Sli (None, 768)          0           tf_bert_model[1][0]              \n",
      "__________________________________________________________________________________________________\n",
      "dense_2 (Dense)                 (None, 32)           24608       tf.__operators__.getitem_1[0][0] \n",
      "__________________________________________________________________________________________________\n",
      "dropout_38 (Dropout)            (None, 32)           0           dense_2[0][0]                    \n",
      "__________________________________________________________________________________________________\n",
      "dense_3 (Dense)                 (None, 2)            66          dropout_38[0][0]                 \n",
      "==================================================================================================\n",
      "Total params: 109,506,914\n",
      "Trainable params: 24,674\n",
      "Non-trainable params: 109,482,240\n",
      "__________________________________________________________________________________________________\n"
     ]
    }
   ],
   "source": [
    "def create_model(model_):\n",
    "    input_ids = tf.keras.Input(shape=(260,),dtype='int32')\n",
    "    attention_masks = tf.keras.Input(shape=(260,),dtype='int32')\n",
    "    \n",
    "    output = model_(input_ids,attention_masks)\n",
    "    output = output[0]    \n",
    "    \n",
    "    output = output[:,0,:] \n",
    "    \n",
    "    output = tf.keras.layers.Dense(32,activation='relu')(output)\n",
    "    output = tf.keras.layers.Dropout(0.2)(output)\n",
    "    output = tf.keras.layers.Dense(2,activation='softmax')(output)\n",
    "    model = tf.keras.models.Model(inputs = [input_ids,attention_masks],outputs = output)\n",
    "    \n",
    "    \n",
    "    for layer in model.layers[:3]:\n",
    "        layer.trainable = False\n",
    "    return model\n",
    "\n",
    "model = create_model(bert_model)\n",
    "model.summary()  "
   ]
  },
  {
   "cell_type": "code",
   "execution_count": 37,
   "metadata": {},
   "outputs": [],
   "source": [
    "def model_compile(model):\n",
    "    \n",
    "    adam = Adam(learning_rate=0.01)\n",
    "    model.compile(loss='categorical_crossentropy',optimizer=adam,metrics=['accuracy'])\n",
    "    \n",
    "    return model"
   ]
  },
  {
   "cell_type": "code",
   "execution_count": 38,
   "metadata": {},
   "outputs": [
    {
     "data": {
      "text/plain": [
       "<tensorflow.python.keras.engine.functional.Functional at 0x27a0624bac8>"
      ]
     },
     "execution_count": 38,
     "metadata": {},
     "output_type": "execute_result"
    }
   ],
   "source": [
    "model_compile(model)"
   ]
  },
  {
   "cell_type": "code",
   "execution_count": 39,
   "metadata": {},
   "outputs": [],
   "source": [
    "early_stopping = EarlyStopping(\n",
    "    monitor = \"val_accuracy\", \n",
    "    min_delta = 1e-3,\n",
    "    patience = 5)"
   ]
  },
  {
   "cell_type": "code",
   "execution_count": 40,
   "metadata": {},
   "outputs": [],
   "source": [
    "model_path = 'E:/olive_young/Review_NLP/models/bert_model.h5'\n",
    "\n",
    "model_checkpoint = ModelCheckpoint(\n",
    "    filepath = model_path,\n",
    "    monitor = \"val_accuracy\",\n",
    "    mode = \"max\",\n",
    "    save_best_only = True, \n",
    "    verbose = 1\n",
    ")"
   ]
  },
  {
   "cell_type": "code",
   "execution_count": 41,
   "metadata": {
    "scrolled": true
   },
   "outputs": [
    {
     "name": "stdout",
     "output_type": "stream",
     "text": [
      "Epoch 1/50\n",
      "390/390 [==============================] - 476s 1s/step - loss: 0.6538 - accuracy: 0.6241 - val_loss: 0.6387 - val_accuracy: 0.6101\n",
      "\n",
      "Epoch 00001: val_accuracy improved from -inf to 0.61015, saving model to E:/olive_young/Review_NLP/models\\bert_model.h5\n",
      "Epoch 2/50\n",
      "390/390 [==============================] - 466s 1s/step - loss: 0.6335 - accuracy: 0.6192 - val_loss: 0.6167 - val_accuracy: 0.6551\n",
      "\n",
      "Epoch 00002: val_accuracy improved from 0.61015 to 0.65511, saving model to E:/olive_young/Review_NLP/models\\bert_model.h5\n",
      "Epoch 3/50\n",
      "390/390 [==============================] - 468s 1s/step - loss: 0.6284 - accuracy: 0.6252 - val_loss: 0.6216 - val_accuracy: 0.6339\n",
      "\n",
      "Epoch 00003: val_accuracy did not improve from 0.65511\n",
      "Epoch 4/50\n",
      "390/390 [==============================] - 470s 1s/step - loss: 0.6229 - accuracy: 0.6470 - val_loss: 0.6118 - val_accuracy: 0.6484\n",
      "\n",
      "Epoch 00004: val_accuracy did not improve from 0.65511\n",
      "Epoch 5/50\n",
      "390/390 [==============================] - 470s 1s/step - loss: 0.6215 - accuracy: 0.6423 - val_loss: 0.5907 - val_accuracy: 0.6795\n",
      "\n",
      "Epoch 00005: val_accuracy improved from 0.65511 to 0.67951, saving model to E:/olive_young/Review_NLP/models\\bert_model.h5\n",
      "Epoch 6/50\n",
      "390/390 [==============================] - 470s 1s/step - loss: 0.6130 - accuracy: 0.6634 - val_loss: 0.5944 - val_accuracy: 0.6570\n",
      "\n",
      "Epoch 00006: val_accuracy did not improve from 0.67951\n",
      "Epoch 7/50\n",
      "390/390 [==============================] - 470s 1s/step - loss: 0.6284 - accuracy: 0.6240 - val_loss: 0.6038 - val_accuracy: 0.6101\n",
      "\n",
      "Epoch 00007: val_accuracy did not improve from 0.67951\n",
      "Epoch 8/50\n",
      "390/390 [==============================] - 470s 1s/step - loss: 0.6235 - accuracy: 0.6117 - val_loss: 0.6085 - val_accuracy: 0.6101\n",
      "\n",
      "Epoch 00008: val_accuracy did not improve from 0.67951\n",
      "Epoch 9/50\n",
      "390/390 [==============================] - 470s 1s/step - loss: 0.6265 - accuracy: 0.6118 - val_loss: 0.6137 - val_accuracy: 0.6840\n",
      "\n",
      "Epoch 00009: val_accuracy improved from 0.67951 to 0.68401, saving model to E:/olive_young/Review_NLP/models\\bert_model.h5\n",
      "Epoch 10/50\n",
      "390/390 [==============================] - 468s 1s/step - loss: 0.6252 - accuracy: 0.6097 - val_loss: 0.5987 - val_accuracy: 0.6101\n",
      "\n",
      "Epoch 00010: val_accuracy did not improve from 0.68401\n",
      "Epoch 11/50\n",
      "390/390 [==============================] - 470s 1s/step - loss: 0.6196 - accuracy: 0.6223 - val_loss: 0.5877 - val_accuracy: 0.6898\n",
      "\n",
      "Epoch 00011: val_accuracy improved from 0.68401 to 0.68979, saving model to E:/olive_young/Review_NLP/models\\bert_model.h5\n",
      "Epoch 12/50\n",
      "390/390 [==============================] - 468s 1s/step - loss: 0.6264 - accuracy: 0.6116 - val_loss: 0.5927 - val_accuracy: 0.6846\n",
      "\n",
      "Epoch 00012: val_accuracy did not improve from 0.68979\n",
      "Epoch 13/50\n",
      "390/390 [==============================] - 470s 1s/step - loss: 0.6200 - accuracy: 0.6132 - val_loss: 0.5928 - val_accuracy: 0.6101\n",
      "\n",
      "Epoch 00013: val_accuracy did not improve from 0.68979\n",
      "Epoch 14/50\n",
      "390/390 [==============================] - 470s 1s/step - loss: 0.6259 - accuracy: 0.6173 - val_loss: 0.6163 - val_accuracy: 0.6606\n",
      "\n",
      "Epoch 00014: val_accuracy did not improve from 0.68979\n",
      "Epoch 15/50\n",
      "390/390 [==============================] - 470s 1s/step - loss: 0.6220 - accuracy: 0.6147 - val_loss: 0.5962 - val_accuracy: 0.6101\n",
      "\n",
      "Epoch 00015: val_accuracy did not improve from 0.68979\n",
      "Epoch 16/50\n",
      "390/390 [==============================] - 470s 1s/step - loss: 0.6220 - accuracy: 0.6084 - val_loss: 0.6097 - val_accuracy: 0.6750\n",
      "\n",
      "Epoch 00016: val_accuracy did not improve from 0.68979\n"
     ]
    }
   ],
   "source": [
    "history = model.fit([X_train,train_mask],y_train,batch_size=32,epochs=50,validation_data=([X_test,test_mask],y_test),\n",
    "                   callbacks=[early_stopping, model_checkpoint], shuffle=True)"
   ]
  },
  {
   "cell_type": "code",
   "execution_count": 69,
   "metadata": {
    "id": "fFlJ04ahQ-Of"
   },
   "outputs": [
    {
     "data": {
      "image/png": "[encoded data removed]",
      "text/plain": [
       "<Figure size 800x400 with 1 Axes>"
      ]
     },
     "metadata": {},
     "output_type": "display_data"
    }
   ],
   "source": [
    "bert_acc = history.history['accuracy']\n",
    "bert_val_acc = history.history['val_accuracy']\n",
    "\n",
    "epochs = range(1, len(bert_acc)+1)\n",
    "plt.figure(figsize=(8, 4))\n",
    "plt.title('Bert Accuracy')\n",
    "plt.plot(epochs, bert_acc, 'b', label='train_acc')\n",
    "plt.plot(epochs, bert_val_acc, 'r', label='val_acc')\n",
    "plt.grid()\n",
    "plt.ylim(0.55, 0.70)\n",
    "plt.legend()\n",
    "plt.savefig('E:/olive_young/Review_NLP/metric/Bert_Accuracy.png')\n",
    "plt.show()"
   ]
  },
  {
   "cell_type": "code",
   "execution_count": 56,
   "metadata": {
    "id": "Ld0bUWa6YK9u"
   },
   "outputs": [
    {
     "name": "stdout",
     "output_type": "stream",
     "text": [
      "WARNING:tensorflow:Error in loading the saved optimizer state. As a result, your model is starting with a freshly initialized optimizer.\n"
     ]
    }
   ],
   "source": [
    "bert_best_model = tf.keras.models.load_model(model_path,\n",
    "                                                  custom_objects={'TFBertModel': TFBertModel})"
   ]
  },
  {
   "cell_type": "code",
   "execution_count": 63,
   "metadata": {},
   "outputs": [
    {
     "name": "stdout",
     "output_type": "stream",
     "text": [
      "98/98 [==============================] - 86s 854ms/step - loss: 0.5877 - accuracy: 0.6898\n"
     ]
    },
    {
     "data": {
      "text/plain": [
       "[0.5877459645271301, 0.6897880434989929]"
      ]
     },
     "execution_count": 63,
     "metadata": {},
     "output_type": "execute_result"
    }
   ],
   "source": [
    "bert_test_res = bert_best_model.evaluate([X_test,test_mask], y_test)\n",
    "bert_test_res"
   ]
  },
  {
   "cell_type": "code",
   "execution_count": 60,
   "metadata": {
    "colab": {
     "base_uri": "https://localhost:8080/"
    },
    "executionInfo": {
     "elapsed": 22381,
     "status": "ok",
     "timestamp": 1676697243150,
     "user": {
      "displayName": "최다솔",
      "userId": "02081007897853777168"
     },
     "user_tz": -540
    },
    "id": "FYZOlpbC66kR",
    "outputId": "64ed2ffc-328c-458b-9bcd-1695dfc43e0d"
   },
   "outputs": [],
   "source": [
    "predicted_value = bert_best_model.predict([X_test,test_mask])\n",
    "predicted_label = np.argmax(predicted_value, axis = 1)"
   ]
  },
  {
   "cell_type": "code",
   "execution_count": 97,
   "metadata": {},
   "outputs": [],
   "source": [
    "new_y_test = []\n",
    "for value in y_test:\n",
    "    if value[0] == 0:\n",
    "        new_y_test.append(1)\n",
    "    else:\n",
    "        new_y_test.append(0)"
   ]
  },
  {
   "cell_type": "code",
   "execution_count": 98,
   "metadata": {},
   "outputs": [
    {
     "name": "stdout",
     "output_type": "stream",
     "text": [
      "              precision  recall  f1-score  support\n",
      "0                 0.711   0.827     0.765  1900.00\n",
      "1                 0.637   0.474     0.544  1214.00\n",
      "accuracy          0.690   0.690     0.690     0.69\n",
      "macro avg         0.674   0.651     0.654  3114.00\n",
      "weighted avg      0.682   0.690     0.679  3114.00\n"
     ]
    }
   ],
   "source": [
    "CL_REPORT_FILE = 'E:/olive_young/Review_NLP/metric/cl_report_bert_model.csv'\n",
    "\n",
    "cl_report = classification_report(new_y_test, predicted_label, output_dict = True)\n",
    "cl_report_df = pd.DataFrame(cl_report).transpose()\n",
    "cl_report_df = cl_report_df.round(3)\n",
    "cl_report_df.to_csv(CL_REPORT_FILE)\n",
    "print(cl_report_df)"
   ]
  },
  {
   "cell_type": "code",
   "execution_count": 109,
   "metadata": {},
   "outputs": [
    {
     "data": {
      "image/png": "[encoded data removed]",
      "text/plain": [
       "<Figure size 600x400 with 2 Axes>"
      ]
     },
     "metadata": {},
     "output_type": "display_data"
    }
   ],
   "source": [
    "# 이미지 파일 저장정보\n",
    "FIGURE_FILE = 'E:/olive_young/Review_NLP/figure/cf_matrix_bert_model.png'\n",
    "\n",
    "cf_matrix = confusion_matrix(new_y_test, predicted_label)\n",
    "fig, ax = plt.subplots(figsize = (6,4))\n",
    "sns.heatmap(cf_matrix, annot = True, fmt = 'd')\n",
    "plt.ylabel('Actual')\n",
    "plt.xlabel('Predicted')\n",
    "plt.savefig(FIGURE_FILE)\n",
    "plt.show()"
   ]
  },
  {
   "cell_type": "code",
   "execution_count": 101,
   "metadata": {},
   "outputs": [],
   "source": [
    "# Multi-class Classification의 대중적인 평가 지표 모두 확인\n",
    "accuracy_score_v = round(accuracy_score(new_y_test, predicted_label), 2) # Accuracy\n",
    "precision_score_v = round(precision_score(new_y_test, predicted_label, average=\"weighted\"), 2) # Precision\n",
    "recall_score_v = round(recall_score(new_y_test, predicted_label, average=\"weighted\"), 2) # Recall\n",
    "f1_score_v = round(f1_score(new_y_test, predicted_label, average=\"weighted\"), 2) # F1 Score\n",
    "roc_auc_score_v = round(roc_auc_score(new_y_test, predicted_label, average=\"weighted\", multi_class=\"ovr\"), 2) # ROC AUC Score\n",
    "cohen_kappa_score_v = round(cohen_kappa_score(new_y_test, predicted_label), 2) # Cohen's Kappa Score\n",
    "matthews_corrcoef_v = round(matthews_corrcoef(new_y_test, predicted_label), 2) # Matthew's Correlation Coefficient\n",
    "log_loss_v = round(log_loss(new_y_test, new_y_test), 2) # Log Loss"
   ]
  },
  {
   "cell_type": "code",
   "execution_count": 106,
   "metadata": {},
   "outputs": [],
   "source": [
    "METRIC_FILE = 'E:/olive_young/Review_NLP/metric/bert_model_metric.csv'\n",
    "# 평가지표 결과 저장\n",
    "metric_total = pd.DataFrame({\n",
    "    'PLM': \"bert\",\n",
    "    'Optimizer': \"adam\",\n",
    "    'Accuracy': accuracy_score_v,\n",
    "    'Precision': precision_score_v,\n",
    "    'Recall': recall_score_v,\n",
    "    'F1_score': f1_score_v,\n",
    "    'ROC_AUC_score': roc_auc_score_v,\n",
    "    'Cohen_kappa_coef': cohen_kappa_score_v,\n",
    "    'Matthews_corrcoef': matthews_corrcoef_v,\n",
    "    'Log_loss': log_loss_v},\n",
    "    index = ['-']\n",
    "    )  "
   ]
  },
  {
   "cell_type": "code",
   "execution_count": 107,
   "metadata": {},
   "outputs": [],
   "source": [
    "metric_total.to_csv(METRIC_FILE)"
   ]
  },
  {
   "cell_type": "code",
   "execution_count": 108,
   "metadata": {},
   "outputs": [
    {
     "name": "stdout",
     "output_type": "stream",
     "text": [
      "    PLM Optimizer  Accuracy  Precision  Recall  F1_score  ROC_AUC_score  \\\n",
      "-  bert      adam      0.69       0.68    0.69      0.68           0.65   \n",
      "\n",
      "   Cohen_kappa_coef  Matthews_corrcoef  Log_loss  \n",
      "-              0.32               0.32       0.0  \n"
     ]
    }
   ],
   "source": [
    "print(metric_total)"
   ]
  }
 ],
 "metadata": {
  "accelerator": "TPU",
  "colab": {
   "machine_shape": "hm",
   "provenance": []
  },
  "gpuClass": "standard",
  "kernelspec": {
   "display_name": "Python 3 (ipykernel)",
   "language": "python",
   "name": "python3"
  },
  "language_info": {
   "codemirror_mode": {
    "name": "ipython",
    "version": 3
   },
   "file_extension": ".py",
   "mimetype": "text/x-python",
   "name": "python",
   "nbconvert_exporter": "python",
   "pygments_lexer": "ipython3",
   "version": "3.9.12"
  }
 },
 "nbformat": 4,
 "nbformat_minor": 1
}
