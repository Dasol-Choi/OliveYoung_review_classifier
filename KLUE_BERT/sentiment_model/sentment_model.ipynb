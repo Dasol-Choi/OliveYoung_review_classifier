{
 "cells": [
  {
   "cell_type": "code",
   "execution_count": 1,
   "metadata": {
    "colab": {
     "base_uri": "https://localhost:8080/"
    },
    "id": "jZQUHsJARy0q",
    "outputId": "c279ccff-b60b-4c5a-de86-474d8b93730a"
   },
   "outputs": [],
   "source": [
    "# !pip install transformers\n",
    "# !pip install tensorflow_addons"
   ]
  },
  {
   "cell_type": "code",
   "execution_count": 1,
   "metadata": {
    "id": "7r-1j56DSeTl"
   },
   "outputs": [
    {
     "name": "stderr",
     "output_type": "stream",
     "text": [
      "2023-02-25 18:17:10.182191: I tensorflow/core/platform/cpu_feature_guard.cc:193] This TensorFlow binary is optimized with oneAPI Deep Neural Network Library (oneDNN) to use the following CPU instructions in performance-critical operations:  AVX2 FMA\n",
      "To enable them in other operations, rebuild TensorFlow with the appropriate compiler flags.\n",
      "2023-02-25 18:17:11.113386: W tensorflow/compiler/xla/stream_executor/platform/default/dso_loader.cc:64] Could not load dynamic library 'libnvinfer.so.7'; dlerror: libnvinfer.so.7: cannot open shared object file: No such file or directory; LD_LIBRARY_PATH: /opt/amazon/efa/lib:/opt/amazon/openmpi/lib:/usr/local/cuda/efa/lib:/usr/local/cuda/lib:/usr/local/cuda:/usr/local/cuda/lib64:/usr/local/cuda/extras/CUPTI/lib64:/usr/local/cuda/targets/x86_64-linux/lib:/usr/local/lib:/usr/lib:\n",
      "2023-02-25 18:17:11.113525: W tensorflow/compiler/xla/stream_executor/platform/default/dso_loader.cc:64] Could not load dynamic library 'libnvinfer_plugin.so.7'; dlerror: libnvinfer_plugin.so.7: cannot open shared object file: No such file or directory; LD_LIBRARY_PATH: /opt/amazon/efa/lib:/opt/amazon/openmpi/lib:/usr/local/cuda/efa/lib:/usr/local/cuda/lib:/usr/local/cuda:/usr/local/cuda/lib64:/usr/local/cuda/extras/CUPTI/lib64:/usr/local/cuda/targets/x86_64-linux/lib:/usr/local/lib:/usr/lib:\n",
      "2023-02-25 18:17:11.113537: W tensorflow/compiler/tf2tensorrt/utils/py_utils.cc:38] TF-TRT Warning: Cannot dlopen some TensorRT libraries. If you would like to use Nvidia GPU with TensorRT, please make sure the missing libraries mentioned above are installed properly.\n"
     ]
    }
   ],
   "source": [
    "import os\n",
    "import pandas as pd\n",
    "import numpy as np\n",
    "import re\n",
    "from tqdm import tqdm\n",
    "import urllib.request\n",
    "import seaborn as sns\n",
    "import matplotlib.pyplot as plt\n",
    "import tensorflow_addons as tfa\n",
    "import tensorflow as tf\n",
    "from tensorflow.keras.callbacks import EarlyStopping, ModelCheckpoint\n",
    "from transformers import BertTokenizer, TFBertForSequenceClassification, BertModel, AutoTokenizer, TFBertModel, BertConfig\n",
    "from sklearn.model_selection import train_test_split\n",
    "from sklearn.metrics import accuracy_score, f1_score, precision_score, recall_score, \\\n",
    "                            roc_auc_score, confusion_matrix, classification_report, \\\n",
    "                            matthews_corrcoef, cohen_kappa_score, log_loss\n",
    "import warnings\n",
    "warnings.filterwarnings(action='ignore')      "
   ]
  },
  {
   "cell_type": "markdown",
   "metadata": {},
   "source": [
    "### Load KlueBert-base Model & Tokenizer "
   ]
  },
  {
   "cell_type": "code",
   "execution_count": 2,
   "metadata": {
    "colab": {
     "base_uri": "https://localhost:8080/",
     "height": 287,
     "referenced_widgets": [
      "2e72729bea6144fc8c709058fef99d70",
      "73a1d57781a640abb9adce667bc7223f",
      "601c25356e1e41148a266c6c50867288",
      "5c4650975433442db4818cb9202db0e0",
      "4e02e015b328435585be97bc966bda6f",
      "75c212d84fea40fb8c7e3a6eb8d38f70",
      "1c9e0456af694168aa7db525510e6f11",
      "47e81a0096944f1fa2dc5d5bde644ed6",
      "d201442b40534189b5a39e6c37cb9b87",
      "f07181c3df2e43888f4f9dac49e250f6",
      "3d309d3d0afd47b39226d1a4d48cd741",
      "8492d5a9e5db4df6b8bada90e6e540da",
      "950521aac36c4cea8185bd9e1bd0eb1f",
      "71b417631ba14847a02423c0c9ec4502",
      "63a47000ba11459d9949276e3934403b",
      "586419a6faa84b31ab85b62baf620526",
      "3cac15b31eeb469c83c291740cba6577",
      "b190a21cb63c4d5584bf933e9c4f9624",
      "adf5779a868d4b2c83257e7ce4e1f753",
      "91ad273184ea4112ba601e817294ddc1",
      "0ce0619a95964ffe820ea9dc98880f6b",
      "81f8ee6c540d4f7d8ca24b04c5dd7c3e",
      "9a2c08bc39d74f1495a8cb69e8b63077",
      "1581da365a82489dbf8069182bde46fc",
      "49441fdbf83f434ba5224007f60bbd49",
      "37d59573fb5f4c0f912d682484c01655",
      "01c2d12a7dbf41d38ef15d97579507bc",
      "7de318de9a6e464e9cc8d7c375f90eb3",
      "ace2033e5f474f9190705a13288332a3",
      "b20b4f1fe60f48af8d3f2f71d6cb83f5",
      "7f18052564204de9849556938289a1e4",
      "3b1ef801c46a47cdafb53a163532ed11",
      "5419eac324a647e5bb2e3811af98d2b7",
      "79f90b1e3f3d4c708e0bc0c92995240a",
      "70b589ab76ee452884fd2d6cc0097e7d",
      "741cce3ab92c4c829b3ce41ddd698895",
      "c0943b5db3ba433ca6907ffe43b043a1",
      "41ec3254511640dba067392171575461",
      "db37c185a3df4835b24107084b2f8175",
      "a0a8c89fc56046bab7872ca2e507e3d8",
      "b7f8e23e9bc944aaa08d1112a18f2290",
      "4d239abde9cb46bba74bfb07453ebb54",
      "caa5c37b0a504ec7bd1e08c862e4dabf",
      "ab4d2c6b37ea4e058bf4a9c1269d6cfb",
      "7d0251501e9546fd8a5db963430adff4",
      "b72bbb8f17544f108016d0d776e20dd3",
      "d7f1107f035f41eba6ae5b6f62650454",
      "1cc948b4ed954421b41bbf68cdce7e05",
      "a3b9899ed57f4086839f739a02e63536",
      "3bad3ed3890e4363b6bb83ecd323f51e",
      "60c274d983c043209192d7e9948328db",
      "b5abf8ca418b46abb87ff9cd9cb36eea",
      "4f5de6276e00437589cc133df65a594e",
      "7679585f5bc5470f929fe9764b66d688",
      "5f37a27251794de5abbd6fe84e4ee058"
     ]
    },
    "id": "pxQ6aEelSeWH",
    "outputId": "c9605964-c957-4c51-f9c8-af35ab2b9b6e",
    "scrolled": true
   },
   "outputs": [
    {
     "name": "stderr",
     "output_type": "stream",
     "text": [
      "2023-02-25 18:17:13.483071: I tensorflow/compiler/xla/stream_executor/cuda/cuda_gpu_executor.cc:981] successful NUMA node read from SysFS had negative value (-1), but there must be at least one NUMA node, so returning NUMA node zero\n",
      "2023-02-25 18:17:13.483509: I tensorflow/compiler/xla/stream_executor/cuda/cuda_gpu_executor.cc:981] successful NUMA node read from SysFS had negative value (-1), but there must be at least one NUMA node, so returning NUMA node zero\n",
      "2023-02-25 18:17:13.483887: I tensorflow/compiler/xla/stream_executor/cuda/cuda_gpu_executor.cc:981] successful NUMA node read from SysFS had negative value (-1), but there must be at least one NUMA node, so returning NUMA node zero\n",
      "2023-02-25 18:17:13.484259: I tensorflow/compiler/xla/stream_executor/cuda/cuda_gpu_executor.cc:981] successful NUMA node read from SysFS had negative value (-1), but there must be at least one NUMA node, so returning NUMA node zero\n",
      "2023-02-25 18:17:13.522858: I tensorflow/compiler/xla/stream_executor/cuda/cuda_gpu_executor.cc:981] successful NUMA node read from SysFS had negative value (-1), but there must be at least one NUMA node, so returning NUMA node zero\n",
      "2023-02-25 18:17:13.523240: I tensorflow/compiler/xla/stream_executor/cuda/cuda_gpu_executor.cc:981] successful NUMA node read from SysFS had negative value (-1), but there must be at least one NUMA node, so returning NUMA node zero\n",
      "2023-02-25 18:17:13.523588: I tensorflow/compiler/xla/stream_executor/cuda/cuda_gpu_executor.cc:981] successful NUMA node read from SysFS had negative value (-1), but there must be at least one NUMA node, so returning NUMA node zero\n",
      "2023-02-25 18:17:13.523932: I tensorflow/compiler/xla/stream_executor/cuda/cuda_gpu_executor.cc:981] successful NUMA node read from SysFS had negative value (-1), but there must be at least one NUMA node, so returning NUMA node zero\n",
      "2023-02-25 18:17:13.524273: I tensorflow/compiler/xla/stream_executor/cuda/cuda_gpu_executor.cc:981] successful NUMA node read from SysFS had negative value (-1), but there must be at least one NUMA node, so returning NUMA node zero\n",
      "2023-02-25 18:17:13.524616: I tensorflow/compiler/xla/stream_executor/cuda/cuda_gpu_executor.cc:981] successful NUMA node read from SysFS had negative value (-1), but there must be at least one NUMA node, so returning NUMA node zero\n",
      "2023-02-25 18:17:13.524957: I tensorflow/compiler/xla/stream_executor/cuda/cuda_gpu_executor.cc:981] successful NUMA node read from SysFS had negative value (-1), but there must be at least one NUMA node, so returning NUMA node zero\n",
      "2023-02-25 18:17:13.525296: I tensorflow/compiler/xla/stream_executor/cuda/cuda_gpu_executor.cc:981] successful NUMA node read from SysFS had negative value (-1), but there must be at least one NUMA node, so returning NUMA node zero\n",
      "2023-02-25 18:17:13.526051: I tensorflow/core/platform/cpu_feature_guard.cc:193] This TensorFlow binary is optimized with oneAPI Deep Neural Network Library (oneDNN) to use the following CPU instructions in performance-critical operations:  AVX2 FMA\n",
      "To enable them in other operations, rebuild TensorFlow with the appropriate compiler flags.\n",
      "2023-02-25 18:17:14.391726: I tensorflow/compiler/xla/stream_executor/cuda/cuda_gpu_executor.cc:981] successful NUMA node read from SysFS had negative value (-1), but there must be at least one NUMA node, so returning NUMA node zero\n",
      "2023-02-25 18:17:14.392124: I tensorflow/compiler/xla/stream_executor/cuda/cuda_gpu_executor.cc:981] successful NUMA node read from SysFS had negative value (-1), but there must be at least one NUMA node, so returning NUMA node zero\n",
      "2023-02-25 18:17:14.392479: I tensorflow/compiler/xla/stream_executor/cuda/cuda_gpu_executor.cc:981] successful NUMA node read from SysFS had negative value (-1), but there must be at least one NUMA node, so returning NUMA node zero\n",
      "2023-02-25 18:17:14.392827: I tensorflow/compiler/xla/stream_executor/cuda/cuda_gpu_executor.cc:981] successful NUMA node read from SysFS had negative value (-1), but there must be at least one NUMA node, so returning NUMA node zero\n",
      "2023-02-25 18:17:14.393178: I tensorflow/compiler/xla/stream_executor/cuda/cuda_gpu_executor.cc:981] successful NUMA node read from SysFS had negative value (-1), but there must be at least one NUMA node, so returning NUMA node zero\n",
      "2023-02-25 18:17:14.393518: I tensorflow/compiler/xla/stream_executor/cuda/cuda_gpu_executor.cc:981] successful NUMA node read from SysFS had negative value (-1), but there must be at least one NUMA node, so returning NUMA node zero\n",
      "2023-02-25 18:17:14.393905: I tensorflow/compiler/xla/stream_executor/cuda/cuda_gpu_executor.cc:981] successful NUMA node read from SysFS had negative value (-1), but there must be at least one NUMA node, so returning NUMA node zero\n",
      "2023-02-25 18:17:14.394245: I tensorflow/compiler/xla/stream_executor/cuda/cuda_gpu_executor.cc:981] successful NUMA node read from SysFS had negative value (-1), but there must be at least one NUMA node, so returning NUMA node zero\n",
      "2023-02-25 18:17:14.394583: I tensorflow/compiler/xla/stream_executor/cuda/cuda_gpu_executor.cc:981] successful NUMA node read from SysFS had negative value (-1), but there must be at least one NUMA node, so returning NUMA node zero\n",
      "2023-02-25 18:17:14.394922: I tensorflow/compiler/xla/stream_executor/cuda/cuda_gpu_executor.cc:981] successful NUMA node read from SysFS had negative value (-1), but there must be at least one NUMA node, so returning NUMA node zero\n",
      "2023-02-25 18:17:14.395261: I tensorflow/compiler/xla/stream_executor/cuda/cuda_gpu_executor.cc:981] successful NUMA node read from SysFS had negative value (-1), but there must be at least one NUMA node, so returning NUMA node zero\n",
      "2023-02-25 18:17:14.395598: I tensorflow/compiler/xla/stream_executor/cuda/cuda_gpu_executor.cc:981] successful NUMA node read from SysFS had negative value (-1), but there must be at least one NUMA node, so returning NUMA node zero\n",
      "2023-02-25 18:17:16.550304: I tensorflow/compiler/xla/stream_executor/cuda/cuda_gpu_executor.cc:981] successful NUMA node read from SysFS had negative value (-1), but there must be at least one NUMA node, so returning NUMA node zero\n",
      "2023-02-25 18:17:16.550728: I tensorflow/compiler/xla/stream_executor/cuda/cuda_gpu_executor.cc:981] successful NUMA node read from SysFS had negative value (-1), but there must be at least one NUMA node, so returning NUMA node zero\n",
      "2023-02-25 18:17:16.551111: I tensorflow/compiler/xla/stream_executor/cuda/cuda_gpu_executor.cc:981] successful NUMA node read from SysFS had negative value (-1), but there must be at least one NUMA node, so returning NUMA node zero\n",
      "2023-02-25 18:17:16.551487: I tensorflow/compiler/xla/stream_executor/cuda/cuda_gpu_executor.cc:981] successful NUMA node read from SysFS had negative value (-1), but there must be at least one NUMA node, so returning NUMA node zero\n",
      "2023-02-25 18:17:16.551859: I tensorflow/compiler/xla/stream_executor/cuda/cuda_gpu_executor.cc:981] successful NUMA node read from SysFS had negative value (-1), but there must be at least one NUMA node, so returning NUMA node zero\n",
      "2023-02-25 18:17:16.552219: I tensorflow/compiler/xla/stream_executor/cuda/cuda_gpu_executor.cc:981] successful NUMA node read from SysFS had negative value (-1), but there must be at least one NUMA node, so returning NUMA node zero\n",
      "2023-02-25 18:17:16.552568: I tensorflow/compiler/xla/stream_executor/cuda/cuda_gpu_executor.cc:981] successful NUMA node read from SysFS had negative value (-1), but there must be at least one NUMA node, so returning NUMA node zero\n",
      "2023-02-25 18:17:16.552914: I tensorflow/compiler/xla/stream_executor/cuda/cuda_gpu_executor.cc:981] successful NUMA node read from SysFS had negative value (-1), but there must be at least one NUMA node, so returning NUMA node zero\n",
      "2023-02-25 18:17:16.553265: I tensorflow/compiler/xla/stream_executor/cuda/cuda_gpu_executor.cc:981] successful NUMA node read from SysFS had negative value (-1), but there must be at least one NUMA node, so returning NUMA node zero\n",
      "2023-02-25 18:17:16.553581: I tensorflow/core/common_runtime/gpu/gpu_device.cc:1613] Created device /job:localhost/replica:0/task:0/device:GPU:0 with 14606 MB memory:  -> device: 0, name: Tesla V100-SXM2-16GB, pci bus id: 0000:00:1b.0, compute capability: 7.0\n",
      "2023-02-25 18:17:16.554092: I tensorflow/compiler/xla/stream_executor/cuda/cuda_gpu_executor.cc:981] successful NUMA node read from SysFS had negative value (-1), but there must be at least one NUMA node, so returning NUMA node zero\n",
      "2023-02-25 18:17:16.554397: I tensorflow/core/common_runtime/gpu/gpu_device.cc:1613] Created device /job:localhost/replica:0/task:0/device:GPU:1 with 14606 MB memory:  -> device: 1, name: Tesla V100-SXM2-16GB, pci bus id: 0000:00:1c.0, compute capability: 7.0\n",
      "2023-02-25 18:17:16.554757: I tensorflow/compiler/xla/stream_executor/cuda/cuda_gpu_executor.cc:981] successful NUMA node read from SysFS had negative value (-1), but there must be at least one NUMA node, so returning NUMA node zero\n",
      "2023-02-25 18:17:16.555066: I tensorflow/core/common_runtime/gpu/gpu_device.cc:1613] Created device /job:localhost/replica:0/task:0/device:GPU:2 with 14606 MB memory:  -> device: 2, name: Tesla V100-SXM2-16GB, pci bus id: 0000:00:1d.0, compute capability: 7.0\n",
      "2023-02-25 18:17:16.555430: I tensorflow/compiler/xla/stream_executor/cuda/cuda_gpu_executor.cc:981] successful NUMA node read from SysFS had negative value (-1), but there must be at least one NUMA node, so returning NUMA node zero\n",
      "2023-02-25 18:17:16.555732: I tensorflow/core/common_runtime/gpu/gpu_device.cc:1613] Created device /job:localhost/replica:0/task:0/device:GPU:3 with 14606 MB memory:  -> device: 3, name: Tesla V100-SXM2-16GB, pci bus id: 0000:00:1e.0, compute capability: 7.0\n"
     ]
    },
    {
     "name": "stderr",
     "output_type": "stream",
     "text": [
      "Some weights of the PyTorch model were not used when initializing the TF 2.0 model TFBertForSequenceClassification: ['bert.embeddings.position_ids']\n",
      "- This IS expected if you are initializing TFBertForSequenceClassification from a PyTorch model trained on another task or with another architecture (e.g. initializing a TFBertForSequenceClassification model from a BertForPreTraining model).\n",
      "- This IS NOT expected if you are initializing TFBertForSequenceClassification from a PyTorch model that you expect to be exactly identical (e.g. initializing a TFBertForSequenceClassification model from a BertForSequenceClassification model).\n",
      "Some weights or buffers of the TF 2.0 model TFBertForSequenceClassification were not initialized from the PyTorch model and are newly initialized: ['classifier.weight', 'classifier.bias']\n",
      "You should probably TRAIN this model on a down-stream task to be able to use it for predictions and inference.\n"
     ]
    }
   ],
   "source": [
    "model_name = \"klue/bert-base\"\n",
    "model = TFBertForSequenceClassification.from_pretrained(model_name, num_labels=2, from_pt=True)\n",
    "tokenizer = BertTokenizer.from_pretrained(model_name)"
   ]
  },
  {
   "cell_type": "markdown",
   "metadata": {},
   "source": [
    "### Load Dataset"
   ]
  },
  {
   "cell_type": "code",
   "execution_count": 10,
   "metadata": {
    "colab": {
     "base_uri": "https://localhost:8080/"
    },
    "id": "KL9HhLfrU1yP",
    "outputId": "22ec3ab1-2ec7-466e-dc11-bdb13a238bdb"
   },
   "outputs": [
    {
     "data": {
      "text/plain": [
       "(15567, 4)"
      ]
     },
     "execution_count": 10,
     "metadata": {},
     "output_type": "execute_result"
    }
   ],
   "source": [
    "reviews = pd.read_csv('./reviews.csv')\n",
    "reviews.shape"
   ]
  },
  {
   "cell_type": "code",
   "execution_count": 11,
   "metadata": {},
   "outputs": [
    {
     "data": {
      "text/html": [
       "<div>\n",
       "<style scoped>\n",
       "    .dataframe tbody tr th:only-of-type {\n",
       "        vertical-align: middle;\n",
       "    }\n",
       "\n",
       "    .dataframe tbody tr th {\n",
       "        vertical-align: top;\n",
       "    }\n",
       "\n",
       "    .dataframe thead th {\n",
       "        text-align: right;\n",
       "    }\n",
       "</style>\n",
       "<table border=\"1\" class=\"dataframe\">\n",
       "  <thead>\n",
       "    <tr style=\"text-align: right;\">\n",
       "      <th></th>\n",
       "      <th>Unnamed: 0</th>\n",
       "      <th>reviews</th>\n",
       "      <th>key_sent</th>\n",
       "      <th>sentiment</th>\n",
       "    </tr>\n",
       "  </thead>\n",
       "  <tbody>\n",
       "    <tr>\n",
       "      <th>0</th>\n",
       "      <td>0</td>\n",
       "      <td>15그램에 가격은 비싸지만 쿠폰 사용해서 구매하고 레티놀이 함유되어 있어서 꼭 아침...</td>\n",
       "      <td>0</td>\n",
       "      <td>NaN</td>\n",
       "    </tr>\n",
       "    <tr>\n",
       "      <th>1</th>\n",
       "      <td>1</td>\n",
       "      <td>레티놀은 일주일 정도 적응기간을 거친 후 사용하는건데 이 세럼은 다른 기능성도 혼합...</td>\n",
       "      <td>1</td>\n",
       "      <td>1.0</td>\n",
       "    </tr>\n",
       "    <tr>\n",
       "      <th>2</th>\n",
       "      <td>2</td>\n",
       "      <td>레티놀과 비타민 C 는 40대인 저에겐 없어서는 안되는 제품인데 혼합된 제품이 나와...</td>\n",
       "      <td>1</td>\n",
       "      <td>1.0</td>\n",
       "    </tr>\n",
       "    <tr>\n",
       "      <th>3</th>\n",
       "      <td>3</td>\n",
       "      <td>수부지 홍조 여드름 민감성 피부에도 자극이 하나도 없었어요</td>\n",
       "      <td>1</td>\n",
       "      <td>1.0</td>\n",
       "    </tr>\n",
       "    <tr>\n",
       "      <th>4</th>\n",
       "      <td>4</td>\n",
       "      <td>보통 레티놀 비타민 조합들은 따가워서 사용하기 어려웠는데</td>\n",
       "      <td>0</td>\n",
       "      <td>NaN</td>\n",
       "    </tr>\n",
       "    <tr>\n",
       "      <th>...</th>\n",
       "      <td>...</td>\n",
       "      <td>...</td>\n",
       "      <td>...</td>\n",
       "      <td>...</td>\n",
       "    </tr>\n",
       "    <tr>\n",
       "      <th>15562</th>\n",
       "      <td>15562</td>\n",
       "      <td>한통을 다 비웠는데요</td>\n",
       "      <td>0</td>\n",
       "      <td>NaN</td>\n",
       "    </tr>\n",
       "    <tr>\n",
       "      <th>15563</th>\n",
       "      <td>15563</td>\n",
       "      <td>솔직하게 드라마틱한 효과는 없어요</td>\n",
       "      <td>0</td>\n",
       "      <td>NaN</td>\n",
       "    </tr>\n",
       "    <tr>\n",
       "      <th>15564</th>\n",
       "      <td>15564</td>\n",
       "      <td>그냥 쫀쩐하게 마무리되는 느낌</td>\n",
       "      <td>1</td>\n",
       "      <td>1.0</td>\n",
       "    </tr>\n",
       "    <tr>\n",
       "      <th>15565</th>\n",
       "      <td>15565</td>\n",
       "      <td>화장 전 수분감이랑 유분감이 좀 채워지는 느낌</td>\n",
       "      <td>1</td>\n",
       "      <td>1.0</td>\n",
       "    </tr>\n",
       "    <tr>\n",
       "      <th>15566</th>\n",
       "      <td>15566</td>\n",
       "      <td>다시 쓸디는 고민입니당</td>\n",
       "      <td>0</td>\n",
       "      <td>NaN</td>\n",
       "    </tr>\n",
       "  </tbody>\n",
       "</table>\n",
       "<p>15567 rows × 4 columns</p>\n",
       "</div>"
      ],
      "text/plain": [
       "       Unnamed: 0                                            reviews  \\\n",
       "0               0  15그램에 가격은 비싸지만 쿠폰 사용해서 구매하고 레티놀이 함유되어 있어서 꼭 아침...   \n",
       "1               1  레티놀은 일주일 정도 적응기간을 거친 후 사용하는건데 이 세럼은 다른 기능성도 혼합...   \n",
       "2               2  레티놀과 비타민 C 는 40대인 저에겐 없어서는 안되는 제품인데 혼합된 제품이 나와...   \n",
       "3               3                   수부지 홍조 여드름 민감성 피부에도 자극이 하나도 없었어요   \n",
       "4               4                    보통 레티놀 비타민 조합들은 따가워서 사용하기 어려웠는데   \n",
       "...           ...                                                ...   \n",
       "15562       15562                                        한통을 다 비웠는데요   \n",
       "15563       15563                                 솔직하게 드라마틱한 효과는 없어요   \n",
       "15564       15564                                   그냥 쫀쩐하게 마무리되는 느낌   \n",
       "15565       15565                          화장 전 수분감이랑 유분감이 좀 채워지는 느낌   \n",
       "15566       15566                                       다시 쓸디는 고민입니당   \n",
       "\n",
       "       key_sent  sentiment  \n",
       "0             0        NaN  \n",
       "1             1        1.0  \n",
       "2             1        1.0  \n",
       "3             1        1.0  \n",
       "4             0        NaN  \n",
       "...         ...        ...  \n",
       "15562         0        NaN  \n",
       "15563         0        NaN  \n",
       "15564         1        1.0  \n",
       "15565         1        1.0  \n",
       "15566         0        NaN  \n",
       "\n",
       "[15567 rows x 4 columns]"
      ]
     },
     "execution_count": 11,
     "metadata": {},
     "output_type": "execute_result"
    }
   ],
   "source": [
    "# \"sentiment\" classification\n",
    "# 0 : negative\n",
    "# 1 : positive\n",
    "\n",
    "reviews"
   ]
  },
  {
   "cell_type": "code",
   "execution_count": 12,
   "metadata": {
    "id": "iJr3QeFOVg9w"
   },
   "outputs": [],
   "source": [
    "# 데이터 분리\n",
    "X = reviews[reviews.key_sent == 1].reviews\n",
    "y = reviews[reviews.key_sent == 1].sentiment"
   ]
  },
  {
   "cell_type": "code",
   "execution_count": 9,
   "metadata": {},
   "outputs": [
    {
     "data": {
      "text/plain": [
       "1.0    0.722389\n",
       "0.0    0.277611\n",
       "Name: sentiment, dtype: float64"
      ]
     },
     "execution_count": 9,
     "metadata": {},
     "output_type": "execute_result"
    }
   ],
   "source": [
    "# 라벨별 비율 확인\n",
    "y.value_counts(normalize = True)"
   ]
  },
  {
   "cell_type": "code",
   "execution_count": 13,
   "metadata": {
    "id": "2MIBpnqVbGDS"
   },
   "outputs": [
    {
     "name": "stdout",
     "output_type": "stream",
     "text": [
      "(5410,) (602,)\n",
      "(5410,) (602,)\n"
     ]
    }
   ],
   "source": [
    "# train, test split\n",
    "X_train, X_test, y_train, y_test = train_test_split(X, y, test_size=0.1, random_state=42)\n",
    "\n",
    "print(X_train.shape, X_test.shape)\n",
    "print(y_train.shape, y_test.shape)"
   ]
  },
  {
   "cell_type": "code",
   "execution_count": 11,
   "metadata": {
    "colab": {
     "base_uri": "https://localhost:8080/"
    },
    "id": "k1K6SuT4WoTe",
    "outputId": "6f38c169-d715-4609-d18b-45de82588136"
   },
   "outputs": [
    {
     "data": {
      "text/plain": [
       "1.0    0.722551\n",
       "0.0    0.277449\n",
       "Name: sentiment, dtype: float64"
      ]
     },
     "execution_count": 11,
     "metadata": {},
     "output_type": "execute_result"
    }
   ],
   "source": [
    "# train data 라벨별 비율 확인\n",
    "y_train.value_counts(normalize = True)"
   ]
  },
  {
   "cell_type": "code",
   "execution_count": 12,
   "metadata": {
    "colab": {
     "base_uri": "https://localhost:8080/"
    },
    "id": "oITW3uC5WoWI",
    "outputId": "33f6aa24-cd5c-4fcb-f21a-e54626ba4b43"
   },
   "outputs": [
    {
     "data": {
      "text/plain": [
       "1.0    0.72093\n",
       "0.0    0.27907\n",
       "Name: sentiment, dtype: float64"
      ]
     },
     "execution_count": 12,
     "metadata": {},
     "output_type": "execute_result"
    }
   ],
   "source": [
    "# test data 라벨별 비율 확인\n",
    "y_test.value_counts(normalize = True)"
   ]
  },
  {
   "cell_type": "markdown",
   "metadata": {
    "id": "YzlY334oW1ps"
   },
   "source": [
    "### Conver to BERT input format"
   ]
  },
  {
   "cell_type": "code",
   "execution_count": 14,
   "metadata": {
    "id": "Cs8L_KgsWoYC"
   },
   "outputs": [],
   "source": [
    "MAX_SEQ_LEN = 260\n",
    "\n",
    "def convert_data(X_data, y_data):\n",
    "    tokens, masks, segments, targets = [], [], [], []\n",
    "    \n",
    "    for X, y in tqdm(zip(X_data, y_data)):\n",
    "\n",
    "        token = tokenizer.encode(X, truncation = True, padding = 'max_length', max_length = MAX_SEQ_LEN)\n",
    "        num_zeros = token.count(0)\n",
    "        mask = [1] * (MAX_SEQ_LEN - num_zeros) + [0] * num_zeros\n",
    "        segment = [0]*MAX_SEQ_LEN\n",
    "\n",
    "        tokens.append(token)\n",
    "        masks.append(mask)\n",
    "        segments.append(segment)\n",
    "        targets.append(y)\n",
    "\n",
    "    tokens = np.array(tokens)\n",
    "    masks = np.array(masks)\n",
    "    segments = np.array(segments)\n",
    "    targets = np.array(targets)\n",
    "\n",
    "    return [tokens, masks, segments], targets"
   ]
  },
  {
   "cell_type": "code",
   "execution_count": 15,
   "metadata": {
    "colab": {
     "base_uri": "https://localhost:8080/"
    },
    "id": "vnqfWXggWys2",
    "outputId": "b8b7d4e0-dcae-4cd4-9a63-6350f9307010"
   },
   "outputs": [
    {
     "name": "stderr",
     "output_type": "stream",
     "text": [
      "5410it [00:01, 3264.70it/s]\n",
      "602it [00:00, 3463.54it/s]\n"
     ]
    }
   ],
   "source": [
    "train_x, train_y = convert_data(X_train, y_train)\n",
    "test_x, test_y = convert_data(X_test, y_test)"
   ]
  },
  {
   "cell_type": "markdown",
   "metadata": {
    "id": "YsJzTfDEXMiD"
   },
   "source": [
    "## Modeling"
   ]
  },
  {
   "cell_type": "code",
   "execution_count": 16,
   "metadata": {
    "id": "0iYcxVEjXKtT"
   },
   "outputs": [],
   "source": [
    "# token, mask, segment 입력 정의\n",
    "token_inputs = tf.keras.layers.Input((MAX_SEQ_LEN,), dtype = tf.int32, name = 'input_word_ids')\n",
    "mask_inputs = tf.keras.layers.Input((MAX_SEQ_LEN), dtype = tf.int32, name = 'input_masks')\n",
    "segment_inputs = tf.keras.layers.Input((MAX_SEQ_LEN,), dtype = tf.int32, name = 'input_segment')\n",
    "bert_outputs = model([token_inputs, mask_inputs, segment_inputs])"
   ]
  },
  {
   "cell_type": "code",
   "execution_count": 17,
   "metadata": {
    "id": "Xlke-fq2XKyV"
   },
   "outputs": [
    {
     "data": {
      "text/plain": [
       "<KerasTensor: shape=(None, 2) dtype=float32 (created by layer 'tf_bert_for_sequence_classification')>"
      ]
     },
     "execution_count": 17,
     "metadata": {},
     "output_type": "execute_result"
    }
   ],
   "source": [
    "bert_output = bert_outputs[0]\n",
    "bert_output"
   ]
  },
  {
   "cell_type": "markdown",
   "metadata": {},
   "source": [
    "### # Model 1"
   ]
  },
  {
   "cell_type": "code",
   "execution_count": 13,
   "metadata": {
    "id": "V1wl55vFXK0_"
   },
   "outputs": [],
   "source": [
    "dropout = tf.keras.layers.Dropout(0.5)(bert_output)\n",
    "layer = tf.keras.layers.Dense(128, activation=\"relu\")(dropout)\n",
    "dropout = tf.keras.layers.Dropout(0.5)(layer)\n",
    "layer = tf.keras.layers.Dense(64, activation=\"relu\")(dropout)\n",
    "layer = tf.keras.layers.Dense(2, activation='softmax', kernel_initializer=tf.keras.initializers.TruncatedNormal(stddev=0.02))(layer)\n",
    "sentiment_model_1= tf.keras.Model([token_inputs, mask_inputs, segment_inputs], layer)"
   ]
  },
  {
   "cell_type": "code",
   "execution_count": 16,
   "metadata": {
    "id": "oABqKo7yrJfa"
   },
   "outputs": [],
   "source": [
    "# optimizer - Rectified Adam \n",
    "optimizer_name = 'RAdam'\n",
    "optimizer = tfa.optimizers.RectifiedAdam(learning_rate = 5e-5,\n",
    "                                          total_steps = 10000, \n",
    "                                          warmup_proportion = 0.1, \n",
    "                                          min_lr = 1e-5, \n",
    "                                          epsilon = 1e-8,\n",
    "                                          clipnorm = 1.0)"
   ]
  },
  {
   "cell_type": "code",
   "execution_count": 15,
   "metadata": {
    "id": "Eb_bw8CtfDSr"
   },
   "outputs": [],
   "source": [
    "sentiment_model_1.compile(optimizer = optimizer, \n",
    "                        loss = tf.keras.losses.SparseCategoricalCrossentropy(), \n",
    "                        metrics = ['accuracy'])"
   ]
  },
  {
   "cell_type": "code",
   "execution_count": 18,
   "metadata": {
    "id": "2RViykDbfDVw"
   },
   "outputs": [],
   "source": [
    "# callback function - EarlyStopping\n",
    "\n",
    "early_stopping = EarlyStopping(\n",
    "    monitor = \"val_accuracy\", \n",
    "    min_delta = 1e-3,\n",
    "    patience = 6)"
   ]
  },
  {
   "cell_type": "code",
   "execution_count": 34,
   "metadata": {
    "id": "MkHHgh0MfHQA"
   },
   "outputs": [],
   "source": [
    "# callback function - ModelCheckpoint\n",
    "\n",
    "best_model_path1  = './sentiment_best_model_1.h5'\n",
    "\n",
    "model_checkpoint = ModelCheckpoint(\n",
    "    filepath = best_model_path1,\n",
    "    monitor = \"val_accuracy\",\n",
    "    mode = \"max\",\n",
    "    save_best_only = True, \n",
    "    verbose = 1\n",
    ")"
   ]
  },
  {
   "cell_type": "code",
   "execution_count": 18,
   "metadata": {
    "id": "rkwnlvUKfHVH"
   },
   "outputs": [],
   "source": [
    "callbacks1 = [early_stopping, model_checkpoint]"
   ]
  },
  {
   "cell_type": "code",
   "execution_count": 19,
   "metadata": {
    "colab": {
     "base_uri": "https://localhost:8080/"
    },
    "id": "iER7pSz2fRcI",
    "outputId": "72ec696b-06fc-4edf-c9aa-24f966b187f0",
    "scrolled": true
   },
   "outputs": [
    {
     "name": "stdout",
     "output_type": "stream",
     "text": [
      "Epoch 1/70\n",
      "153/153 [==============================] - ETA: 0s - loss: 0.6911 - accuracy: 0.6075\n",
      "Epoch 1: val_accuracy improved from -inf to 0.72458, saving model to ./sentiment_best_model_1.h5\n",
      "153/153 [==============================] - 132s 623ms/step - loss: 0.6911 - accuracy: 0.6075 - val_loss: 0.6847 - val_accuracy: 0.7246\n",
      "Epoch 2/70\n",
      "153/153 [==============================] - ETA: 0s - loss: 0.6647 - accuracy: 0.6880\n",
      "Epoch 2: val_accuracy improved from 0.72458 to 0.90018, saving model to ./sentiment_best_model_1.h5\n",
      "153/153 [==============================] - 143s 936ms/step - loss: 0.6647 - accuracy: 0.6880 - val_loss: 0.6336 - val_accuracy: 0.9002\n",
      "Epoch 3/70\n",
      "153/153 [==============================] - ETA: 0s - loss: 0.5993 - accuracy: 0.7689\n",
      "Epoch 3: val_accuracy improved from 0.90018 to 0.91682, saving model to ./sentiment_best_model_1.h5\n",
      "153/153 [==============================] - 123s 807ms/step - loss: 0.5993 - accuracy: 0.7689 - val_loss: 0.5538 - val_accuracy: 0.9168\n",
      "Epoch 4/70\n",
      "153/153 [==============================] - ETA: 0s - loss: 0.5042 - accuracy: 0.7788\n",
      "Epoch 4: val_accuracy improved from 0.91682 to 0.92976, saving model to ./sentiment_best_model_1.h5\n",
      "153/153 [==============================] - 156s 1s/step - loss: 0.5042 - accuracy: 0.7788 - val_loss: 0.4423 - val_accuracy: 0.9298\n",
      "Epoch 5/70\n",
      "153/153 [==============================] - ETA: 0s - loss: 0.4366 - accuracy: 0.7525\n",
      "Epoch 5: val_accuracy did not improve from 0.92976\n",
      "153/153 [==============================] - 89s 582ms/step - loss: 0.4366 - accuracy: 0.7525 - val_loss: 0.3752 - val_accuracy: 0.7246\n",
      "Epoch 6/70\n",
      "153/153 [==============================] - ETA: 0s - loss: 0.4094 - accuracy: 0.7492\n",
      "Epoch 6: val_accuracy did not improve from 0.92976\n",
      "153/153 [==============================] - 89s 582ms/step - loss: 0.4094 - accuracy: 0.7492 - val_loss: 0.3409 - val_accuracy: 0.9168\n",
      "Epoch 7/70\n",
      "153/153 [==============================] - ETA: 0s - loss: 0.3948 - accuracy: 0.7652\n",
      "Epoch 7: val_accuracy did not improve from 0.92976\n",
      "153/153 [==============================] - 89s 583ms/step - loss: 0.3948 - accuracy: 0.7652 - val_loss: 0.3277 - val_accuracy: 0.9150\n",
      "Epoch 8/70\n",
      "153/153 [==============================] - ETA: 0s - loss: 0.3479 - accuracy: 0.8503\n",
      "Epoch 8: val_accuracy did not improve from 0.92976\n",
      "153/153 [==============================] - 89s 583ms/step - loss: 0.3479 - accuracy: 0.8503 - val_loss: 0.2498 - val_accuracy: 0.9094\n",
      "Epoch 9/70\n",
      "153/153 [==============================] - ETA: 0s - loss: 0.3095 - accuracy: 0.8920\n",
      "Epoch 9: val_accuracy did not improve from 0.92976\n",
      "153/153 [==============================] - 89s 583ms/step - loss: 0.3095 - accuracy: 0.8920 - val_loss: 0.2182 - val_accuracy: 0.9261\n",
      "Epoch 10/70\n",
      "153/153 [==============================] - ETA: 0s - loss: 0.2761 - accuracy: 0.9039\n",
      "Epoch 10: val_accuracy improved from 0.92976 to 0.93715, saving model to ./sentiment_best_model_1.h5\n",
      "153/153 [==============================] - 155s 1s/step - loss: 0.2761 - accuracy: 0.9039 - val_loss: 0.1978 - val_accuracy: 0.9372\n",
      "Epoch 11/70\n",
      "153/153 [==============================] - ETA: 0s - loss: 0.2531 - accuracy: 0.9100\n",
      "Epoch 11: val_accuracy improved from 0.93715 to 0.94270, saving model to ./sentiment_best_model_1.h5\n",
      "153/153 [==============================] - 149s 976ms/step - loss: 0.2531 - accuracy: 0.9100 - val_loss: 0.1928 - val_accuracy: 0.9427\n",
      "Epoch 12/70\n",
      "153/153 [==============================] - ETA: 0s - loss: 0.2361 - accuracy: 0.9137\n",
      "Epoch 12: val_accuracy did not improve from 0.94270\n",
      "153/153 [==============================] - 89s 582ms/step - loss: 0.2361 - accuracy: 0.9137 - val_loss: 0.2275 - val_accuracy: 0.9150\n",
      "Epoch 13/70\n",
      "153/153 [==============================] - ETA: 0s - loss: 0.2191 - accuracy: 0.9197\n",
      "Epoch 13: val_accuracy did not improve from 0.94270\n",
      "153/153 [==============================] - 89s 583ms/step - loss: 0.2191 - accuracy: 0.9197 - val_loss: 0.2201 - val_accuracy: 0.9261\n",
      "Epoch 14/70\n",
      "153/153 [==============================] - ETA: 0s - loss: 0.2111 - accuracy: 0.9195\n",
      "Epoch 14: val_accuracy did not improve from 0.94270\n",
      "153/153 [==============================] - 89s 583ms/step - loss: 0.2111 - accuracy: 0.9195 - val_loss: 0.2777 - val_accuracy: 0.9150\n",
      "Epoch 15/70\n",
      "153/153 [==============================] - ETA: 0s - loss: 0.2033 - accuracy: 0.9246\n",
      "Epoch 15: val_accuracy did not improve from 0.94270\n",
      "153/153 [==============================] - 89s 583ms/step - loss: 0.2033 - accuracy: 0.9246 - val_loss: 0.2636 - val_accuracy: 0.9279\n",
      "Epoch 16/70\n",
      "153/153 [==============================] - ETA: 0s - loss: 0.1952 - accuracy: 0.9285\n",
      "Epoch 16: val_accuracy did not improve from 0.94270\n",
      "153/153 [==============================] - 89s 583ms/step - loss: 0.1952 - accuracy: 0.9285 - val_loss: 0.3015 - val_accuracy: 0.9002\n",
      "Epoch 17/70\n",
      "153/153 [==============================] - ETA: 0s - loss: 0.1957 - accuracy: 0.9203\n",
      "Epoch 17: val_accuracy improved from 0.94270 to 0.94640, saving model to ./sentiment_best_model_1.h5\n",
      "153/153 [==============================] - 145s 949ms/step - loss: 0.1957 - accuracy: 0.9203 - val_loss: 0.2309 - val_accuracy: 0.9464\n",
      "Epoch 18/70\n",
      "153/153 [==============================] - ETA: 0s - loss: 0.1936 - accuracy: 0.9207\n",
      "Epoch 18: val_accuracy did not improve from 0.94640\n",
      "153/153 [==============================] - 89s 583ms/step - loss: 0.1936 - accuracy: 0.9207 - val_loss: 0.3161 - val_accuracy: 0.9076\n",
      "Epoch 19/70\n",
      "153/153 [==============================] - ETA: 0s - loss: 0.1971 - accuracy: 0.9226\n",
      "Epoch 19: val_accuracy did not improve from 0.94640\n",
      "153/153 [==============================] - 89s 583ms/step - loss: 0.1971 - accuracy: 0.9226 - val_loss: 0.2597 - val_accuracy: 0.9298\n",
      "Epoch 20/70\n",
      "153/153 [==============================] - ETA: 0s - loss: 0.1839 - accuracy: 0.9269\n",
      "Epoch 20: val_accuracy did not improve from 0.94640\n",
      "153/153 [==============================] - 89s 583ms/step - loss: 0.1839 - accuracy: 0.9269 - val_loss: 0.2799 - val_accuracy: 0.9279\n",
      "Epoch 21/70\n",
      "153/153 [==============================] - ETA: 0s - loss: 0.1813 - accuracy: 0.9285\n",
      "Epoch 21: val_accuracy did not improve from 0.94640\n",
      "153/153 [==============================] - 89s 583ms/step - loss: 0.1813 - accuracy: 0.9285 - val_loss: 0.2721 - val_accuracy: 0.9242\n",
      "Epoch 22/70\n",
      "153/153 [==============================] - ETA: 0s - loss: 0.1798 - accuracy: 0.9246\n",
      "Epoch 22: val_accuracy did not improve from 0.94640\n",
      "153/153 [==============================] - 89s 583ms/step - loss: 0.1798 - accuracy: 0.9246 - val_loss: 0.2633 - val_accuracy: 0.9390\n",
      "Epoch 23/70\n",
      "153/153 [==============================] - ETA: 0s - loss: 0.1791 - accuracy: 0.9285\n",
      "Epoch 23: val_accuracy did not improve from 0.94640\n",
      "153/153 [==============================] - 89s 583ms/step - loss: 0.1791 - accuracy: 0.9285 - val_loss: 0.2725 - val_accuracy: 0.9242\n"
     ]
    }
   ],
   "source": [
    "epochs = 70\n",
    "batch_size = 32\n",
    "\n",
    "history1 = sentiment_model_1.fit(train_x, train_y, \n",
    "                    epochs = epochs, \n",
    "                    shuffle = True, \n",
    "                    batch_size = batch_size, \n",
    "                    validation_split = 0.1,\n",
    "                    callbacks = callbacks1\n",
    "                    )"
   ]
  },
  {
   "cell_type": "code",
   "execution_count": 33,
   "metadata": {
    "id": "zmiobyC5wjPH"
   },
   "outputs": [
    {
     "data": {
      "image/png": "[encoded data removed]",
      "text/plain": [
       "<Figure size 600x300 with 1 Axes>"
      ]
     },
     "metadata": {},
     "output_type": "display_data"
    }
   ],
   "source": [
    "acc = history1.history['accuracy']\n",
    "val_acc = history1.history['val_accuracy']\n",
    "\n",
    "epochs = range(1, len(acc)+1)\n",
    "plt.figure(figsize=(6, 3))\n",
    "plt.title('Sentiment Model Accuracy')\n",
    "plt.plot(epochs, acc, 'b', label='train_acc')\n",
    "plt.plot(epochs, val_acc, 'r', label='val_acc')\n",
    "plt.grid()\n",
    "plt.legend()\n",
    "plt.savefig('./Sentiment_Model_Accuracy_1.png')\n",
    "plt.show()"
   ]
  },
  {
   "cell_type": "code",
   "execution_count": 35,
   "metadata": {
    "colab": {
     "base_uri": "https://localhost:8080/",
     "height": 359
    },
    "id": "Ld0bUWa6YK9u",
    "outputId": "b93fec91-72a6-412a-bf41-3b660ea075f4"
   },
   "outputs": [],
   "source": [
    "sentiment_model_1 = tf.keras.models.load_model(best_model_path1,\n",
    "                                               custom_objects={'TFBertForSequenceClassification': TFBertForSequenceClassification})"
   ]
  },
  {
   "cell_type": "code",
   "execution_count": 36,
   "metadata": {},
   "outputs": [
    {
     "name": "stdout",
     "output_type": "stream",
     "text": [
      "19/19 [==============================] - 7s 186ms/step - loss: 0.3141 - accuracy: 0.9136\n"
     ]
    }
   ],
   "source": [
    "test_eval_1 = sentiment_model_1.evaluate(test_x, test_y)"
   ]
  },
  {
   "cell_type": "markdown",
   "metadata": {},
   "source": [
    "### # Model 2"
   ]
  },
  {
   "cell_type": "code",
   "execution_count": 23,
   "metadata": {
    "id": "FLLGZVYTfRk_"
   },
   "outputs": [],
   "source": [
    "dropout = tf.keras.layers.Dropout(0.5)(bert_output)\n",
    "layer = tf.keras.layers.Dense(2, activation='softmax', kernel_initializer=tf.keras.initializers.TruncatedNormal(stddev=0.02))(layer)\n",
    "sentiment_model_2 = tf.keras.Model([token_inputs, mask_inputs, segment_inputs], layer)"
   ]
  },
  {
   "cell_type": "code",
   "execution_count": 24,
   "metadata": {
    "id": "qd75ZEqFfRnk"
   },
   "outputs": [],
   "source": [
    "sentiment_model_2.compile(optimizer = optimizer, \n",
    "                        loss = tf.keras.losses.SparseCategoricalCrossentropy(), \n",
    "                        metrics = ['accuracy'])"
   ]
  },
  {
   "cell_type": "code",
   "execution_count": 18,
   "metadata": {},
   "outputs": [],
   "source": [
    "best_model_path2 = './sentiment_best_model_2.h5'\n",
    "\n",
    "model_checkpoint2 = ModelCheckpoint(\n",
    "    filepath = best_model_path2,\n",
    "    monitor = \"val_accuracy\",\n",
    "    mode = \"max\",\n",
    "    save_best_only = True, \n",
    "    verbose = 1)"
   ]
  },
  {
   "cell_type": "code",
   "execution_count": 26,
   "metadata": {},
   "outputs": [],
   "source": [
    "callbacks2 = [early_stopping, model_checkpoint2]"
   ]
  },
  {
   "cell_type": "code",
   "execution_count": 27,
   "metadata": {},
   "outputs": [
    {
     "name": "stdout",
     "output_type": "stream",
     "text": [
      "Epoch 1/70\n",
      "153/153 [==============================] - ETA: 0s - loss: 0.6731 - accuracy: 0.9240\n",
      "Epoch 1: val_accuracy improved from -inf to 0.92606, saving model to ./sentiment_best_model_2.h5\n",
      "153/153 [==============================] - 129s 623ms/step - loss: 0.6731 - accuracy: 0.9240 - val_loss: 0.6606 - val_accuracy: 0.9261\n",
      "Epoch 2/70\n",
      "153/153 [==============================] - ETA: 0s - loss: 0.6557 - accuracy: 0.9185\n",
      "Epoch 2: val_accuracy improved from 0.92606 to 0.93530, saving model to ./sentiment_best_model_2.h5\n",
      "153/153 [==============================] - 118s 772ms/step - loss: 0.6557 - accuracy: 0.9185 - val_loss: 0.6464 - val_accuracy: 0.9353\n",
      "Epoch 3/70\n",
      "153/153 [==============================] - ETA: 0s - loss: 0.6447 - accuracy: 0.9146\n",
      "Epoch 3: val_accuracy did not improve from 0.93530\n",
      "153/153 [==============================] - 89s 583ms/step - loss: 0.6447 - accuracy: 0.9146 - val_loss: 0.6358 - val_accuracy: 0.9335\n",
      "Epoch 4/70\n",
      "153/153 [==============================] - ETA: 0s - loss: 0.6352 - accuracy: 0.9178\n",
      "Epoch 4: val_accuracy did not improve from 0.93530\n",
      "153/153 [==============================] - 89s 584ms/step - loss: 0.6352 - accuracy: 0.9178 - val_loss: 0.6268 - val_accuracy: 0.9353\n",
      "Epoch 5/70\n",
      "153/153 [==============================] - ETA: 0s - loss: 0.6276 - accuracy: 0.9144\n",
      "Epoch 5: val_accuracy did not improve from 0.93530\n",
      "153/153 [==============================] - 89s 585ms/step - loss: 0.6276 - accuracy: 0.9144 - val_loss: 0.6200 - val_accuracy: 0.9205\n",
      "Epoch 6/70\n",
      "153/153 [==============================] - ETA: 0s - loss: 0.6209 - accuracy: 0.9135\n",
      "Epoch 6: val_accuracy did not improve from 0.93530\n",
      "153/153 [==============================] - 89s 584ms/step - loss: 0.6209 - accuracy: 0.9135 - val_loss: 0.6124 - val_accuracy: 0.9298\n",
      "Epoch 7/70\n",
      "153/153 [==============================] - ETA: 0s - loss: 0.6145 - accuracy: 0.9164\n",
      "Epoch 7: val_accuracy did not improve from 0.93530\n",
      "153/153 [==============================] - 89s 584ms/step - loss: 0.6145 - accuracy: 0.9164 - val_loss: 0.6062 - val_accuracy: 0.9242\n",
      "Epoch 8/70\n",
      "153/153 [==============================] - ETA: 0s - loss: 0.6080 - accuracy: 0.9234\n",
      "Epoch 8: val_accuracy did not improve from 0.93530\n",
      "153/153 [==============================] - 89s 584ms/step - loss: 0.6080 - accuracy: 0.9234 - val_loss: 0.6003 - val_accuracy: 0.9242\n"
     ]
    }
   ],
   "source": [
    "epochs = 70\n",
    "BATCH_SZIE = 32\n",
    "\n",
    "history2 = sentiment_model_2.fit(train_x, train_y, \n",
    "                    epochs = epochs, \n",
    "                    shuffle = True, \n",
    "                    batch_size = batch_size, \n",
    "                    validation_split = 0.1,\n",
    "                    callbacks = callbacks2)"
   ]
  },
  {
   "cell_type": "code",
   "execution_count": 32,
   "metadata": {},
   "outputs": [
    {
     "data": {
      "image/png": "[encoded data removed]",
      "text/plain": [
       "<Figure size 600x300 with 1 Axes>"
      ]
     },
     "metadata": {},
     "output_type": "display_data"
    }
   ],
   "source": [
    "acc = history2.history['accuracy']\n",
    "val_acc = history2.history['val_accuracy']\n",
    "\n",
    "epochs = range(1, len(acc)+1)\n",
    "plt.figure(figsize=(6, 3))\n",
    "plt.title('Sentiment Model Accuracy')\n",
    "plt.plot(epochs, acc, 'b', label='train_acc')\n",
    "plt.plot(epochs, val_acc, 'r', label='val_acc')\n",
    "plt.grid()\n",
    "plt.legend()\n",
    "plt.savefig('./Sentiment_Model_Accuracy_2.png')\n",
    "plt.show()"
   ]
  },
  {
   "cell_type": "code",
   "execution_count": 19,
   "metadata": {},
   "outputs": [
    {
     "name": "stdout",
     "output_type": "stream",
     "text": [
      "WARNING:tensorflow:Error in loading the saved optimizer state. As a result, your model is starting with a freshly initialized optimizer.\n"
     ]
    }
   ],
   "source": [
    "sentiment_model_2 = tf.keras.models.load_model(best_model_path2,\n",
    "                                               custom_objects={'TFBertForSequenceClassification': TFBertForSequenceClassification})"
   ]
  },
  {
   "cell_type": "code",
   "execution_count": 20,
   "metadata": {},
   "outputs": [
    {
     "name": "stdout",
     "output_type": "stream",
     "text": [
      "19/19 [==============================] - 7s 186ms/step - loss: 0.6471 - accuracy: 0.9219\n"
     ]
    }
   ],
   "source": [
    "test_eval_2 = sentiment_model_2.evaluate(test_x, test_y)"
   ]
  },
  {
   "cell_type": "markdown",
   "metadata": {},
   "source": [
    "### # Model 3"
   ]
  },
  {
   "cell_type": "code",
   "execution_count": 26,
   "metadata": {},
   "outputs": [],
   "source": [
    "dropout = tf.keras.layers.Dropout(0.5)(bert_output)\n",
    "layer = tf.keras.layers.Dense(64, activation=\"relu\")(dropout)\n",
    "dropout = tf.keras.layers.Dropout(0.5)(layer)\n",
    "layer = tf.keras.layers.Dense(32, activation=\"relu\")(dropout)\n",
    "layer = tf.keras.layers.Dense(2, activation='softmax', \n",
    "                              kernel_initializer=tf.keras.initializers.TruncatedNormal(stddev=0.02))(dropout)\n",
    "sentiment_model_3 = tf.keras.Model([token_inputs, mask_inputs, segment_inputs], layer)"
   ]
  },
  {
   "cell_type": "code",
   "execution_count": 27,
   "metadata": {},
   "outputs": [],
   "source": [
    "sentiment_model_3.compile(optimizer = optimizer, \n",
    "                        loss = tf.keras.losses.SparseCategoricalCrossentropy(), \n",
    "                        metrics = ['accuracy'])"
   ]
  },
  {
   "cell_type": "code",
   "execution_count": 28,
   "metadata": {},
   "outputs": [],
   "source": [
    "best_model_path3 = './sentiment_best_model_3.h5'\n",
    "\n",
    "model_checkpoint3 = ModelCheckpoint(\n",
    "    filepath = best_model_path3,\n",
    "    monitor = \"val_accuracy\",\n",
    "    mode = \"max\",\n",
    "    save_best_only = True, \n",
    "    verbose = 1)"
   ]
  },
  {
   "cell_type": "code",
   "execution_count": 29,
   "metadata": {
    "scrolled": true
   },
   "outputs": [
    {
     "name": "stdout",
     "output_type": "stream",
     "text": [
      "Epoch 1/70\n",
      "153/153 [==============================] - ETA: 0s - loss: 0.3103 - accuracy: 0.8899\n",
      "Epoch 1: val_accuracy improved from -inf to 0.91867, saving model to ./sentiment_best_model_3.h5\n",
      "153/153 [==============================] - 154s 797ms/step - loss: 0.3103 - accuracy: 0.8899 - val_loss: 0.2196 - val_accuracy: 0.9187\n",
      "Epoch 2/70\n",
      "153/153 [==============================] - ETA: 0s - loss: 0.2488 - accuracy: 0.9139\n",
      "Epoch 2: val_accuracy improved from 0.91867 to 0.92052, saving model to ./sentiment_best_model_3.h5\n",
      "153/153 [==============================] - 112s 736ms/step - loss: 0.2488 - accuracy: 0.9139 - val_loss: 0.2491 - val_accuracy: 0.9205\n",
      "Epoch 3/70\n",
      "153/153 [==============================] - ETA: 0s - loss: 0.2347 - accuracy: 0.9162\n",
      "Epoch 3: val_accuracy did not improve from 0.92052\n",
      "153/153 [==============================] - 89s 583ms/step - loss: 0.2347 - accuracy: 0.9162 - val_loss: 0.2351 - val_accuracy: 0.9205\n",
      "Epoch 4/70\n",
      "153/153 [==============================] - ETA: 0s - loss: 0.2230 - accuracy: 0.9185\n",
      "Epoch 4: val_accuracy did not improve from 0.92052\n",
      "153/153 [==============================] - 89s 583ms/step - loss: 0.2230 - accuracy: 0.9185 - val_loss: 0.2508 - val_accuracy: 0.9113\n",
      "Epoch 5/70\n",
      "153/153 [==============================] - ETA: 0s - loss: 0.2274 - accuracy: 0.9168\n",
      "Epoch 5: val_accuracy improved from 0.92052 to 0.92421, saving model to ./sentiment_best_model_3.h5\n",
      "153/153 [==============================] - 135s 885ms/step - loss: 0.2274 - accuracy: 0.9168 - val_loss: 0.2670 - val_accuracy: 0.9242\n",
      "Epoch 6/70\n",
      "153/153 [==============================] - ETA: 0s - loss: 0.2228 - accuracy: 0.9232\n",
      "Epoch 6: val_accuracy did not improve from 0.92421\n",
      "153/153 [==============================] - 89s 583ms/step - loss: 0.2228 - accuracy: 0.9232 - val_loss: 0.2510 - val_accuracy: 0.9205\n",
      "Epoch 7/70\n",
      "153/153 [==============================] - ETA: 0s - loss: 0.2139 - accuracy: 0.9178\n",
      "Epoch 7: val_accuracy improved from 0.92421 to 0.93346, saving model to ./sentiment_best_model_3.h5\n",
      "153/153 [==============================] - 110s 719ms/step - loss: 0.2139 - accuracy: 0.9178 - val_loss: 0.2998 - val_accuracy: 0.9335\n",
      "Epoch 8/70\n",
      "153/153 [==============================] - ETA: 0s - loss: 0.2085 - accuracy: 0.9201\n",
      "Epoch 8: val_accuracy did not improve from 0.93346\n",
      "153/153 [==============================] - 89s 582ms/step - loss: 0.2085 - accuracy: 0.9201 - val_loss: 0.2786 - val_accuracy: 0.9298\n",
      "Epoch 9/70\n",
      "153/153 [==============================] - ETA: 0s - loss: 0.1980 - accuracy: 0.9224\n",
      "Epoch 9: val_accuracy improved from 0.93346 to 0.94085, saving model to ./sentiment_best_model_3.h5\n",
      "153/153 [==============================] - 115s 752ms/step - loss: 0.1980 - accuracy: 0.9224 - val_loss: 0.2961 - val_accuracy: 0.9409\n",
      "Epoch 10/70\n",
      "153/153 [==============================] - ETA: 0s - loss: 0.1943 - accuracy: 0.9254\n",
      "Epoch 10: val_accuracy did not improve from 0.94085\n",
      "153/153 [==============================] - 89s 582ms/step - loss: 0.1943 - accuracy: 0.9254 - val_loss: 0.3066 - val_accuracy: 0.9205\n",
      "Epoch 11/70\n",
      "153/153 [==============================] - ETA: 0s - loss: 0.2090 - accuracy: 0.9193\n",
      "Epoch 11: val_accuracy did not improve from 0.94085\n",
      "153/153 [==============================] - 89s 582ms/step - loss: 0.2090 - accuracy: 0.9193 - val_loss: 0.3647 - val_accuracy: 0.9187\n",
      "Epoch 12/70\n",
      "153/153 [==============================] - ETA: 0s - loss: 0.2051 - accuracy: 0.9246\n",
      "Epoch 12: val_accuracy did not improve from 0.94085\n",
      "153/153 [==============================] - 89s 582ms/step - loss: 0.2051 - accuracy: 0.9246 - val_loss: 0.3489 - val_accuracy: 0.9205\n",
      "Epoch 13/70\n",
      "153/153 [==============================] - ETA: 0s - loss: 0.1994 - accuracy: 0.9232\n",
      "Epoch 13: val_accuracy did not improve from 0.94085\n",
      "153/153 [==============================] - 89s 583ms/step - loss: 0.1994 - accuracy: 0.9232 - val_loss: 0.4298 - val_accuracy: 0.9242\n",
      "Epoch 14/70\n",
      "153/153 [==============================] - ETA: 0s - loss: 0.2098 - accuracy: 0.9277\n",
      "Epoch 14: val_accuracy did not improve from 0.94085\n",
      "153/153 [==============================] - 89s 583ms/step - loss: 0.2098 - accuracy: 0.9277 - val_loss: 0.3368 - val_accuracy: 0.9150\n",
      "Epoch 15/70\n",
      "153/153 [==============================] - ETA: 0s - loss: 0.2046 - accuracy: 0.9191\n",
      "Epoch 15: val_accuracy did not improve from 0.94085\n",
      "153/153 [==============================] - 89s 582ms/step - loss: 0.2046 - accuracy: 0.9191 - val_loss: 0.2906 - val_accuracy: 0.9168\n"
     ]
    }
   ],
   "source": [
    "callbacks3 = [early_stopping, model_checkpoint3]\n",
    "\n",
    "epchs = 70\n",
    "batch_size = 32\n",
    "\n",
    "history3 = sentiment_model_3.fit(train_x, train_y, \n",
    "                    epochs = epchs, \n",
    "                    shuffle = True, \n",
    "                    batch_size = batch_size, \n",
    "                    validation_split = 0.1,\n",
    "                    callbacks = callbacks3)"
   ]
  },
  {
   "cell_type": "code",
   "execution_count": 30,
   "metadata": {},
   "outputs": [
    {
     "data": {
      "image/png": "[encoded data removed]",
      "text/plain": [
       "<Figure size 600x300 with 1 Axes>"
      ]
     },
     "metadata": {},
     "output_type": "display_data"
    }
   ],
   "source": [
    "acc = history3.history['accuracy']\n",
    "val_acc = history3.history['val_accuracy']\n",
    "\n",
    "epochs = range(1, len(acc)+1)\n",
    "plt.figure(figsize=(6, 3))\n",
    "plt.title('Sentiment Model Accuracy')\n",
    "plt.plot(epochs, acc, 'b', label='train_acc')\n",
    "plt.plot(epochs, val_acc, 'r', label='val_acc')\n",
    "plt.grid()\n",
    "plt.legend()\n",
    "plt.savefig('./Sentiment_Model_Accuracy_3.png')\n",
    "plt.show()"
   ]
  },
  {
   "cell_type": "code",
   "execution_count": 31,
   "metadata": {},
   "outputs": [
    {
     "name": "stdout",
     "output_type": "stream",
     "text": [
      "WARNING:tensorflow:Error in loading the saved optimizer state. As a result, your model is starting with a freshly initialized optimizer.\n"
     ]
    }
   ],
   "source": [
    "sentiment_model_3 = tf.keras.models.load_model(best_model_path3,\n",
    "                                               custom_objects={'TFBertForSequenceClassification': TFBertForSequenceClassification})"
   ]
  },
  {
   "cell_type": "code",
   "execution_count": 32,
   "metadata": {},
   "outputs": [
    {
     "name": "stdout",
     "output_type": "stream",
     "text": [
      "19/19 [==============================] - 7s 187ms/step - loss: 0.3247 - accuracy: 0.9120\n"
     ]
    }
   ],
   "source": [
    "test_eval_3 = sentiment_model_3.evaluate(test_x, test_y)"
   ]
  },
  {
   "cell_type": "markdown",
   "metadata": {},
   "source": [
    "## Evaluation"
   ]
  },
  {
   "cell_type": "code",
   "execution_count": 40,
   "metadata": {},
   "outputs": [
    {
     "data": {
      "text/plain": [
       "[0.9136212468147278, 0.9219269156455994, 0.9119601249694824]"
      ]
     },
     "execution_count": 40,
     "metadata": {},
     "output_type": "execute_result"
    }
   ],
   "source": [
    "# 3가지 모델 Accuracy 비교\n",
    "test_evals = [test_eval_1[1], test_eval_2[1], test_eval_3[1]]\n",
    "test_evals"
   ]
  },
  {
   "cell_type": "code",
   "execution_count": 21,
   "metadata": {
    "colab": {
     "base_uri": "https://localhost:8080/"
    },
    "id": "FYZOlpbC66kR",
    "outputId": "64ed2ffc-328c-458b-9bcd-1695dfc43e0d"
   },
   "outputs": [
    {
     "name": "stdout",
     "output_type": "stream",
     "text": [
      "19/19 [==============================] - 7s 184ms/step\n"
     ]
    }
   ],
   "source": [
    "# Accuracy가 가장 높은 2번 모델로 평가 진행\n",
    "predicted_value = sentiment_model_2.predict(test_x)\n",
    "predicted_label = np.argmax(predicted_value, axis = 1)"
   ]
  },
  {
   "cell_type": "markdown",
   "metadata": {
    "id": "F2TiLyStYZ29"
   },
   "source": [
    "#### Classification Report"
   ]
  },
  {
   "cell_type": "code",
   "execution_count": 32,
   "metadata": {
    "colab": {
     "base_uri": "https://localhost:8080/"
    },
    "id": "5WYI4j2HYLE9",
    "outputId": "c63e3d97-5529-47b2-c744-d44ec2c46140"
   },
   "outputs": [
    {
     "data": {
      "text/html": [
       "<div>\n",
       "<style scoped>\n",
       "    .dataframe tbody tr th:only-of-type {\n",
       "        vertical-align: middle;\n",
       "    }\n",
       "\n",
       "    .dataframe tbody tr th {\n",
       "        vertical-align: top;\n",
       "    }\n",
       "\n",
       "    .dataframe thead th {\n",
       "        text-align: right;\n",
       "    }\n",
       "</style>\n",
       "<table border=\"1\" class=\"dataframe\">\n",
       "  <thead>\n",
       "    <tr style=\"text-align: right;\">\n",
       "      <th></th>\n",
       "      <th>precision</th>\n",
       "      <th>recall</th>\n",
       "      <th>f1-score</th>\n",
       "      <th>support</th>\n",
       "    </tr>\n",
       "  </thead>\n",
       "  <tbody>\n",
       "    <tr>\n",
       "      <th>0.0</th>\n",
       "      <td>0.881</td>\n",
       "      <td>0.833</td>\n",
       "      <td>0.856</td>\n",
       "      <td>168.000</td>\n",
       "    </tr>\n",
       "    <tr>\n",
       "      <th>1.0</th>\n",
       "      <td>0.937</td>\n",
       "      <td>0.956</td>\n",
       "      <td>0.946</td>\n",
       "      <td>434.000</td>\n",
       "    </tr>\n",
       "    <tr>\n",
       "      <th>accuracy</th>\n",
       "      <td>0.922</td>\n",
       "      <td>0.922</td>\n",
       "      <td>0.922</td>\n",
       "      <td>0.922</td>\n",
       "    </tr>\n",
       "    <tr>\n",
       "      <th>macro avg</th>\n",
       "      <td>0.909</td>\n",
       "      <td>0.895</td>\n",
       "      <td>0.901</td>\n",
       "      <td>602.000</td>\n",
       "    </tr>\n",
       "    <tr>\n",
       "      <th>weighted avg</th>\n",
       "      <td>0.921</td>\n",
       "      <td>0.922</td>\n",
       "      <td>0.921</td>\n",
       "      <td>602.000</td>\n",
       "    </tr>\n",
       "  </tbody>\n",
       "</table>\n",
       "</div>"
      ],
      "text/plain": [
       "              precision  recall  f1-score  support\n",
       "0.0               0.881   0.833     0.856  168.000\n",
       "1.0               0.937   0.956     0.946  434.000\n",
       "accuracy          0.922   0.922     0.922    0.922\n",
       "macro avg         0.909   0.895     0.901  602.000\n",
       "weighted avg      0.921   0.922     0.921  602.000"
      ]
     },
     "execution_count": 32,
     "metadata": {},
     "output_type": "execute_result"
    }
   ],
   "source": [
    "CL_REPORT_FILE = \"./cl_report_sentiment.csv\"\n",
    "\n",
    "cl_report = classification_report(test_y, predicted_label, output_dict = True)\n",
    "cl_report_df = pd.DataFrame(cl_report).transpose()\n",
    "cl_report_df = cl_report_df.round(3)\n",
    "cl_report_df.to_csv(CL_REPORT_FILE)\n",
    "cl_report_df"
   ]
  },
  {
   "cell_type": "markdown",
   "metadata": {
    "id": "MXRDKdmGYdXR"
   },
   "source": [
    "#### Confusion Matrix"
   ]
  },
  {
   "cell_type": "code",
   "execution_count": 23,
   "metadata": {
    "colab": {
     "base_uri": "https://localhost:8080/",
     "height": 391
    },
    "id": "1odl_aSSYLHT",
    "outputId": "aedcd055-76da-4942-abc0-0e39a9f65573"
   },
   "outputs": [
    {
     "data": {
      "image/png": "[encoded data removed]",
      "text/plain": [
       "<Figure size 500x400 with 2 Axes>"
      ]
     },
     "metadata": {},
     "output_type": "display_data"
    }
   ],
   "source": [
    "figure_file = \"./cf_matrix_sentiment.png\"\n",
    "\n",
    "cf_matrix = confusion_matrix(test_y, predicted_label)\n",
    "fig, ax = plt.subplots(figsize = (5,4))\n",
    "sns.heatmap(cf_matrix, annot = True, fmt = 'd')\n",
    "plt.ylabel('Actual')\n",
    "plt.xlabel('Predicted')\n",
    "plt.savefig(figure_file)\n",
    "plt.show()"
   ]
  },
  {
   "cell_type": "markdown",
   "metadata": {
    "id": "PlQfaiTjYhQ0"
   },
   "source": [
    "#### Total Metrics"
   ]
  },
  {
   "cell_type": "code",
   "execution_count": 24,
   "metadata": {
    "id": "mHD1jVo8Yg6b"
   },
   "outputs": [],
   "source": [
    "accuracy_score = round(accuracy_score(y_test, predicted_label), 3) \n",
    "precision_score = round(precision_score(y_test, predicted_label, average=\"weighted\"), 3) \n",
    "recall_score = round(recall_score(y_test, predicted_label, average=\"weighted\"), 3) \n",
    "f1_score = round(f1_score(y_test, predicted_label, average=\"weighted\"), 3) \n",
    "roc_auc_score = round(roc_auc_score(y_test, predicted_label, average=\"weighted\", multi_class=\"ovr\"), 3) \n",
    "cohen_kappa_score = round(cohen_kappa_score(y_test, predicted_label), 3)\n",
    "matthews_corrcoef = round(matthews_corrcoef(y_test, predicted_label), 3) \n",
    "log_loss_= round(log_loss(y_test, predicted_label), 3) # Log Loss"
   ]
  },
  {
   "cell_type": "code",
   "execution_count": 27,
   "metadata": {
    "id": "pkdh_nYsWoac"
   },
   "outputs": [],
   "source": [
    "metric_file = './metric_sentiment.csv'\n",
    "\n",
    "metric_total = pd.DataFrame({\n",
    "    'PLM': model_name,\n",
    "    'Optimizer': optimizer_name,\n",
    "    'Accuracy': accuracy_score,\n",
    "    'Precision': precision_score,\n",
    "    'Recall': recall_score,\n",
    "    'F1_score': f1_score,\n",
    "    'ROC_AUC_score': roc_auc_score,\n",
    "    'Cohen_kappa_coef': cohen_kappa_score,\n",
    "    'Matthews_corrcoef': matthews_corrcoef,\n",
    "    'Log_loss': log_loss_},\n",
    "    index = ['-'])  "
   ]
  },
  {
   "cell_type": "code",
   "execution_count": 28,
   "metadata": {
    "id": "rSNlXx_CVhC6"
   },
   "outputs": [],
   "source": [
    "metric_total.to_csv(metric_file)"
   ]
  },
  {
   "cell_type": "code",
   "execution_count": 29,
   "metadata": {
    "colab": {
     "base_uri": "https://localhost:8080/"
    },
    "id": "1BxpsBrfVhFR",
    "outputId": "34a2b2e2-7a2b-48e2-b1c8-6c2d391f0592"
   },
   "outputs": [
    {
     "data": {
      "text/html": [
       "<div>\n",
       "<style scoped>\n",
       "    .dataframe tbody tr th:only-of-type {\n",
       "        vertical-align: middle;\n",
       "    }\n",
       "\n",
       "    .dataframe tbody tr th {\n",
       "        vertical-align: top;\n",
       "    }\n",
       "\n",
       "    .dataframe thead th {\n",
       "        text-align: right;\n",
       "    }\n",
       "</style>\n",
       "<table border=\"1\" class=\"dataframe\">\n",
       "  <thead>\n",
       "    <tr style=\"text-align: right;\">\n",
       "      <th></th>\n",
       "      <th>PLM</th>\n",
       "      <th>Optimizer</th>\n",
       "      <th>Accuracy</th>\n",
       "      <th>Precision</th>\n",
       "      <th>Recall</th>\n",
       "      <th>F1_score</th>\n",
       "      <th>ROC_AUC_score</th>\n",
       "      <th>Cohen_kappa_coef</th>\n",
       "      <th>Matthews_corrcoef</th>\n",
       "      <th>Log_loss</th>\n",
       "    </tr>\n",
       "  </thead>\n",
       "  <tbody>\n",
       "    <tr>\n",
       "      <th>-</th>\n",
       "      <td>klue/bert_-base</td>\n",
       "      <td>RAdam</td>\n",
       "      <td>0.922</td>\n",
       "      <td>0.921</td>\n",
       "      <td>0.922</td>\n",
       "      <td>0.921</td>\n",
       "      <td>0.895</td>\n",
       "      <td>0.803</td>\n",
       "      <td>0.803</td>\n",
       "      <td>2.814</td>\n",
       "    </tr>\n",
       "  </tbody>\n",
       "</table>\n",
       "</div>"
      ],
      "text/plain": [
       "               PLM Optimizer  Accuracy  Precision  Recall  F1_score  \\\n",
       "-  klue/bert_-base     RAdam     0.922      0.921   0.922     0.921   \n",
       "\n",
       "   ROC_AUC_score  Cohen_kappa_coef  Matthews_corrcoef  Log_loss  \n",
       "-          0.895             0.803              0.803     2.814  "
      ]
     },
     "execution_count": 29,
     "metadata": {},
     "output_type": "execute_result"
    }
   ],
   "source": [
    "metric_total"
   ]
  },
  {
   "cell_type": "markdown",
   "metadata": {
    "id": "7wAjiGEhFIqM"
   },
   "source": [
    "### Final Training"
   ]
  },
  {
   "cell_type": "code",
   "execution_count": 30,
   "metadata": {
    "scrolled": true
   },
   "outputs": [
    {
     "name": "stdout",
     "output_type": "stream",
     "text": [
      "Epoch 1/30\n",
      "19/19 [==============================] - 33s 559ms/step - loss: 0.6534 - accuracy: 0.8571\n",
      "Epoch 2/30\n",
      "19/19 [==============================] - 11s 559ms/step - loss: 0.6537 - accuracy: 0.8654\n",
      "Epoch 3/30\n",
      "19/19 [==============================] - 11s 559ms/step - loss: 0.6544 - accuracy: 0.8571\n",
      "Epoch 4/30\n",
      "19/19 [==============================] - 11s 559ms/step - loss: 0.6541 - accuracy: 0.8638\n",
      "Epoch 5/30\n",
      "19/19 [==============================] - 11s 560ms/step - loss: 0.6518 - accuracy: 0.8804\n",
      "Epoch 6/30\n",
      "19/19 [==============================] - 11s 560ms/step - loss: 0.6553 - accuracy: 0.8355\n",
      "Epoch 7/30\n",
      "19/19 [==============================] - 11s 559ms/step - loss: 0.6542 - accuracy: 0.8538\n",
      "Epoch 8/30\n",
      "19/19 [==============================] - 11s 560ms/step - loss: 0.6530 - accuracy: 0.8738\n",
      "Epoch 9/30\n",
      "19/19 [==============================] - 11s 560ms/step - loss: 0.6534 - accuracy: 0.8638\n",
      "Epoch 10/30\n",
      "19/19 [==============================] - 11s 561ms/step - loss: 0.6522 - accuracy: 0.8671\n",
      "Epoch 11/30\n",
      "19/19 [==============================] - 11s 560ms/step - loss: 0.6525 - accuracy: 0.8704\n",
      "Epoch 12/30\n",
      "19/19 [==============================] - 11s 560ms/step - loss: 0.6519 - accuracy: 0.8771\n",
      "Epoch 13/30\n",
      "19/19 [==============================] - 11s 561ms/step - loss: 0.6516 - accuracy: 0.9003\n",
      "Epoch 14/30\n",
      "19/19 [==============================] - 11s 560ms/step - loss: 0.6521 - accuracy: 0.8870\n",
      "Epoch 15/30\n",
      "19/19 [==============================] - 11s 560ms/step - loss: 0.6508 - accuracy: 0.9053\n",
      "Epoch 16/30\n",
      "19/19 [==============================] - 11s 560ms/step - loss: 0.6512 - accuracy: 0.9053\n",
      "Epoch 17/30\n",
      "19/19 [==============================] - 11s 560ms/step - loss: 0.6500 - accuracy: 0.9020\n",
      "Epoch 18/30\n",
      "19/19 [==============================] - 11s 560ms/step - loss: 0.6507 - accuracy: 0.8987\n",
      "Epoch 19/30\n",
      "19/19 [==============================] - 11s 560ms/step - loss: 0.6516 - accuracy: 0.8837\n",
      "Epoch 20/30\n",
      "19/19 [==============================] - 11s 560ms/step - loss: 0.6498 - accuracy: 0.9020\n",
      "Epoch 21/30\n",
      "19/19 [==============================] - 11s 561ms/step - loss: 0.6502 - accuracy: 0.9086\n",
      "Epoch 22/30\n",
      "19/19 [==============================] - 11s 561ms/step - loss: 0.6494 - accuracy: 0.9020\n",
      "Epoch 23/30\n",
      "19/19 [==============================] - 11s 561ms/step - loss: 0.6499 - accuracy: 0.9003\n",
      "Epoch 24/30\n",
      "19/19 [==============================] - 11s 561ms/step - loss: 0.6491 - accuracy: 0.9153\n",
      "Epoch 25/30\n",
      "19/19 [==============================] - 11s 561ms/step - loss: 0.6484 - accuracy: 0.9103\n",
      "Epoch 26/30\n",
      "19/19 [==============================] - 11s 561ms/step - loss: 0.6489 - accuracy: 0.9003\n",
      "Epoch 27/30\n",
      "19/19 [==============================] - 11s 560ms/step - loss: 0.6485 - accuracy: 0.8953\n",
      "Epoch 28/30\n",
      "19/19 [==============================] - 11s 560ms/step - loss: 0.6482 - accuracy: 0.9003\n",
      "Epoch 29/30\n",
      "19/19 [==============================] - 11s 560ms/step - loss: 0.6476 - accuracy: 0.9219\n",
      "Epoch 30/30\n",
      "19/19 [==============================] - 11s 560ms/step - loss: 0.6483 - accuracy: 0.8870\n"
     ]
    },
    {
     "data": {
      "text/plain": [
       "<keras.callbacks.History at 0x7ff87c56a0d0>"
      ]
     },
     "execution_count": 30,
     "metadata": {},
     "output_type": "execute_result"
    }
   ],
   "source": [
    "sentiment_model_2.fit(test_x, test_y, \n",
    "                      epochs=30, \n",
    "                      shuffle = True, batch_size = 32)"
   ]
  },
  {
   "cell_type": "code",
   "execution_count": 31,
   "metadata": {},
   "outputs": [],
   "source": [
    "model_path = \"./final_sentiment_model.h5\"\n",
    "sentiment_model_2.save(model_path)"
   ]
  },
  {
   "cell_type": "code",
   "execution_count": null,
   "metadata": {},
   "outputs": [],
   "source": []
  }
 ],
 "metadata": {
  "accelerator": "TPU",
  "colab": {
   "machine_shape": "hm",
   "provenance": []
  },
  "gpuClass": "standard",
  "kernelspec": {
   "display_name": "Python 3 (ipykernel)",
   "language": "python",
   "name": "python3"
  },
  "language_info": {
   "codemirror_mode": {
    "name": "ipython",
    "version": 3
   },
   "file_extension": ".py",
   "mimetype": "text/x-python",
   "name": "python",
   "nbconvert_exporter": "python",
   "pygments_lexer": "ipython3",
   "version": "3.9.12"
  },
  "widgets": {
   "application/vnd.jupyter.widget-state+json": {
    "01c2d12a7dbf41d38ef15d97579507bc": {
     "model_module": "@jupyter-widgets/base",
     "model_module_version": "1.2.0",
     "model_name": "LayoutModel",
     "state": {
      "_model_module": "@jupyter-widgets/base",
      "_model_module_version": "1.2.0",
      "_model_name": "LayoutModel",
      "_view_count": null,
      "_view_module": "@jupyter-widgets/base",
      "_view_module_version": "1.2.0",
      "_view_name": "LayoutView",
      "align_content": null,
      "align_items": null,
      "align_self": null,
      "border": null,
      "bottom": null,
      "display": null,
      "flex": null,
      "flex_flow": null,
      "grid_area": null,
      "grid_auto_columns": null,
      "grid_auto_flow": null,
      "grid_auto_rows": null,
      "grid_column": null,
      "grid_gap": null,
      "grid_row": null,
      "grid_template_areas": null,
      "grid_template_columns": null,
      "grid_template_rows": null,
      "height": null,
      "justify_content": null,
      "justify_items": null,
      "left": null,
      "margin": null,
      "max_height": null,
      "max_width": null,
      "min_height": null,
      "min_width": null,
      "object_fit": null,
      "object_position": null,
      "order": null,
      "overflow": null,
      "overflow_x": null,
      "overflow_y": null,
      "padding": null,
      "right": null,
      "top": null,
      "visibility": null,
      "width": null
     }
    },
    "0ce0619a95964ffe820ea9dc98880f6b": {
     "model_module": "@jupyter-widgets/base",
     "model_module_version": "1.2.0",
     "model_name": "LayoutModel",
     "state": {
      "_model_module": "@jupyter-widgets/base",
      "_model_module_version": "1.2.0",
      "_model_name": "LayoutModel",
      "_view_count": null,
      "_view_module": "@jupyter-widgets/base",
      "_view_module_version": "1.2.0",
      "_view_name": "LayoutView",
      "align_content": null,
      "align_items": null,
      "align_self": null,
      "border": null,
      "bottom": null,
      "display": null,
      "flex": null,
      "flex_flow": null,
      "grid_area": null,
      "grid_auto_columns": null,
      "grid_auto_flow": null,
      "grid_auto_rows": null,
      "grid_column": null,
      "grid_gap": null,
      "grid_row": null,
      "grid_template_areas": null,
      "grid_template_columns": null,
      "grid_template_rows": null,
      "height": null,
      "justify_content": null,
      "justify_items": null,
      "left": null,
      "margin": null,
      "max_height": null,
      "max_width": null,
      "min_height": null,
      "min_width": null,
      "object_fit": null,
      "object_position": null,
      "order": null,
      "overflow": null,
      "overflow_x": null,
      "overflow_y": null,
      "padding": null,
      "right": null,
      "top": null,
      "visibility": null,
      "width": null
     }
    },
    "1581da365a82489dbf8069182bde46fc": {
     "model_module": "@jupyter-widgets/controls",
     "model_module_version": "1.5.0",
     "model_name": "HTMLModel",
     "state": {
      "_dom_classes": [],
      "_model_module": "@jupyter-widgets/controls",
      "_model_module_version": "1.5.0",
      "_model_name": "HTMLModel",
      "_view_count": null,
      "_view_module": "@jupyter-widgets/controls",
      "_view_module_version": "1.5.0",
      "_view_name": "HTMLView",
      "description": "",
      "description_tooltip": null,
      "layout": "IPY_MODEL_7de318de9a6e464e9cc8d7c375f90eb3",
      "placeholder": "​",
      "style": "IPY_MODEL_ace2033e5f474f9190705a13288332a3",
      "value": "Downloading (…)solve/main/vocab.txt: 100%"
     }
    },
    "1c9e0456af694168aa7db525510e6f11": {
     "model_module": "@jupyter-widgets/controls",
     "model_module_version": "1.5.0",
     "model_name": "DescriptionStyleModel",
     "state": {
      "_model_module": "@jupyter-widgets/controls",
      "_model_module_version": "1.5.0",
      "_model_name": "DescriptionStyleModel",
      "_view_count": null,
      "_view_module": "@jupyter-widgets/base",
      "_view_module_version": "1.2.0",
      "_view_name": "StyleView",
      "description_width": ""
     }
    },
    "1cc948b4ed954421b41bbf68cdce7e05": {
     "model_module": "@jupyter-widgets/controls",
     "model_module_version": "1.5.0",
     "model_name": "HTMLModel",
     "state": {
      "_dom_classes": [],
      "_model_module": "@jupyter-widgets/controls",
      "_model_module_version": "1.5.0",
      "_model_name": "HTMLModel",
      "_view_count": null,
      "_view_module": "@jupyter-widgets/controls",
      "_view_module_version": "1.5.0",
      "_view_name": "HTMLView",
      "description": "",
      "description_tooltip": null,
      "layout": "IPY_MODEL_7679585f5bc5470f929fe9764b66d688",
      "placeholder": "​",
      "style": "IPY_MODEL_5f37a27251794de5abbd6fe84e4ee058",
      "value": " 289/289 [00:00&lt;00:00, 19.4kB/s]"
     }
    },
    "2e72729bea6144fc8c709058fef99d70": {
     "model_module": "@jupyter-widgets/controls",
     "model_module_version": "1.5.0",
     "model_name": "HBoxModel",
     "state": {
      "_dom_classes": [],
      "_model_module": "@jupyter-widgets/controls",
      "_model_module_version": "1.5.0",
      "_model_name": "HBoxModel",
      "_view_count": null,
      "_view_module": "@jupyter-widgets/controls",
      "_view_module_version": "1.5.0",
      "_view_name": "HBoxView",
      "box_style": "",
      "children": [
       "IPY_MODEL_73a1d57781a640abb9adce667bc7223f",
       "IPY_MODEL_601c25356e1e41148a266c6c50867288",
       "IPY_MODEL_5c4650975433442db4818cb9202db0e0"
      ],
      "layout": "IPY_MODEL_4e02e015b328435585be97bc966bda6f"
     }
    },
    "37d59573fb5f4c0f912d682484c01655": {
     "model_module": "@jupyter-widgets/controls",
     "model_module_version": "1.5.0",
     "model_name": "HTMLModel",
     "state": {
      "_dom_classes": [],
      "_model_module": "@jupyter-widgets/controls",
      "_model_module_version": "1.5.0",
      "_model_name": "HTMLModel",
      "_view_count": null,
      "_view_module": "@jupyter-widgets/controls",
      "_view_module_version": "1.5.0",
      "_view_name": "HTMLView",
      "description": "",
      "description_tooltip": null,
      "layout": "IPY_MODEL_3b1ef801c46a47cdafb53a163532ed11",
      "placeholder": "​",
      "style": "IPY_MODEL_5419eac324a647e5bb2e3811af98d2b7",
      "value": " 248k/248k [00:00&lt;00:00, 2.34MB/s]"
     }
    },
    "3b1ef801c46a47cdafb53a163532ed11": {
     "model_module": "@jupyter-widgets/base",
     "model_module_version": "1.2.0",
     "model_name": "LayoutModel",
     "state": {
      "_model_module": "@jupyter-widgets/base",
      "_model_module_version": "1.2.0",
      "_model_name": "LayoutModel",
      "_view_count": null,
      "_view_module": "@jupyter-widgets/base",
      "_view_module_version": "1.2.0",
      "_view_name": "LayoutView",
      "align_content": null,
      "align_items": null,
      "align_self": null,
      "border": null,
      "bottom": null,
      "display": null,
      "flex": null,
      "flex_flow": null,
      "grid_area": null,
      "grid_auto_columns": null,
      "grid_auto_flow": null,
      "grid_auto_rows": null,
      "grid_column": null,
      "grid_gap": null,
      "grid_row": null,
      "grid_template_areas": null,
      "grid_template_columns": null,
      "grid_template_rows": null,
      "height": null,
      "justify_content": null,
      "justify_items": null,
      "left": null,
      "margin": null,
      "max_height": null,
      "max_width": null,
      "min_height": null,
      "min_width": null,
      "object_fit": null,
      "object_position": null,
      "order": null,
      "overflow": null,
      "overflow_x": null,
      "overflow_y": null,
      "padding": null,
      "right": null,
      "top": null,
      "visibility": null,
      "width": null
     }
    },
    "3bad3ed3890e4363b6bb83ecd323f51e": {
     "model_module": "@jupyter-widgets/base",
     "model_module_version": "1.2.0",
     "model_name": "LayoutModel",
     "state": {
      "_model_module": "@jupyter-widgets/base",
      "_model_module_version": "1.2.0",
      "_model_name": "LayoutModel",
      "_view_count": null,
      "_view_module": "@jupyter-widgets/base",
      "_view_module_version": "1.2.0",
      "_view_name": "LayoutView",
      "align_content": null,
      "align_items": null,
      "align_self": null,
      "border": null,
      "bottom": null,
      "display": null,
      "flex": null,
      "flex_flow": null,
      "grid_area": null,
      "grid_auto_columns": null,
      "grid_auto_flow": null,
      "grid_auto_rows": null,
      "grid_column": null,
      "grid_gap": null,
      "grid_row": null,
      "grid_template_areas": null,
      "grid_template_columns": null,
      "grid_template_rows": null,
      "height": null,
      "justify_content": null,
      "justify_items": null,
      "left": null,
      "margin": null,
      "max_height": null,
      "max_width": null,
      "min_height": null,
      "min_width": null,
      "object_fit": null,
      "object_position": null,
      "order": null,
      "overflow": null,
      "overflow_x": null,
      "overflow_y": null,
      "padding": null,
      "right": null,
      "top": null,
      "visibility": null,
      "width": null
     }
    },
    "3cac15b31eeb469c83c291740cba6577": {
     "model_module": "@jupyter-widgets/base",
     "model_module_version": "1.2.0",
     "model_name": "LayoutModel",
     "state": {
      "_model_module": "@jupyter-widgets/base",
      "_model_module_version": "1.2.0",
      "_model_name": "LayoutModel",
      "_view_count": null,
      "_view_module": "@jupyter-widgets/base",
      "_view_module_version": "1.2.0",
      "_view_name": "LayoutView",
      "align_content": null,
      "align_items": null,
      "align_self": null,
      "border": null,
      "bottom": null,
      "display": null,
      "flex": null,
      "flex_flow": null,
      "grid_area": null,
      "grid_auto_columns": null,
      "grid_auto_flow": null,
      "grid_auto_rows": null,
      "grid_column": null,
      "grid_gap": null,
      "grid_row": null,
      "grid_template_areas": null,
      "grid_template_columns": null,
      "grid_template_rows": null,
      "height": null,
      "justify_content": null,
      "justify_items": null,
      "left": null,
      "margin": null,
      "max_height": null,
      "max_width": null,
      "min_height": null,
      "min_width": null,
      "object_fit": null,
      "object_position": null,
      "order": null,
      "overflow": null,
      "overflow_x": null,
      "overflow_y": null,
      "padding": null,
      "right": null,
      "top": null,
      "visibility": null,
      "width": null
     }
    },
    "3d309d3d0afd47b39226d1a4d48cd741": {
     "model_module": "@jupyter-widgets/controls",
     "model_module_version": "1.5.0",
     "model_name": "DescriptionStyleModel",
     "state": {
      "_model_module": "@jupyter-widgets/controls",
      "_model_module_version": "1.5.0",
      "_model_name": "DescriptionStyleModel",
      "_view_count": null,
      "_view_module": "@jupyter-widgets/base",
      "_view_module_version": "1.2.0",
      "_view_name": "StyleView",
      "description_width": ""
     }
    },
    "41ec3254511640dba067392171575461": {
     "model_module": "@jupyter-widgets/base",
     "model_module_version": "1.2.0",
     "model_name": "LayoutModel",
     "state": {
      "_model_module": "@jupyter-widgets/base",
      "_model_module_version": "1.2.0",
      "_model_name": "LayoutModel",
      "_view_count": null,
      "_view_module": "@jupyter-widgets/base",
      "_view_module_version": "1.2.0",
      "_view_name": "LayoutView",
      "align_content": null,
      "align_items": null,
      "align_self": null,
      "border": null,
      "bottom": null,
      "display": null,
      "flex": null,
      "flex_flow": null,
      "grid_area": null,
      "grid_auto_columns": null,
      "grid_auto_flow": null,
      "grid_auto_rows": null,
      "grid_column": null,
      "grid_gap": null,
      "grid_row": null,
      "grid_template_areas": null,
      "grid_template_columns": null,
      "grid_template_rows": null,
      "height": null,
      "justify_content": null,
      "justify_items": null,
      "left": null,
      "margin": null,
      "max_height": null,
      "max_width": null,
      "min_height": null,
      "min_width": null,
      "object_fit": null,
      "object_position": null,
      "order": null,
      "overflow": null,
      "overflow_x": null,
      "overflow_y": null,
      "padding": null,
      "right": null,
      "top": null,
      "visibility": null,
      "width": null
     }
    },
    "47e81a0096944f1fa2dc5d5bde644ed6": {
     "model_module": "@jupyter-widgets/base",
     "model_module_version": "1.2.0",
     "model_name": "LayoutModel",
     "state": {
      "_model_module": "@jupyter-widgets/base",
      "_model_module_version": "1.2.0",
      "_model_name": "LayoutModel",
      "_view_count": null,
      "_view_module": "@jupyter-widgets/base",
      "_view_module_version": "1.2.0",
      "_view_name": "LayoutView",
      "align_content": null,
      "align_items": null,
      "align_self": null,
      "border": null,
      "bottom": null,
      "display": null,
      "flex": null,
      "flex_flow": null,
      "grid_area": null,
      "grid_auto_columns": null,
      "grid_auto_flow": null,
      "grid_auto_rows": null,
      "grid_column": null,
      "grid_gap": null,
      "grid_row": null,
      "grid_template_areas": null,
      "grid_template_columns": null,
      "grid_template_rows": null,
      "height": null,
      "justify_content": null,
      "justify_items": null,
      "left": null,
      "margin": null,
      "max_height": null,
      "max_width": null,
      "min_height": null,
      "min_width": null,
      "object_fit": null,
      "object_position": null,
      "order": null,
      "overflow": null,
      "overflow_x": null,
      "overflow_y": null,
      "padding": null,
      "right": null,
      "top": null,
      "visibility": null,
      "width": null
     }
    },
    "49441fdbf83f434ba5224007f60bbd49": {
     "model_module": "@jupyter-widgets/controls",
     "model_module_version": "1.5.0",
     "model_name": "FloatProgressModel",
     "state": {
      "_dom_classes": [],
      "_model_module": "@jupyter-widgets/controls",
      "_model_module_version": "1.5.0",
      "_model_name": "FloatProgressModel",
      "_view_count": null,
      "_view_module": "@jupyter-widgets/controls",
      "_view_module_version": "1.5.0",
      "_view_name": "ProgressView",
      "bar_style": "success",
      "description": "",
      "description_tooltip": null,
      "layout": "IPY_MODEL_b20b4f1fe60f48af8d3f2f71d6cb83f5",
      "max": 248477,
      "min": 0,
      "orientation": "horizontal",
      "style": "IPY_MODEL_7f18052564204de9849556938289a1e4",
      "value": 248477
     }
    },
    "4d239abde9cb46bba74bfb07453ebb54": {
     "model_module": "@jupyter-widgets/controls",
     "model_module_version": "1.5.0",
     "model_name": "ProgressStyleModel",
     "state": {
      "_model_module": "@jupyter-widgets/controls",
      "_model_module_version": "1.5.0",
      "_model_name": "ProgressStyleModel",
      "_view_count": null,
      "_view_module": "@jupyter-widgets/base",
      "_view_module_version": "1.2.0",
      "_view_name": "StyleView",
      "bar_color": null,
      "description_width": ""
     }
    },
    "4e02e015b328435585be97bc966bda6f": {
     "model_module": "@jupyter-widgets/base",
     "model_module_version": "1.2.0",
     "model_name": "LayoutModel",
     "state": {
      "_model_module": "@jupyter-widgets/base",
      "_model_module_version": "1.2.0",
      "_model_name": "LayoutModel",
      "_view_count": null,
      "_view_module": "@jupyter-widgets/base",
      "_view_module_version": "1.2.0",
      "_view_name": "LayoutView",
      "align_content": null,
      "align_items": null,
      "align_self": null,
      "border": null,
      "bottom": null,
      "display": null,
      "flex": null,
      "flex_flow": null,
      "grid_area": null,
      "grid_auto_columns": null,
      "grid_auto_flow": null,
      "grid_auto_rows": null,
      "grid_column": null,
      "grid_gap": null,
      "grid_row": null,
      "grid_template_areas": null,
      "grid_template_columns": null,
      "grid_template_rows": null,
      "height": null,
      "justify_content": null,
      "justify_items": null,
      "left": null,
      "margin": null,
      "max_height": null,
      "max_width": null,
      "min_height": null,
      "min_width": null,
      "object_fit": null,
      "object_position": null,
      "order": null,
      "overflow": null,
      "overflow_x": null,
      "overflow_y": null,
      "padding": null,
      "right": null,
      "top": null,
      "visibility": null,
      "width": null
     }
    },
    "4f5de6276e00437589cc133df65a594e": {
     "model_module": "@jupyter-widgets/controls",
     "model_module_version": "1.5.0",
     "model_name": "ProgressStyleModel",
     "state": {
      "_model_module": "@jupyter-widgets/controls",
      "_model_module_version": "1.5.0",
      "_model_name": "ProgressStyleModel",
      "_view_count": null,
      "_view_module": "@jupyter-widgets/base",
      "_view_module_version": "1.2.0",
      "_view_name": "StyleView",
      "bar_color": null,
      "description_width": ""
     }
    },
    "5419eac324a647e5bb2e3811af98d2b7": {
     "model_module": "@jupyter-widgets/controls",
     "model_module_version": "1.5.0",
     "model_name": "DescriptionStyleModel",
     "state": {
      "_model_module": "@jupyter-widgets/controls",
      "_model_module_version": "1.5.0",
      "_model_name": "DescriptionStyleModel",
      "_view_count": null,
      "_view_module": "@jupyter-widgets/base",
      "_view_module_version": "1.2.0",
      "_view_name": "StyleView",
      "description_width": ""
     }
    },
    "586419a6faa84b31ab85b62baf620526": {
     "model_module": "@jupyter-widgets/base",
     "model_module_version": "1.2.0",
     "model_name": "LayoutModel",
     "state": {
      "_model_module": "@jupyter-widgets/base",
      "_model_module_version": "1.2.0",
      "_model_name": "LayoutModel",
      "_view_count": null,
      "_view_module": "@jupyter-widgets/base",
      "_view_module_version": "1.2.0",
      "_view_name": "LayoutView",
      "align_content": null,
      "align_items": null,
      "align_self": null,
      "border": null,
      "bottom": null,
      "display": null,
      "flex": null,
      "flex_flow": null,
      "grid_area": null,
      "grid_auto_columns": null,
      "grid_auto_flow": null,
      "grid_auto_rows": null,
      "grid_column": null,
      "grid_gap": null,
      "grid_row": null,
      "grid_template_areas": null,
      "grid_template_columns": null,
      "grid_template_rows": null,
      "height": null,
      "justify_content": null,
      "justify_items": null,
      "left": null,
      "margin": null,
      "max_height": null,
      "max_width": null,
      "min_height": null,
      "min_width": null,
      "object_fit": null,
      "object_position": null,
      "order": null,
      "overflow": null,
      "overflow_x": null,
      "overflow_y": null,
      "padding": null,
      "right": null,
      "top": null,
      "visibility": null,
      "width": null
     }
    },
    "5c4650975433442db4818cb9202db0e0": {
     "model_module": "@jupyter-widgets/controls",
     "model_module_version": "1.5.0",
     "model_name": "HTMLModel",
     "state": {
      "_dom_classes": [],
      "_model_module": "@jupyter-widgets/controls",
      "_model_module_version": "1.5.0",
      "_model_name": "HTMLModel",
      "_view_count": null,
      "_view_module": "@jupyter-widgets/controls",
      "_view_module_version": "1.5.0",
      "_view_name": "HTMLView",
      "description": "",
      "description_tooltip": null,
      "layout": "IPY_MODEL_f07181c3df2e43888f4f9dac49e250f6",
      "placeholder": "​",
      "style": "IPY_MODEL_3d309d3d0afd47b39226d1a4d48cd741",
      "value": " 425/425 [00:00&lt;00:00, 18.4kB/s]"
     }
    },
    "5f37a27251794de5abbd6fe84e4ee058": {
     "model_module": "@jupyter-widgets/controls",
     "model_module_version": "1.5.0",
     "model_name": "DescriptionStyleModel",
     "state": {
      "_model_module": "@jupyter-widgets/controls",
      "_model_module_version": "1.5.0",
      "_model_name": "DescriptionStyleModel",
      "_view_count": null,
      "_view_module": "@jupyter-widgets/base",
      "_view_module_version": "1.2.0",
      "_view_name": "StyleView",
      "description_width": ""
     }
    },
    "601c25356e1e41148a266c6c50867288": {
     "model_module": "@jupyter-widgets/controls",
     "model_module_version": "1.5.0",
     "model_name": "FloatProgressModel",
     "state": {
      "_dom_classes": [],
      "_model_module": "@jupyter-widgets/controls",
      "_model_module_version": "1.5.0",
      "_model_name": "FloatProgressModel",
      "_view_count": null,
      "_view_module": "@jupyter-widgets/controls",
      "_view_module_version": "1.5.0",
      "_view_name": "ProgressView",
      "bar_style": "success",
      "description": "",
      "description_tooltip": null,
      "layout": "IPY_MODEL_47e81a0096944f1fa2dc5d5bde644ed6",
      "max": 425,
      "min": 0,
      "orientation": "horizontal",
      "style": "IPY_MODEL_d201442b40534189b5a39e6c37cb9b87",
      "value": 425
     }
    },
    "60c274d983c043209192d7e9948328db": {
     "model_module": "@jupyter-widgets/controls",
     "model_module_version": "1.5.0",
     "model_name": "DescriptionStyleModel",
     "state": {
      "_model_module": "@jupyter-widgets/controls",
      "_model_module_version": "1.5.0",
      "_model_name": "DescriptionStyleModel",
      "_view_count": null,
      "_view_module": "@jupyter-widgets/base",
      "_view_module_version": "1.2.0",
      "_view_name": "StyleView",
      "description_width": ""
     }
    },
    "63a47000ba11459d9949276e3934403b": {
     "model_module": "@jupyter-widgets/controls",
     "model_module_version": "1.5.0",
     "model_name": "HTMLModel",
     "state": {
      "_dom_classes": [],
      "_model_module": "@jupyter-widgets/controls",
      "_model_module_version": "1.5.0",
      "_model_name": "HTMLModel",
      "_view_count": null,
      "_view_module": "@jupyter-widgets/controls",
      "_view_module_version": "1.5.0",
      "_view_name": "HTMLView",
      "description": "",
      "description_tooltip": null,
      "layout": "IPY_MODEL_0ce0619a95964ffe820ea9dc98880f6b",
      "placeholder": "​",
      "style": "IPY_MODEL_81f8ee6c540d4f7d8ca24b04c5dd7c3e",
      "value": " 445M/445M [00:05&lt;00:00, 94.0MB/s]"
     }
    },
    "70b589ab76ee452884fd2d6cc0097e7d": {
     "model_module": "@jupyter-widgets/controls",
     "model_module_version": "1.5.0",
     "model_name": "HTMLModel",
     "state": {
      "_dom_classes": [],
      "_model_module": "@jupyter-widgets/controls",
      "_model_module_version": "1.5.0",
      "_model_name": "HTMLModel",
      "_view_count": null,
      "_view_module": "@jupyter-widgets/controls",
      "_view_module_version": "1.5.0",
      "_view_name": "HTMLView",
      "description": "",
      "description_tooltip": null,
      "layout": "IPY_MODEL_db37c185a3df4835b24107084b2f8175",
      "placeholder": "​",
      "style": "IPY_MODEL_a0a8c89fc56046bab7872ca2e507e3d8",
      "value": "Downloading (…)cial_tokens_map.json: 100%"
     }
    },
    "71b417631ba14847a02423c0c9ec4502": {
     "model_module": "@jupyter-widgets/controls",
     "model_module_version": "1.5.0",
     "model_name": "FloatProgressModel",
     "state": {
      "_dom_classes": [],
      "_model_module": "@jupyter-widgets/controls",
      "_model_module_version": "1.5.0",
      "_model_name": "FloatProgressModel",
      "_view_count": null,
      "_view_module": "@jupyter-widgets/controls",
      "_view_module_version": "1.5.0",
      "_view_name": "ProgressView",
      "bar_style": "success",
      "description": "",
      "description_tooltip": null,
      "layout": "IPY_MODEL_adf5779a868d4b2c83257e7ce4e1f753",
      "max": 445025130,
      "min": 0,
      "orientation": "horizontal",
      "style": "IPY_MODEL_91ad273184ea4112ba601e817294ddc1",
      "value": 445025130
     }
    },
    "73a1d57781a640abb9adce667bc7223f": {
     "model_module": "@jupyter-widgets/controls",
     "model_module_version": "1.5.0",
     "model_name": "HTMLModel",
     "state": {
      "_dom_classes": [],
      "_model_module": "@jupyter-widgets/controls",
      "_model_module_version": "1.5.0",
      "_model_name": "HTMLModel",
      "_view_count": null,
      "_view_module": "@jupyter-widgets/controls",
      "_view_module_version": "1.5.0",
      "_view_name": "HTMLView",
      "description": "",
      "description_tooltip": null,
      "layout": "IPY_MODEL_75c212d84fea40fb8c7e3a6eb8d38f70",
      "placeholder": "​",
      "style": "IPY_MODEL_1c9e0456af694168aa7db525510e6f11",
      "value": "Downloading (…)lve/main/config.json: 100%"
     }
    },
    "741cce3ab92c4c829b3ce41ddd698895": {
     "model_module": "@jupyter-widgets/controls",
     "model_module_version": "1.5.0",
     "model_name": "FloatProgressModel",
     "state": {
      "_dom_classes": [],
      "_model_module": "@jupyter-widgets/controls",
      "_model_module_version": "1.5.0",
      "_model_name": "FloatProgressModel",
      "_view_count": null,
      "_view_module": "@jupyter-widgets/controls",
      "_view_module_version": "1.5.0",
      "_view_name": "ProgressView",
      "bar_style": "success",
      "description": "",
      "description_tooltip": null,
      "layout": "IPY_MODEL_b7f8e23e9bc944aaa08d1112a18f2290",
      "max": 125,
      "min": 0,
      "orientation": "horizontal",
      "style": "IPY_MODEL_4d239abde9cb46bba74bfb07453ebb54",
      "value": 125
     }
    },
    "75c212d84fea40fb8c7e3a6eb8d38f70": {
     "model_module": "@jupyter-widgets/base",
     "model_module_version": "1.2.0",
     "model_name": "LayoutModel",
     "state": {
      "_model_module": "@jupyter-widgets/base",
      "_model_module_version": "1.2.0",
      "_model_name": "LayoutModel",
      "_view_count": null,
      "_view_module": "@jupyter-widgets/base",
      "_view_module_version": "1.2.0",
      "_view_name": "LayoutView",
      "align_content": null,
      "align_items": null,
      "align_self": null,
      "border": null,
      "bottom": null,
      "display": null,
      "flex": null,
      "flex_flow": null,
      "grid_area": null,
      "grid_auto_columns": null,
      "grid_auto_flow": null,
      "grid_auto_rows": null,
      "grid_column": null,
      "grid_gap": null,
      "grid_row": null,
      "grid_template_areas": null,
      "grid_template_columns": null,
      "grid_template_rows": null,
      "height": null,
      "justify_content": null,
      "justify_items": null,
      "left": null,
      "margin": null,
      "max_height": null,
      "max_width": null,
      "min_height": null,
      "min_width": null,
      "object_fit": null,
      "object_position": null,
      "order": null,
      "overflow": null,
      "overflow_x": null,
      "overflow_y": null,
      "padding": null,
      "right": null,
      "top": null,
      "visibility": null,
      "width": null
     }
    },
    "7679585f5bc5470f929fe9764b66d688": {
     "model_module": "@jupyter-widgets/base",
     "model_module_version": "1.2.0",
     "model_name": "LayoutModel",
     "state": {
      "_model_module": "@jupyter-widgets/base",
      "_model_module_version": "1.2.0",
      "_model_name": "LayoutModel",
      "_view_count": null,
      "_view_module": "@jupyter-widgets/base",
      "_view_module_version": "1.2.0",
      "_view_name": "LayoutView",
      "align_content": null,
      "align_items": null,
      "align_self": null,
      "border": null,
      "bottom": null,
      "display": null,
      "flex": null,
      "flex_flow": null,
      "grid_area": null,
      "grid_auto_columns": null,
      "grid_auto_flow": null,
      "grid_auto_rows": null,
      "grid_column": null,
      "grid_gap": null,
      "grid_row": null,
      "grid_template_areas": null,
      "grid_template_columns": null,
      "grid_template_rows": null,
      "height": null,
      "justify_content": null,
      "justify_items": null,
      "left": null,
      "margin": null,
      "max_height": null,
      "max_width": null,
      "min_height": null,
      "min_width": null,
      "object_fit": null,
      "object_position": null,
      "order": null,
      "overflow": null,
      "overflow_x": null,
      "overflow_y": null,
      "padding": null,
      "right": null,
      "top": null,
      "visibility": null,
      "width": null
     }
    },
    "79f90b1e3f3d4c708e0bc0c92995240a": {
     "model_module": "@jupyter-widgets/controls",
     "model_module_version": "1.5.0",
     "model_name": "HBoxModel",
     "state": {
      "_dom_classes": [],
      "_model_module": "@jupyter-widgets/controls",
      "_model_module_version": "1.5.0",
      "_model_name": "HBoxModel",
      "_view_count": null,
      "_view_module": "@jupyter-widgets/controls",
      "_view_module_version": "1.5.0",
      "_view_name": "HBoxView",
      "box_style": "",
      "children": [
       "IPY_MODEL_70b589ab76ee452884fd2d6cc0097e7d",
       "IPY_MODEL_741cce3ab92c4c829b3ce41ddd698895",
       "IPY_MODEL_c0943b5db3ba433ca6907ffe43b043a1"
      ],
      "layout": "IPY_MODEL_41ec3254511640dba067392171575461"
     }
    },
    "7d0251501e9546fd8a5db963430adff4": {
     "model_module": "@jupyter-widgets/controls",
     "model_module_version": "1.5.0",
     "model_name": "HBoxModel",
     "state": {
      "_dom_classes": [],
      "_model_module": "@jupyter-widgets/controls",
      "_model_module_version": "1.5.0",
      "_model_name": "HBoxModel",
      "_view_count": null,
      "_view_module": "@jupyter-widgets/controls",
      "_view_module_version": "1.5.0",
      "_view_name": "HBoxView",
      "box_style": "",
      "children": [
       "IPY_MODEL_b72bbb8f17544f108016d0d776e20dd3",
       "IPY_MODEL_d7f1107f035f41eba6ae5b6f62650454",
       "IPY_MODEL_1cc948b4ed954421b41bbf68cdce7e05"
      ],
      "layout": "IPY_MODEL_a3b9899ed57f4086839f739a02e63536"
     }
    },
    "7de318de9a6e464e9cc8d7c375f90eb3": {
     "model_module": "@jupyter-widgets/base",
     "model_module_version": "1.2.0",
     "model_name": "LayoutModel",
     "state": {
      "_model_module": "@jupyter-widgets/base",
      "_model_module_version": "1.2.0",
      "_model_name": "LayoutModel",
      "_view_count": null,
      "_view_module": "@jupyter-widgets/base",
      "_view_module_version": "1.2.0",
      "_view_name": "LayoutView",
      "align_content": null,
      "align_items": null,
      "align_self": null,
      "border": null,
      "bottom": null,
      "display": null,
      "flex": null,
      "flex_flow": null,
      "grid_area": null,
      "grid_auto_columns": null,
      "grid_auto_flow": null,
      "grid_auto_rows": null,
      "grid_column": null,
      "grid_gap": null,
      "grid_row": null,
      "grid_template_areas": null,
      "grid_template_columns": null,
      "grid_template_rows": null,
      "height": null,
      "justify_content": null,
      "justify_items": null,
      "left": null,
      "margin": null,
      "max_height": null,
      "max_width": null,
      "min_height": null,
      "min_width": null,
      "object_fit": null,
      "object_position": null,
      "order": null,
      "overflow": null,
      "overflow_x": null,
      "overflow_y": null,
      "padding": null,
      "right": null,
      "top": null,
      "visibility": null,
      "width": null
     }
    },
    "7f18052564204de9849556938289a1e4": {
     "model_module": "@jupyter-widgets/controls",
     "model_module_version": "1.5.0",
     "model_name": "ProgressStyleModel",
     "state": {
      "_model_module": "@jupyter-widgets/controls",
      "_model_module_version": "1.5.0",
      "_model_name": "ProgressStyleModel",
      "_view_count": null,
      "_view_module": "@jupyter-widgets/base",
      "_view_module_version": "1.2.0",
      "_view_name": "StyleView",
      "bar_color": null,
      "description_width": ""
     }
    },
    "81f8ee6c540d4f7d8ca24b04c5dd7c3e": {
     "model_module": "@jupyter-widgets/controls",
     "model_module_version": "1.5.0",
     "model_name": "DescriptionStyleModel",
     "state": {
      "_model_module": "@jupyter-widgets/controls",
      "_model_module_version": "1.5.0",
      "_model_name": "DescriptionStyleModel",
      "_view_count": null,
      "_view_module": "@jupyter-widgets/base",
      "_view_module_version": "1.2.0",
      "_view_name": "StyleView",
      "description_width": ""
     }
    },
    "8492d5a9e5db4df6b8bada90e6e540da": {
     "model_module": "@jupyter-widgets/controls",
     "model_module_version": "1.5.0",
     "model_name": "HBoxModel",
     "state": {
      "_dom_classes": [],
      "_model_module": "@jupyter-widgets/controls",
      "_model_module_version": "1.5.0",
      "_model_name": "HBoxModel",
      "_view_count": null,
      "_view_module": "@jupyter-widgets/controls",
      "_view_module_version": "1.5.0",
      "_view_name": "HBoxView",
      "box_style": "",
      "children": [
       "IPY_MODEL_950521aac36c4cea8185bd9e1bd0eb1f",
       "IPY_MODEL_71b417631ba14847a02423c0c9ec4502",
       "IPY_MODEL_63a47000ba11459d9949276e3934403b"
      ],
      "layout": "IPY_MODEL_586419a6faa84b31ab85b62baf620526"
     }
    },
    "91ad273184ea4112ba601e817294ddc1": {
     "model_module": "@jupyter-widgets/controls",
     "model_module_version": "1.5.0",
     "model_name": "ProgressStyleModel",
     "state": {
      "_model_module": "@jupyter-widgets/controls",
      "_model_module_version": "1.5.0",
      "_model_name": "ProgressStyleModel",
      "_view_count": null,
      "_view_module": "@jupyter-widgets/base",
      "_view_module_version": "1.2.0",
      "_view_name": "StyleView",
      "bar_color": null,
      "description_width": ""
     }
    },
    "950521aac36c4cea8185bd9e1bd0eb1f": {
     "model_module": "@jupyter-widgets/controls",
     "model_module_version": "1.5.0",
     "model_name": "HTMLModel",
     "state": {
      "_dom_classes": [],
      "_model_module": "@jupyter-widgets/controls",
      "_model_module_version": "1.5.0",
      "_model_name": "HTMLModel",
      "_view_count": null,
      "_view_module": "@jupyter-widgets/controls",
      "_view_module_version": "1.5.0",
      "_view_name": "HTMLView",
      "description": "",
      "description_tooltip": null,
      "layout": "IPY_MODEL_3cac15b31eeb469c83c291740cba6577",
      "placeholder": "​",
      "style": "IPY_MODEL_b190a21cb63c4d5584bf933e9c4f9624",
      "value": "Downloading (…)&quot;pytorch_model.bin&quot;;: 100%"
     }
    },
    "9a2c08bc39d74f1495a8cb69e8b63077": {
     "model_module": "@jupyter-widgets/controls",
     "model_module_version": "1.5.0",
     "model_name": "HBoxModel",
     "state": {
      "_dom_classes": [],
      "_model_module": "@jupyter-widgets/controls",
      "_model_module_version": "1.5.0",
      "_model_name": "HBoxModel",
      "_view_count": null,
      "_view_module": "@jupyter-widgets/controls",
      "_view_module_version": "1.5.0",
      "_view_name": "HBoxView",
      "box_style": "",
      "children": [
       "IPY_MODEL_1581da365a82489dbf8069182bde46fc",
       "IPY_MODEL_49441fdbf83f434ba5224007f60bbd49",
       "IPY_MODEL_37d59573fb5f4c0f912d682484c01655"
      ],
      "layout": "IPY_MODEL_01c2d12a7dbf41d38ef15d97579507bc"
     }
    },
    "a0a8c89fc56046bab7872ca2e507e3d8": {
     "model_module": "@jupyter-widgets/controls",
     "model_module_version": "1.5.0",
     "model_name": "DescriptionStyleModel",
     "state": {
      "_model_module": "@jupyter-widgets/controls",
      "_model_module_version": "1.5.0",
      "_model_name": "DescriptionStyleModel",
      "_view_count": null,
      "_view_module": "@jupyter-widgets/base",
      "_view_module_version": "1.2.0",
      "_view_name": "StyleView",
      "description_width": ""
     }
    },
    "a3b9899ed57f4086839f739a02e63536": {
     "model_module": "@jupyter-widgets/base",
     "model_module_version": "1.2.0",
     "model_name": "LayoutModel",
     "state": {
      "_model_module": "@jupyter-widgets/base",
      "_model_module_version": "1.2.0",
      "_model_name": "LayoutModel",
      "_view_count": null,
      "_view_module": "@jupyter-widgets/base",
      "_view_module_version": "1.2.0",
      "_view_name": "LayoutView",
      "align_content": null,
      "align_items": null,
      "align_self": null,
      "border": null,
      "bottom": null,
      "display": null,
      "flex": null,
      "flex_flow": null,
      "grid_area": null,
      "grid_auto_columns": null,
      "grid_auto_flow": null,
      "grid_auto_rows": null,
      "grid_column": null,
      "grid_gap": null,
      "grid_row": null,
      "grid_template_areas": null,
      "grid_template_columns": null,
      "grid_template_rows": null,
      "height": null,
      "justify_content": null,
      "justify_items": null,
      "left": null,
      "margin": null,
      "max_height": null,
      "max_width": null,
      "min_height": null,
      "min_width": null,
      "object_fit": null,
      "object_position": null,
      "order": null,
      "overflow": null,
      "overflow_x": null,
      "overflow_y": null,
      "padding": null,
      "right": null,
      "top": null,
      "visibility": null,
      "width": null
     }
    },
    "ab4d2c6b37ea4e058bf4a9c1269d6cfb": {
     "model_module": "@jupyter-widgets/controls",
     "model_module_version": "1.5.0",
     "model_name": "DescriptionStyleModel",
     "state": {
      "_model_module": "@jupyter-widgets/controls",
      "_model_module_version": "1.5.0",
      "_model_name": "DescriptionStyleModel",
      "_view_count": null,
      "_view_module": "@jupyter-widgets/base",
      "_view_module_version": "1.2.0",
      "_view_name": "StyleView",
      "description_width": ""
     }
    },
    "ace2033e5f474f9190705a13288332a3": {
     "model_module": "@jupyter-widgets/controls",
     "model_module_version": "1.5.0",
     "model_name": "DescriptionStyleModel",
     "state": {
      "_model_module": "@jupyter-widgets/controls",
      "_model_module_version": "1.5.0",
      "_model_name": "DescriptionStyleModel",
      "_view_count": null,
      "_view_module": "@jupyter-widgets/base",
      "_view_module_version": "1.2.0",
      "_view_name": "StyleView",
      "description_width": ""
     }
    },
    "adf5779a868d4b2c83257e7ce4e1f753": {
     "model_module": "@jupyter-widgets/base",
     "model_module_version": "1.2.0",
     "model_name": "LayoutModel",
     "state": {
      "_model_module": "@jupyter-widgets/base",
      "_model_module_version": "1.2.0",
      "_model_name": "LayoutModel",
      "_view_count": null,
      "_view_module": "@jupyter-widgets/base",
      "_view_module_version": "1.2.0",
      "_view_name": "LayoutView",
      "align_content": null,
      "align_items": null,
      "align_self": null,
      "border": null,
      "bottom": null,
      "display": null,
      "flex": null,
      "flex_flow": null,
      "grid_area": null,
      "grid_auto_columns": null,
      "grid_auto_flow": null,
      "grid_auto_rows": null,
      "grid_column": null,
      "grid_gap": null,
      "grid_row": null,
      "grid_template_areas": null,
      "grid_template_columns": null,
      "grid_template_rows": null,
      "height": null,
      "justify_content": null,
      "justify_items": null,
      "left": null,
      "margin": null,
      "max_height": null,
      "max_width": null,
      "min_height": null,
      "min_width": null,
      "object_fit": null,
      "object_position": null,
      "order": null,
      "overflow": null,
      "overflow_x": null,
      "overflow_y": null,
      "padding": null,
      "right": null,
      "top": null,
      "visibility": null,
      "width": null
     }
    },
    "b190a21cb63c4d5584bf933e9c4f9624": {
     "model_module": "@jupyter-widgets/controls",
     "model_module_version": "1.5.0",
     "model_name": "DescriptionStyleModel",
     "state": {
      "_model_module": "@jupyter-widgets/controls",
      "_model_module_version": "1.5.0",
      "_model_name": "DescriptionStyleModel",
      "_view_count": null,
      "_view_module": "@jupyter-widgets/base",
      "_view_module_version": "1.2.0",
      "_view_name": "StyleView",
      "description_width": ""
     }
    },
    "b20b4f1fe60f48af8d3f2f71d6cb83f5": {
     "model_module": "@jupyter-widgets/base",
     "model_module_version": "1.2.0",
     "model_name": "LayoutModel",
     "state": {
      "_model_module": "@jupyter-widgets/base",
      "_model_module_version": "1.2.0",
      "_model_name": "LayoutModel",
      "_view_count": null,
      "_view_module": "@jupyter-widgets/base",
      "_view_module_version": "1.2.0",
      "_view_name": "LayoutView",
      "align_content": null,
      "align_items": null,
      "align_self": null,
      "border": null,
      "bottom": null,
      "display": null,
      "flex": null,
      "flex_flow": null,
      "grid_area": null,
      "grid_auto_columns": null,
      "grid_auto_flow": null,
      "grid_auto_rows": null,
      "grid_column": null,
      "grid_gap": null,
      "grid_row": null,
      "grid_template_areas": null,
      "grid_template_columns": null,
      "grid_template_rows": null,
      "height": null,
      "justify_content": null,
      "justify_items": null,
      "left": null,
      "margin": null,
      "max_height": null,
      "max_width": null,
      "min_height": null,
      "min_width": null,
      "object_fit": null,
      "object_position": null,
      "order": null,
      "overflow": null,
      "overflow_x": null,
      "overflow_y": null,
      "padding": null,
      "right": null,
      "top": null,
      "visibility": null,
      "width": null
     }
    },
    "b5abf8ca418b46abb87ff9cd9cb36eea": {
     "model_module": "@jupyter-widgets/base",
     "model_module_version": "1.2.0",
     "model_name": "LayoutModel",
     "state": {
      "_model_module": "@jupyter-widgets/base",
      "_model_module_version": "1.2.0",
      "_model_name": "LayoutModel",
      "_view_count": null,
      "_view_module": "@jupyter-widgets/base",
      "_view_module_version": "1.2.0",
      "_view_name": "LayoutView",
      "align_content": null,
      "align_items": null,
      "align_self": null,
      "border": null,
      "bottom": null,
      "display": null,
      "flex": null,
      "flex_flow": null,
      "grid_area": null,
      "grid_auto_columns": null,
      "grid_auto_flow": null,
      "grid_auto_rows": null,
      "grid_column": null,
      "grid_gap": null,
      "grid_row": null,
      "grid_template_areas": null,
      "grid_template_columns": null,
      "grid_template_rows": null,
      "height": null,
      "justify_content": null,
      "justify_items": null,
      "left": null,
      "margin": null,
      "max_height": null,
      "max_width": null,
      "min_height": null,
      "min_width": null,
      "object_fit": null,
      "object_position": null,
      "order": null,
      "overflow": null,
      "overflow_x": null,
      "overflow_y": null,
      "padding": null,
      "right": null,
      "top": null,
      "visibility": null,
      "width": null
     }
    },
    "b72bbb8f17544f108016d0d776e20dd3": {
     "model_module": "@jupyter-widgets/controls",
     "model_module_version": "1.5.0",
     "model_name": "HTMLModel",
     "state": {
      "_dom_classes": [],
      "_model_module": "@jupyter-widgets/controls",
      "_model_module_version": "1.5.0",
      "_model_name": "HTMLModel",
      "_view_count": null,
      "_view_module": "@jupyter-widgets/controls",
      "_view_module_version": "1.5.0",
      "_view_name": "HTMLView",
      "description": "",
      "description_tooltip": null,
      "layout": "IPY_MODEL_3bad3ed3890e4363b6bb83ecd323f51e",
      "placeholder": "​",
      "style": "IPY_MODEL_60c274d983c043209192d7e9948328db",
      "value": "Downloading (…)okenizer_config.json: 100%"
     }
    },
    "b7f8e23e9bc944aaa08d1112a18f2290": {
     "model_module": "@jupyter-widgets/base",
     "model_module_version": "1.2.0",
     "model_name": "LayoutModel",
     "state": {
      "_model_module": "@jupyter-widgets/base",
      "_model_module_version": "1.2.0",
      "_model_name": "LayoutModel",
      "_view_count": null,
      "_view_module": "@jupyter-widgets/base",
      "_view_module_version": "1.2.0",
      "_view_name": "LayoutView",
      "align_content": null,
      "align_items": null,
      "align_self": null,
      "border": null,
      "bottom": null,
      "display": null,
      "flex": null,
      "flex_flow": null,
      "grid_area": null,
      "grid_auto_columns": null,
      "grid_auto_flow": null,
      "grid_auto_rows": null,
      "grid_column": null,
      "grid_gap": null,
      "grid_row": null,
      "grid_template_areas": null,
      "grid_template_columns": null,
      "grid_template_rows": null,
      "height": null,
      "justify_content": null,
      "justify_items": null,
      "left": null,
      "margin": null,
      "max_height": null,
      "max_width": null,
      "min_height": null,
      "min_width": null,
      "object_fit": null,
      "object_position": null,
      "order": null,
      "overflow": null,
      "overflow_x": null,
      "overflow_y": null,
      "padding": null,
      "right": null,
      "top": null,
      "visibility": null,
      "width": null
     }
    },
    "c0943b5db3ba433ca6907ffe43b043a1": {
     "model_module": "@jupyter-widgets/controls",
     "model_module_version": "1.5.0",
     "model_name": "HTMLModel",
     "state": {
      "_dom_classes": [],
      "_model_module": "@jupyter-widgets/controls",
      "_model_module_version": "1.5.0",
      "_model_name": "HTMLModel",
      "_view_count": null,
      "_view_module": "@jupyter-widgets/controls",
      "_view_module_version": "1.5.0",
      "_view_name": "HTMLView",
      "description": "",
      "description_tooltip": null,
      "layout": "IPY_MODEL_caa5c37b0a504ec7bd1e08c862e4dabf",
      "placeholder": "​",
      "style": "IPY_MODEL_ab4d2c6b37ea4e058bf4a9c1269d6cfb",
      "value": " 125/125 [00:00&lt;00:00, 8.24kB/s]"
     }
    },
    "caa5c37b0a504ec7bd1e08c862e4dabf": {
     "model_module": "@jupyter-widgets/base",
     "model_module_version": "1.2.0",
     "model_name": "LayoutModel",
     "state": {
      "_model_module": "@jupyter-widgets/base",
      "_model_module_version": "1.2.0",
      "_model_name": "LayoutModel",
      "_view_count": null,
      "_view_module": "@jupyter-widgets/base",
      "_view_module_version": "1.2.0",
      "_view_name": "LayoutView",
      "align_content": null,
      "align_items": null,
      "align_self": null,
      "border": null,
      "bottom": null,
      "display": null,
      "flex": null,
      "flex_flow": null,
      "grid_area": null,
      "grid_auto_columns": null,
      "grid_auto_flow": null,
      "grid_auto_rows": null,
      "grid_column": null,
      "grid_gap": null,
      "grid_row": null,
      "grid_template_areas": null,
      "grid_template_columns": null,
      "grid_template_rows": null,
      "height": null,
      "justify_content": null,
      "justify_items": null,
      "left": null,
      "margin": null,
      "max_height": null,
      "max_width": null,
      "min_height": null,
      "min_width": null,
      "object_fit": null,
      "object_position": null,
      "order": null,
      "overflow": null,
      "overflow_x": null,
      "overflow_y": null,
      "padding": null,
      "right": null,
      "top": null,
      "visibility": null,
      "width": null
     }
    },
    "d201442b40534189b5a39e6c37cb9b87": {
     "model_module": "@jupyter-widgets/controls",
     "model_module_version": "1.5.0",
     "model_name": "ProgressStyleModel",
     "state": {
      "_model_module": "@jupyter-widgets/controls",
      "_model_module_version": "1.5.0",
      "_model_name": "ProgressStyleModel",
      "_view_count": null,
      "_view_module": "@jupyter-widgets/base",
      "_view_module_version": "1.2.0",
      "_view_name": "StyleView",
      "bar_color": null,
      "description_width": ""
     }
    },
    "d7f1107f035f41eba6ae5b6f62650454": {
     "model_module": "@jupyter-widgets/controls",
     "model_module_version": "1.5.0",
     "model_name": "FloatProgressModel",
     "state": {
      "_dom_classes": [],
      "_model_module": "@jupyter-widgets/controls",
      "_model_module_version": "1.5.0",
      "_model_name": "FloatProgressModel",
      "_view_count": null,
      "_view_module": "@jupyter-widgets/controls",
      "_view_module_version": "1.5.0",
      "_view_name": "ProgressView",
      "bar_style": "success",
      "description": "",
      "description_tooltip": null,
      "layout": "IPY_MODEL_b5abf8ca418b46abb87ff9cd9cb36eea",
      "max": 289,
      "min": 0,
      "orientation": "horizontal",
      "style": "IPY_MODEL_4f5de6276e00437589cc133df65a594e",
      "value": 289
     }
    },
    "db37c185a3df4835b24107084b2f8175": {
     "model_module": "@jupyter-widgets/base",
     "model_module_version": "1.2.0",
     "model_name": "LayoutModel",
     "state": {
      "_model_module": "@jupyter-widgets/base",
      "_model_module_version": "1.2.0",
      "_model_name": "LayoutModel",
      "_view_count": null,
      "_view_module": "@jupyter-widgets/base",
      "_view_module_version": "1.2.0",
      "_view_name": "LayoutView",
      "align_content": null,
      "align_items": null,
      "align_self": null,
      "border": null,
      "bottom": null,
      "display": null,
      "flex": null,
      "flex_flow": null,
      "grid_area": null,
      "grid_auto_columns": null,
      "grid_auto_flow": null,
      "grid_auto_rows": null,
      "grid_column": null,
      "grid_gap": null,
      "grid_row": null,
      "grid_template_areas": null,
      "grid_template_columns": null,
      "grid_template_rows": null,
      "height": null,
      "justify_content": null,
      "justify_items": null,
      "left": null,
      "margin": null,
      "max_height": null,
      "max_width": null,
      "min_height": null,
      "min_width": null,
      "object_fit": null,
      "object_position": null,
      "order": null,
      "overflow": null,
      "overflow_x": null,
      "overflow_y": null,
      "padding": null,
      "right": null,
      "top": null,
      "visibility": null,
      "width": null
     }
    },
    "f07181c3df2e43888f4f9dac49e250f6": {
     "model_module": "@jupyter-widgets/base",
     "model_module_version": "1.2.0",
     "model_name": "LayoutModel",
     "state": {
      "_model_module": "@jupyter-widgets/base",
      "_model_module_version": "1.2.0",
      "_model_name": "LayoutModel",
      "_view_count": null,
      "_view_module": "@jupyter-widgets/base",
      "_view_module_version": "1.2.0",
      "_view_name": "LayoutView",
      "align_content": null,
      "align_items": null,
      "align_self": null,
      "border": null,
      "bottom": null,
      "display": null,
      "flex": null,
      "flex_flow": null,
      "grid_area": null,
      "grid_auto_columns": null,
      "grid_auto_flow": null,
      "grid_auto_rows": null,
      "grid_column": null,
      "grid_gap": null,
      "grid_row": null,
      "grid_template_areas": null,
      "grid_template_columns": null,
      "grid_template_rows": null,
      "height": null,
      "justify_content": null,
      "justify_items": null,
      "left": null,
      "margin": null,
      "max_height": null,
      "max_width": null,
      "min_height": null,
      "min_width": null,
      "object_fit": null,
      "object_position": null,
      "order": null,
      "overflow": null,
      "overflow_x": null,
      "overflow_y": null,
      "padding": null,
      "right": null,
      "top": null,
      "visibility": null,
      "width": null
     }
    }
   }
  }
 },
 "nbformat": 4,
 "nbformat_minor": 1
}
