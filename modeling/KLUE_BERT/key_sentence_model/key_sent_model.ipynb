{
 "cells": [
  {
   "cell_type": "code",
   "execution_count": 1,
   "metadata": {
    "colab": {
     "base_uri": "https://localhost:8080/"
    },
    "executionInfo": {
     "elapsed": 4014,
     "status": "ok",
     "timestamp": 1676959404566,
     "user": {
      "displayName": "최다솔",
      "userId": "02081007897853777168"
     },
     "user_tz": -540
    },
    "id": "jZQUHsJARy0q",
    "outputId": "739f2d7f-29a2-48fb-bdce-15375d55ff30",
    "scrolled": true
   },
   "outputs": [],
   "source": [
    "# !pip install transformers\n",
    "# !pip install tensorflow_addons"
   ]
  },
  {
   "cell_type": "code",
   "execution_count": 1,
   "metadata": {
    "executionInfo": {
     "elapsed": 3268,
     "status": "ok",
     "timestamp": 1676959486458,
     "user": {
      "displayName": "최다솔",
      "userId": "02081007897853777168"
     },
     "user_tz": -540
    },
    "id": "7r-1j56DSeTl",
    "scrolled": true
   },
   "outputs": [
    {
     "name": "stderr",
     "output_type": "stream",
     "text": [
      "2023-02-25 16:33:04.856121: I tensorflow/core/platform/cpu_feature_guard.cc:193] This TensorFlow binary is optimized with oneAPI Deep Neural Network Library (oneDNN) to use the following CPU instructions in performance-critical operations:  AVX2 FMA\n",
      "To enable them in other operations, rebuild TensorFlow with the appropriate compiler flags.\n",
      "2023-02-25 16:33:05.797678: W tensorflow/compiler/xla/stream_executor/platform/default/dso_loader.cc:64] Could not load dynamic library 'libnvinfer.so.7'; dlerror: libnvinfer.so.7: cannot open shared object file: No such file or directory; LD_LIBRARY_PATH: /opt/amazon/efa/lib:/opt/amazon/openmpi/lib:/usr/local/cuda/efa/lib:/usr/local/cuda/lib:/usr/local/cuda:/usr/local/cuda/lib64:/usr/local/cuda/extras/CUPTI/lib64:/usr/local/cuda/targets/x86_64-linux/lib:/usr/local/lib:/usr/lib:\n",
      "2023-02-25 16:33:05.797825: W tensorflow/compiler/xla/stream_executor/platform/default/dso_loader.cc:64] Could not load dynamic library 'libnvinfer_plugin.so.7'; dlerror: libnvinfer_plugin.so.7: cannot open shared object file: No such file or directory; LD_LIBRARY_PATH: /opt/amazon/efa/lib:/opt/amazon/openmpi/lib:/usr/local/cuda/efa/lib:/usr/local/cuda/lib:/usr/local/cuda:/usr/local/cuda/lib64:/usr/local/cuda/extras/CUPTI/lib64:/usr/local/cuda/targets/x86_64-linux/lib:/usr/local/lib:/usr/lib:\n",
      "2023-02-25 16:33:05.797836: W tensorflow/compiler/tf2tensorrt/utils/py_utils.cc:38] TF-TRT Warning: Cannot dlopen some TensorRT libraries. If you would like to use Nvidia GPU with TensorRT, please make sure the missing libraries mentioned above are installed properly.\n"
     ]
    }
   ],
   "source": [
    "import os\n",
    "import pandas as pd\n",
    "import numpy as np\n",
    "import re\n",
    "from tqdm import tqdm\n",
    "import urllib.request\n",
    "import seaborn as sns\n",
    "import matplotlib.pyplot as plt\n",
    "import tensorflow_addons as tfa\n",
    "import tensorflow as tf\n",
    "from tensorflow.keras.callbacks import EarlyStopping, ModelCheckpoint\n",
    "from transformers import BertTokenizer, TFBertForSequenceClassification, BertModel, AutoTokenizer, TFBertModel, BertConfig\n",
    "from sklearn.model_selection import train_test_split\n",
    "from sklearn.metrics import accuracy_score, f1_score, precision_score, recall_score, \\\n",
    "                            roc_auc_score, confusion_matrix, classification_report, \\\n",
    "                            matthews_corrcoef, cohen_kappa_score, log_loss\n",
    "import warnings\n",
    "warnings.filterwarnings(action='ignore')      "
   ]
  },
  {
   "cell_type": "markdown",
   "metadata": {
    "id": "8SGD6qplSkdb"
   },
   "source": [
    "### Load KlueBert-base Model & Tokenizer "
   ]
  },
  {
   "cell_type": "code",
   "execution_count": 2,
   "metadata": {
    "colab": {
     "base_uri": "https://localhost:8080/",
     "height": 287,
     "referenced_widgets": [
      "d305a026148843759b5933185fc8922a",
      "63e13cf3bc1e494eb1aea15dcfd150ca",
      "cedbff5be2584dc38b697076bc654278",
      "7de4bfd6179646f59c5b7a454695ae04",
      "ba8428c793db463881228c3741f4faa6",
      "1f5921f9f7a745579c589308d790218a",
      "58f0446fa4a14f8a99c0c2b60c03f44f",
      "6b18b1c6e06d433dad93c17a6a1392ad",
      "b4b3236b72204039b527899a7ff21467",
      "0974c2ce82b44c3c8e4341bd19081a54",
      "1a57fb5300e148b4a1dad00ba36d56d3",
      "825dbfcdd6f44e34b9fba687e0b28e5a",
      "8bb454c7e2924cffa23fc0fcc95bdbf9",
      "05b48583edca425fbcc8ae103155f1f6",
      "596c52132d2c4b918cf5d67239a1cc57",
      "832e6f76e32344fa8416d9911a2cade8",
      "5da7b0f73e664ddf953cbacb6f65236b",
      "d23d919c3db54ceb9bcbc9c24326a8fa",
      "06bff517f9824a8d9ca27d92528e1b39",
      "fcda98f52add426ab3cfb99074633098",
      "fe97f1b3750d4245a2ed3fe6770ce4ca",
      "a4d6924babaf47f985a0672adc99d2a9",
      "ca21a2d9799742a49af3353c4f17142c",
      "eebe98165e20446393377720f95a3344",
      "96fbe1a583c04c0fb6e2e0c68cc8e6b8",
      "8ed38e5152f44f2685693b3c6f368545",
      "81347fca71774a7dbadaa8d2ead86c69",
      "b791496590d8493b8e87fe4613e8da9a",
      "b40b9337981844ff907422939655d56e",
      "7f4daa6a98754d3c96dc18bf8c9a5728",
      "ea6b11bbc7a14eda888da0f8f06a0842",
      "a7b9f23813de4a21b0a1e0e6dc3c1f8b",
      "4901f020cabf4ef3be1bcfbf735e014b",
      "2fac3c6281744420ba73c0ba43ecba92",
      "93de56c3775f4cdf95713395dd0931df",
      "9f51b18bd091401f8d3908e545f32b21",
      "efb994204ca446139de19f84e91727c9",
      "704abc230710459f83dd7fecbbd3556b",
      "9a725d217acb4c6d91c8d7679c9903bc",
      "d818a849bf4542a8bdd0cd32a82d661e",
      "8fb7c754527b462fb51de1c99c4a788d",
      "72d11516b60046a9b2879b8b7bc3f02b",
      "9e3da9d26a17455f8cd4092d00fedd25",
      "1c4f84d069204476978903092cc9b060",
      "e554fba275314f87a3dbecb0f8002ce1",
      "fe923b22298041adb9fe76227de57c65",
      "56ee37c0a31842dfb58dcbc9f36d53d9",
      "7134c627dee840c28e36a9878fcf3e14",
      "938caffef7594c91b9d7b6a43fe2b80b",
      "424cbb2e06804a4a8fa3523c027f3e2d",
      "d3e1638ee53b4adab650be43c72a648b",
      "042384b021a14298803d387723c87aca",
      "362b243e0fea46af8103a5a426213f32",
      "086e113c33e44b4faf4ccc5b9e398336",
      "fe3a5cde0c29495b80673c60b67ba6fd"
     ]
    },
    "executionInfo": {
     "elapsed": 8441,
     "status": "ok",
     "timestamp": 1676959498395,
     "user": {
      "displayName": "최다솔",
      "userId": "02081007897853777168"
     },
     "user_tz": -540
    },
    "id": "pxQ6aEelSeWH",
    "outputId": "2f1cb758-8cae-4b85-8d14-387126c4d639",
    "scrolled": true
   },
   "outputs": [
    {
     "name": "stderr",
     "output_type": "stream",
     "text": [
      "2023-02-25 16:33:12.273781: I tensorflow/compiler/xla/stream_executor/cuda/cuda_gpu_executor.cc:981] successful NUMA node read from SysFS had negative value (-1), but there must be at least one NUMA node, so returning NUMA node zero\n",
      "2023-02-25 16:33:12.274225: I tensorflow/compiler/xla/stream_executor/cuda/cuda_gpu_executor.cc:981] successful NUMA node read from SysFS had negative value (-1), but there must be at least one NUMA node, so returning NUMA node zero\n",
      "2023-02-25 16:33:12.274611: I tensorflow/compiler/xla/stream_executor/cuda/cuda_gpu_executor.cc:981] successful NUMA node read from SysFS had negative value (-1), but there must be at least one NUMA node, so returning NUMA node zero\n",
      "2023-02-25 16:33:12.274991: I tensorflow/compiler/xla/stream_executor/cuda/cuda_gpu_executor.cc:981] successful NUMA node read from SysFS had negative value (-1), but there must be at least one NUMA node, so returning NUMA node zero\n",
      "2023-02-25 16:33:12.314123: I tensorflow/compiler/xla/stream_executor/cuda/cuda_gpu_executor.cc:981] successful NUMA node read from SysFS had negative value (-1), but there must be at least one NUMA node, so returning NUMA node zero\n",
      "2023-02-25 16:33:12.314498: I tensorflow/compiler/xla/stream_executor/cuda/cuda_gpu_executor.cc:981] successful NUMA node read from SysFS had negative value (-1), but there must be at least one NUMA node, so returning NUMA node zero\n",
      "2023-02-25 16:33:12.314845: I tensorflow/compiler/xla/stream_executor/cuda/cuda_gpu_executor.cc:981] successful NUMA node read from SysFS had negative value (-1), but there must be at least one NUMA node, so returning NUMA node zero\n",
      "2023-02-25 16:33:12.315185: I tensorflow/compiler/xla/stream_executor/cuda/cuda_gpu_executor.cc:981] successful NUMA node read from SysFS had negative value (-1), but there must be at least one NUMA node, so returning NUMA node zero\n",
      "2023-02-25 16:33:12.315525: I tensorflow/compiler/xla/stream_executor/cuda/cuda_gpu_executor.cc:981] successful NUMA node read from SysFS had negative value (-1), but there must be at least one NUMA node, so returning NUMA node zero\n",
      "2023-02-25 16:33:12.315863: I tensorflow/compiler/xla/stream_executor/cuda/cuda_gpu_executor.cc:981] successful NUMA node read from SysFS had negative value (-1), but there must be at least one NUMA node, so returning NUMA node zero\n",
      "2023-02-25 16:33:12.316201: I tensorflow/compiler/xla/stream_executor/cuda/cuda_gpu_executor.cc:981] successful NUMA node read from SysFS had negative value (-1), but there must be at least one NUMA node, so returning NUMA node zero\n",
      "2023-02-25 16:33:12.316535: I tensorflow/compiler/xla/stream_executor/cuda/cuda_gpu_executor.cc:981] successful NUMA node read from SysFS had negative value (-1), but there must be at least one NUMA node, so returning NUMA node zero\n",
      "2023-02-25 16:33:12.317294: I tensorflow/core/platform/cpu_feature_guard.cc:193] This TensorFlow binary is optimized with oneAPI Deep Neural Network Library (oneDNN) to use the following CPU instructions in performance-critical operations:  AVX2 FMA\n",
      "To enable them in other operations, rebuild TensorFlow with the appropriate compiler flags.\n",
      "2023-02-25 16:33:13.198329: I tensorflow/compiler/xla/stream_executor/cuda/cuda_gpu_executor.cc:981] successful NUMA node read from SysFS had negative value (-1), but there must be at least one NUMA node, so returning NUMA node zero\n",
      "2023-02-25 16:33:13.198738: I tensorflow/compiler/xla/stream_executor/cuda/cuda_gpu_executor.cc:981] successful NUMA node read from SysFS had negative value (-1), but there must be at least one NUMA node, so returning NUMA node zero\n",
      "2023-02-25 16:33:13.199094: I tensorflow/compiler/xla/stream_executor/cuda/cuda_gpu_executor.cc:981] successful NUMA node read from SysFS had negative value (-1), but there must be at least one NUMA node, so returning NUMA node zero\n",
      "2023-02-25 16:33:13.199442: I tensorflow/compiler/xla/stream_executor/cuda/cuda_gpu_executor.cc:981] successful NUMA node read from SysFS had negative value (-1), but there must be at least one NUMA node, so returning NUMA node zero\n",
      "2023-02-25 16:33:13.199792: I tensorflow/compiler/xla/stream_executor/cuda/cuda_gpu_executor.cc:981] successful NUMA node read from SysFS had negative value (-1), but there must be at least one NUMA node, so returning NUMA node zero\n",
      "2023-02-25 16:33:13.200132: I tensorflow/compiler/xla/stream_executor/cuda/cuda_gpu_executor.cc:981] successful NUMA node read from SysFS had negative value (-1), but there must be at least one NUMA node, so returning NUMA node zero\n",
      "2023-02-25 16:33:13.200474: I tensorflow/compiler/xla/stream_executor/cuda/cuda_gpu_executor.cc:981] successful NUMA node read from SysFS had negative value (-1), but there must be at least one NUMA node, so returning NUMA node zero\n",
      "2023-02-25 16:33:13.200812: I tensorflow/compiler/xla/stream_executor/cuda/cuda_gpu_executor.cc:981] successful NUMA node read from SysFS had negative value (-1), but there must be at least one NUMA node, so returning NUMA node zero\n",
      "2023-02-25 16:33:13.201151: I tensorflow/compiler/xla/stream_executor/cuda/cuda_gpu_executor.cc:981] successful NUMA node read from SysFS had negative value (-1), but there must be at least one NUMA node, so returning NUMA node zero\n",
      "2023-02-25 16:33:13.201496: I tensorflow/compiler/xla/stream_executor/cuda/cuda_gpu_executor.cc:981] successful NUMA node read from SysFS had negative value (-1), but there must be at least one NUMA node, so returning NUMA node zero\n",
      "2023-02-25 16:33:13.201882: I tensorflow/compiler/xla/stream_executor/cuda/cuda_gpu_executor.cc:981] successful NUMA node read from SysFS had negative value (-1), but there must be at least one NUMA node, so returning NUMA node zero\n",
      "2023-02-25 16:33:13.202221: I tensorflow/compiler/xla/stream_executor/cuda/cuda_gpu_executor.cc:981] successful NUMA node read from SysFS had negative value (-1), but there must be at least one NUMA node, so returning NUMA node zero\n",
      "2023-02-25 16:33:15.354990: I tensorflow/compiler/xla/stream_executor/cuda/cuda_gpu_executor.cc:981] successful NUMA node read from SysFS had negative value (-1), but there must be at least one NUMA node, so returning NUMA node zero\n",
      "2023-02-25 16:33:15.355418: I tensorflow/compiler/xla/stream_executor/cuda/cuda_gpu_executor.cc:981] successful NUMA node read from SysFS had negative value (-1), but there must be at least one NUMA node, so returning NUMA node zero\n",
      "2023-02-25 16:33:15.355804: I tensorflow/compiler/xla/stream_executor/cuda/cuda_gpu_executor.cc:981] successful NUMA node read from SysFS had negative value (-1), but there must be at least one NUMA node, so returning NUMA node zero\n",
      "2023-02-25 16:33:15.356188: I tensorflow/compiler/xla/stream_executor/cuda/cuda_gpu_executor.cc:981] successful NUMA node read from SysFS had negative value (-1), but there must be at least one NUMA node, so returning NUMA node zero\n",
      "2023-02-25 16:33:15.356556: I tensorflow/compiler/xla/stream_executor/cuda/cuda_gpu_executor.cc:981] successful NUMA node read from SysFS had negative value (-1), but there must be at least one NUMA node, so returning NUMA node zero\n",
      "2023-02-25 16:33:15.356912: I tensorflow/compiler/xla/stream_executor/cuda/cuda_gpu_executor.cc:981] successful NUMA node read from SysFS had negative value (-1), but there must be at least one NUMA node, so returning NUMA node zero\n",
      "2023-02-25 16:33:15.357258: I tensorflow/compiler/xla/stream_executor/cuda/cuda_gpu_executor.cc:981] successful NUMA node read from SysFS had negative value (-1), but there must be at least one NUMA node, so returning NUMA node zero\n",
      "2023-02-25 16:33:15.357603: I tensorflow/compiler/xla/stream_executor/cuda/cuda_gpu_executor.cc:981] successful NUMA node read from SysFS had negative value (-1), but there must be at least one NUMA node, so returning NUMA node zero\n",
      "2023-02-25 16:33:15.357998: I tensorflow/compiler/xla/stream_executor/cuda/cuda_gpu_executor.cc:981] successful NUMA node read from SysFS had negative value (-1), but there must be at least one NUMA node, so returning NUMA node zero\n",
      "2023-02-25 16:33:15.358303: I tensorflow/core/common_runtime/gpu/gpu_device.cc:1613] Created device /job:localhost/replica:0/task:0/device:GPU:0 with 14606 MB memory:  -> device: 0, name: Tesla V100-SXM2-16GB, pci bus id: 0000:00:1b.0, compute capability: 7.0\n",
      "2023-02-25 16:33:15.358743: I tensorflow/compiler/xla/stream_executor/cuda/cuda_gpu_executor.cc:981] successful NUMA node read from SysFS had negative value (-1), but there must be at least one NUMA node, so returning NUMA node zero\n",
      "2023-02-25 16:33:15.359046: I tensorflow/core/common_runtime/gpu/gpu_device.cc:1613] Created device /job:localhost/replica:0/task:0/device:GPU:1 with 14606 MB memory:  -> device: 1, name: Tesla V100-SXM2-16GB, pci bus id: 0000:00:1c.0, compute capability: 7.0\n",
      "2023-02-25 16:33:15.359413: I tensorflow/compiler/xla/stream_executor/cuda/cuda_gpu_executor.cc:981] successful NUMA node read from SysFS had negative value (-1), but there must be at least one NUMA node, so returning NUMA node zero\n",
      "2023-02-25 16:33:15.359713: I tensorflow/core/common_runtime/gpu/gpu_device.cc:1613] Created device /job:localhost/replica:0/task:0/device:GPU:2 with 14606 MB memory:  -> device: 2, name: Tesla V100-SXM2-16GB, pci bus id: 0000:00:1d.0, compute capability: 7.0\n",
      "2023-02-25 16:33:15.360080: I tensorflow/compiler/xla/stream_executor/cuda/cuda_gpu_executor.cc:981] successful NUMA node read from SysFS had negative value (-1), but there must be at least one NUMA node, so returning NUMA node zero\n",
      "2023-02-25 16:33:15.360378: I tensorflow/core/common_runtime/gpu/gpu_device.cc:1613] Created device /job:localhost/replica:0/task:0/device:GPU:3 with 14606 MB memory:  -> device: 3, name: Tesla V100-SXM2-16GB, pci bus id: 0000:00:1e.0, compute capability: 7.0\n"
     ]
    },
    {
     "name": "stderr",
     "output_type": "stream",
     "text": [
      "Some weights of the PyTorch model were not used when initializing the TF 2.0 model TFBertForSequenceClassification: ['bert.embeddings.position_ids']\n",
      "- This IS expected if you are initializing TFBertForSequenceClassification from a PyTorch model trained on another task or with another architecture (e.g. initializing a TFBertForSequenceClassification model from a BertForPreTraining model).\n",
      "- This IS NOT expected if you are initializing TFBertForSequenceClassification from a PyTorch model that you expect to be exactly identical (e.g. initializing a TFBertForSequenceClassification model from a BertForSequenceClassification model).\n",
      "Some weights or buffers of the TF 2.0 model TFBertForSequenceClassification were not initialized from the PyTorch model and are newly initialized: ['classifier.weight', 'classifier.bias']\n",
      "You should probably TRAIN this model on a down-stream task to be able to use it for predictions and inference.\n"
     ]
    }
   ],
   "source": [
    "# load Pretrained model & tokenizer from Hugging\n",
    "\n",
    "model_name = \"klue/bert-base\"\n",
    "model = TFBertForSequenceClassification.from_pretrained(model_name, num_labels=2, from_pt=True)\n",
    "tokenizer = BertTokenizer.from_pretrained(model_name)"
   ]
  },
  {
   "cell_type": "markdown",
   "metadata": {},
   "source": [
    "### Load Dataset"
   ]
  },
  {
   "cell_type": "code",
   "execution_count": 3,
   "metadata": {
    "colab": {
     "base_uri": "https://localhost:8080/"
    },
    "executionInfo": {
     "elapsed": 880,
     "status": "ok",
     "timestamp": 1676959428962,
     "user": {
      "displayName": "최다솔",
      "userId": "02081007897853777168"
     },
     "user_tz": -540
    },
    "id": "KL9HhLfrU1yP",
    "outputId": "fbd106f4-bcbe-4203-90e5-b322ffa13369"
   },
   "outputs": [
    {
     "data": {
      "text/plain": [
       "(15567, 4)"
      ]
     },
     "execution_count": 3,
     "metadata": {},
     "output_type": "execute_result"
    }
   ],
   "source": [
    "reviews = pd.read_csv('./reviews.csv')\n",
    "reviews.shape"
   ]
  },
  {
   "cell_type": "code",
   "execution_count": null,
   "metadata": {
    "colab": {
     "base_uri": "https://localhost:8080/"
    },
    "executionInfo": {
     "elapsed": 2,
     "status": "ok",
     "timestamp": 1676959429743,
     "user": {
      "displayName": "최다솔",
      "userId": "02081007897853777168"
     },
     "user_tz": -540
    },
    "id": "y5lqQF4oU15v",
    "outputId": "c86ef075-663d-4254-c838-d94f9c44e003"
   },
   "outputs": [],
   "source": [
    "# \"key_sent\" classification\n",
    "# 0 : non-key sentence\n",
    "# 1 : key sentence\n",
    "\n",
    "reviews"
   ]
  },
  {
   "cell_type": "code",
   "execution_count": 4,
   "metadata": {
    "executionInfo": {
     "elapsed": 4,
     "status": "ok",
     "timestamp": 1676959430688,
     "user": {
      "displayName": "최다솔",
      "userId": "02081007897853777168"
     },
     "user_tz": -540
    },
    "id": "iJr3QeFOVg9w"
   },
   "outputs": [],
   "source": [
    "# 데이터 분리\n",
    "X = reviews['reviews']\n",
    "y = reviews['key_sent']"
   ]
  },
  {
   "cell_type": "code",
   "execution_count": null,
   "metadata": {},
   "outputs": [],
   "source": [
    "# 라벨별 비율 확인\n",
    "y.value_counts(normalize = True)"
   ]
  },
  {
   "cell_type": "code",
   "execution_count": 5,
   "metadata": {
    "executionInfo": {
     "elapsed": 1,
     "status": "ok",
     "timestamp": 1676959431827,
     "user": {
      "displayName": "최다솔",
      "userId": "02081007897853777168"
     },
     "user_tz": -540
    },
    "id": "2MIBpnqVbGDS"
   },
   "outputs": [
    {
     "name": "stdout",
     "output_type": "stream",
     "text": [
      "(14010,) (1557,)\n",
      "(14010,) (1557,)\n"
     ]
    }
   ],
   "source": [
    "# train, test split\n",
    "X_train, X_test, y_train, y_test = train_test_split(X, y, test_size=0.1, random_state=33)\n",
    "\n",
    "print(X_train.shape, X_test.shape)\n",
    "print(y_train.shape, y_test.shape)"
   ]
  },
  {
   "cell_type": "code",
   "execution_count": null,
   "metadata": {
    "colab": {
     "base_uri": "https://localhost:8080/"
    },
    "executionInfo": {
     "elapsed": 9,
     "status": "ok",
     "timestamp": 1676959433928,
     "user": {
      "displayName": "최다솔",
      "userId": "02081007897853777168"
     },
     "user_tz": -540
    },
    "id": "k1K6SuT4WoTe",
    "outputId": "043bece8-5d8f-4205-b9d2-46f9098a5054"
   },
   "outputs": [],
   "source": [
    "# train data 라벨별 비율 확인\n",
    "y_train.value_counts(normalize = True)"
   ]
  },
  {
   "cell_type": "code",
   "execution_count": null,
   "metadata": {
    "colab": {
     "base_uri": "https://localhost:8080/"
    },
    "executionInfo": {
     "elapsed": 3,
     "status": "ok",
     "timestamp": 1676959435284,
     "user": {
      "displayName": "최다솔",
      "userId": "02081007897853777168"
     },
     "user_tz": -540
    },
    "id": "oITW3uC5WoWI",
    "outputId": "011bfccf-b2c6-4c5d-eee7-6ef1a0f0da33"
   },
   "outputs": [],
   "source": [
    "# test data 라벨별 비율 확인\n",
    "y_test.value_counts(normalize = True)"
   ]
  },
  {
   "cell_type": "markdown",
   "metadata": {
    "id": "YzlY334oW1ps"
   },
   "source": [
    "### Conver to BERT input format"
   ]
  },
  {
   "cell_type": "code",
   "execution_count": 6,
   "metadata": {
    "executionInfo": {
     "elapsed": 2,
     "status": "ok",
     "timestamp": 1676959437752,
     "user": {
      "displayName": "최다솔",
      "userId": "02081007897853777168"
     },
     "user_tz": -540
    },
    "id": "Cs8L_KgsWoYC"
   },
   "outputs": [],
   "source": [
    "MAX_SEQ_LEN = 260\n",
    "\n",
    "def convert_data(X_data, y_data):\n",
    "\n",
    "    tokens, masks, segments, targets = [], [], [], []\n",
    "    \n",
    "    for X, y in tqdm(zip(X_data, y_data)):\n",
    "        \n",
    "        token = tokenizer.encode(X, truncation = True, padding = 'max_length', max_length = MAX_SEQ_LEN)\n",
    "        num_zeros = token.count(0)\n",
    "        mask = [1] * (MAX_SEQ_LEN - num_zeros) + [0] * num_zeros\n",
    "        segment = [0]*MAX_SEQ_LEN\n",
    "\n",
    "        tokens.append(token)\n",
    "        masks.append(mask)\n",
    "        segments.append(segment)\n",
    "        targets.append(y)\n",
    "\n",
    "    tokens = np.array(tokens)\n",
    "    masks = np.array(masks)\n",
    "    segments = np.array(segments)\n",
    "    targets = np.array(targets)\n",
    "\n",
    "    return [tokens, masks, segments], targets"
   ]
  },
  {
   "cell_type": "code",
   "execution_count": 7,
   "metadata": {
    "colab": {
     "base_uri": "https://localhost:8080/"
    },
    "executionInfo": {
     "elapsed": 4278,
     "status": "ok",
     "timestamp": 1676959502664,
     "user": {
      "displayName": "최다솔",
      "userId": "02081007897853777168"
     },
     "user_tz": -540
    },
    "id": "vnqfWXggWys2",
    "outputId": "bc31446a-4e6c-4373-eaca-4c6f7a1e4ee9"
   },
   "outputs": [
    {
     "name": "stderr",
     "output_type": "stream",
     "text": [
      "14010it [00:03, 3639.34it/s]\n",
      "1557it [00:00, 3742.05it/s]\n"
     ]
    }
   ],
   "source": [
    "train_x, train_y = convert_data(X_train, y_train)\n",
    "test_x, test_y = convert_data(X_test, y_test)"
   ]
  },
  {
   "cell_type": "markdown",
   "metadata": {
    "id": "YsJzTfDEXMiD"
   },
   "source": [
    "## Modeling"
   ]
  },
  {
   "cell_type": "code",
   "execution_count": 8,
   "metadata": {
    "executionInfo": {
     "elapsed": 5487,
     "status": "ok",
     "timestamp": 1676959509198,
     "user": {
      "displayName": "최다솔",
      "userId": "02081007897853777168"
     },
     "user_tz": -540
    },
    "id": "0iYcxVEjXKtT"
   },
   "outputs": [],
   "source": [
    "# token, mask, segment 입력 정의\n",
    "token_inputs = tf.keras.layers.Input((MAX_SEQ_LEN,), dtype = tf.int32, name = 'input_word_ids')\n",
    "mask_inputs = tf.keras.layers.Input((MAX_SEQ_LEN), dtype = tf.int32, name = 'input_masks')\n",
    "segment_inputs = tf.keras.layers.Input((MAX_SEQ_LEN,), dtype = tf.int32, name = 'input_segment')\n",
    "bert_outputs = model([token_inputs, mask_inputs, segment_inputs])"
   ]
  },
  {
   "cell_type": "code",
   "execution_count": 9,
   "metadata": {
    "executionInfo": {
     "elapsed": 2,
     "status": "ok",
     "timestamp": 1676959517322,
     "user": {
      "displayName": "최다솔",
      "userId": "02081007897853777168"
     },
     "user_tz": -540
    },
    "id": "Xlke-fq2XKyV"
   },
   "outputs": [
    {
     "data": {
      "text/plain": [
       "<KerasTensor: shape=(None, 2) dtype=float32 (created by layer 'tf_bert_for_sequence_classification')>"
      ]
     },
     "execution_count": 9,
     "metadata": {},
     "output_type": "execute_result"
    }
   ],
   "source": [
    "bert_output = bert_outputs[0]\n",
    "bert_output"
   ]
  },
  {
   "cell_type": "markdown",
   "metadata": {},
   "source": [
    "### # Model 1"
   ]
  },
  {
   "cell_type": "code",
   "execution_count": 15,
   "metadata": {
    "executionInfo": {
     "elapsed": 1,
     "status": "ok",
     "timestamp": 1676959671817,
     "user": {
      "displayName": "최다솔",
      "userId": "02081007897853777168"
     },
     "user_tz": -540
    },
    "id": "V1wl55vFXK0_"
   },
   "outputs": [],
   "source": [
    "dropout = tf.keras.layers.Dropout(0.5)(bert_output)\n",
    "layer = tf.keras.layers.Dense(2, activation='softmax', \n",
    "                              kernel_initializer=tf.keras.initializers.TruncatedNormal(stddev=0.02))(dropout)\n",
    "key_sent_model_1 = tf.keras.Model([token_inputs, mask_inputs, segment_inputs], layer)"
   ]
  },
  {
   "cell_type": "code",
   "execution_count": 16,
   "metadata": {},
   "outputs": [
    {
     "name": "stdout",
     "output_type": "stream",
     "text": [
      "Model: \"model\"\n",
      "__________________________________________________________________________________________________\n",
      " Layer (type)                   Output Shape         Param #     Connected to                     \n",
      "==================================================================================================\n",
      " input_word_ids (InputLayer)    [(None, 260)]        0           []                               \n",
      "                                                                                                  \n",
      " input_masks (InputLayer)       [(None, 260)]        0           []                               \n",
      "                                                                                                  \n",
      " input_segment (InputLayer)     [(None, 260)]        0           []                               \n",
      "                                                                                                  \n",
      " tf_bert_for_sequence_classific  TFSequenceClassifie  110618882  ['input_word_ids[0][0]',         \n",
      " ation (TFBertForSequenceClassi  rOutput(loss=None,               'input_masks[0][0]',            \n",
      " fication)                      logits=(None, 2),                 'input_segment[0][0]']          \n",
      "                                 hidden_states=None                                               \n",
      "                                , attentions=None)                                                \n",
      "                                                                                                  \n",
      " dropout_38 (Dropout)           (None, 2)            0           ['tf_bert_for_sequence_classifica\n",
      "                                                                 tion[0][0]']                     \n",
      "                                                                                                  \n",
      " dense (Dense)                  (None, 2)            6           ['dropout_38[0][0]']             \n",
      "                                                                                                  \n",
      "==================================================================================================\n",
      "Total params: 110,618,888\n",
      "Trainable params: 110,618,888\n",
      "Non-trainable params: 0\n",
      "__________________________________________________________________________________________________\n"
     ]
    }
   ],
   "source": [
    "key_sent_model_1.summary()"
   ]
  },
  {
   "cell_type": "code",
   "execution_count": 17,
   "metadata": {
    "executionInfo": {
     "elapsed": 332,
     "status": "ok",
     "timestamp": 1676959674051,
     "user": {
      "displayName": "최다솔",
      "userId": "02081007897853777168"
     },
     "user_tz": -540
    },
    "id": "oABqKo7yrJfa"
   },
   "outputs": [],
   "source": [
    "# optimizer - Rectified Adam \n",
    "optimizer_name = 'RAdam'\n",
    "optimizer = tfa.optimizers.RectifiedAdam(learning_rate = 5e-5,\n",
    "                                          total_steps = 10000, \n",
    "                                          warmup_proportion = 0.1, \n",
    "                                          min_lr = 1e-5, \n",
    "                                          epsilon = 1e-8,\n",
    "                                          clipnorm = 1.0)"
   ]
  },
  {
   "cell_type": "code",
   "execution_count": 18,
   "metadata": {
    "executionInfo": {
     "elapsed": 1,
     "status": "ok",
     "timestamp": 1676959674746,
     "user": {
      "displayName": "최다솔",
      "userId": "02081007897853777168"
     },
     "user_tz": -540
    },
    "id": "Eb_bw8CtfDSr"
   },
   "outputs": [],
   "source": [
    "key_sent_model_1.compile(optimizer = optimizer, \n",
    "                        loss = tf.keras.losses.SparseCategoricalCrossentropy(), \n",
    "                        metrics = ['accuracy'])"
   ]
  },
  {
   "cell_type": "code",
   "execution_count": 105,
   "metadata": {
    "executionInfo": {
     "elapsed": 1,
     "status": "ok",
     "timestamp": 1676959675281,
     "user": {
      "displayName": "최다솔",
      "userId": "02081007897853777168"
     },
     "user_tz": -540
    },
    "id": "2RViykDbfDVw"
   },
   "outputs": [],
   "source": [
    "# callback function - EarlyStopping\n",
    "\n",
    "early_stopping = EarlyStopping(\n",
    "    monitor = \"val_accuracy\", \n",
    "    min_delta = 1e-3,\n",
    "    patience = 8)"
   ]
  },
  {
   "cell_type": "code",
   "execution_count": 20,
   "metadata": {
    "executionInfo": {
     "elapsed": 2,
     "status": "ok",
     "timestamp": 1676959676160,
     "user": {
      "displayName": "최다솔",
      "userId": "02081007897853777168"
     },
     "user_tz": -540
    },
    "id": "MkHHgh0MfHQA"
   },
   "outputs": [],
   "source": [
    "# callback function - ModelCheckpoint\n",
    "\n",
    "best_model_path1 = './key_sent_best_model_1.h5'\n",
    "\n",
    "model_checkpoint = ModelCheckpoint(\n",
    "    filepath = best_model_path1,\n",
    "    monitor = \"val_accuracy\",\n",
    "    mode = \"max\",\n",
    "    save_best_only = True, \n",
    "    verbose = 1)"
   ]
  },
  {
   "cell_type": "code",
   "execution_count": 21,
   "metadata": {
    "executionInfo": {
     "elapsed": 3,
     "status": "ok",
     "timestamp": 1676959677904,
     "user": {
      "displayName": "최다솔",
      "userId": "02081007897853777168"
     },
     "user_tz": -540
    },
    "id": "rkwnlvUKfHVH"
   },
   "outputs": [],
   "source": [
    "callbacks = [early_stopping, model_checkpoint]"
   ]
  },
  {
   "cell_type": "code",
   "execution_count": 22,
   "metadata": {
    "colab": {
     "base_uri": "https://localhost:8080/"
    },
    "id": "iER7pSz2fRcI",
    "outputId": "b73c5096-9f99-41c2-f7f0-53906a0136fb",
    "scrolled": true
   },
   "outputs": [
    {
     "name": "stdout",
     "output_type": "stream",
     "text": [
      "Epoch 1/70\n",
      "395/395 [==============================] - ETA: 0s - loss: 0.6617 - accuracy: 0.6804\n",
      "Epoch 1: val_accuracy improved from -inf to 0.83655, saving model to ./key_sent_best_model_1.h5\n",
      "395/395 [==============================] - 348s 789ms/step - loss: 0.6617 - accuracy: 0.6804 - val_loss: 0.5782 - val_accuracy: 0.8365\n",
      "Epoch 2/70\n",
      "395/395 [==============================] - ETA: 0s - loss: 0.5306 - accuracy: 0.8020\n",
      "Epoch 2: val_accuracy improved from 0.83655 to 0.88580, saving model to ./key_sent_best_model_1.h5\n",
      "395/395 [==============================] - 342s 867ms/step - loss: 0.5306 - accuracy: 0.8020 - val_loss: 0.4086 - val_accuracy: 0.8858\n",
      "Epoch 3/70\n",
      "395/395 [==============================] - ETA: 0s - loss: 0.4170 - accuracy: 0.8253\n",
      "Epoch 3: val_accuracy did not improve from 0.88580\n",
      "395/395 [==============================] - 231s 584ms/step - loss: 0.4170 - accuracy: 0.8253 - val_loss: 0.3318 - val_accuracy: 0.8808\n",
      "Epoch 4/70\n",
      "395/395 [==============================] - ETA: 0s - loss: 0.3573 - accuracy: 0.8392\n",
      "Epoch 4: val_accuracy did not improve from 0.88580\n",
      "395/395 [==============================] - 231s 584ms/step - loss: 0.3573 - accuracy: 0.8392 - val_loss: 0.2915 - val_accuracy: 0.8844\n",
      "Epoch 5/70\n",
      "395/395 [==============================] - ETA: 0s - loss: 0.3040 - accuracy: 0.8611\n",
      "Epoch 5: val_accuracy improved from 0.88580 to 0.90007, saving model to ./key_sent_best_model_1.h5\n",
      "395/395 [==============================] - 268s 680ms/step - loss: 0.3040 - accuracy: 0.8611 - val_loss: 0.2626 - val_accuracy: 0.9001\n",
      "Epoch 6/70\n",
      "395/395 [==============================] - ETA: 0s - loss: 0.2570 - accuracy: 0.8835\n",
      "Epoch 6: val_accuracy did not improve from 0.90007\n",
      "395/395 [==============================] - 231s 584ms/step - loss: 0.2570 - accuracy: 0.8835 - val_loss: 0.3169 - val_accuracy: 0.8915\n",
      "Epoch 7/70\n",
      "395/395 [==============================] - ETA: 0s - loss: 0.2443 - accuracy: 0.8829\n",
      "Epoch 7: val_accuracy did not improve from 0.90007\n",
      "395/395 [==============================] - 231s 584ms/step - loss: 0.2443 - accuracy: 0.8829 - val_loss: 0.3428 - val_accuracy: 0.8958\n",
      "Epoch 8/70\n",
      "395/395 [==============================] - ETA: 0s - loss: 0.2201 - accuracy: 0.8884\n",
      "Epoch 8: val_accuracy did not improve from 0.90007\n",
      "395/395 [==============================] - 231s 585ms/step - loss: 0.2201 - accuracy: 0.8884 - val_loss: 0.3367 - val_accuracy: 0.8958\n",
      "Epoch 9/70\n",
      "395/395 [==============================] - ETA: 0s - loss: 0.2168 - accuracy: 0.8898\n",
      "Epoch 9: val_accuracy did not improve from 0.90007\n",
      "395/395 [==============================] - 231s 585ms/step - loss: 0.2168 - accuracy: 0.8898 - val_loss: 0.3748 - val_accuracy: 0.8986\n",
      "Epoch 10/70\n",
      "395/395 [==============================] - ETA: 0s - loss: 0.2117 - accuracy: 0.8961\n",
      "Epoch 10: val_accuracy did not improve from 0.90007\n",
      "395/395 [==============================] - 231s 585ms/step - loss: 0.2117 - accuracy: 0.8961 - val_loss: 0.3685 - val_accuracy: 0.8965\n",
      "Epoch 11/70\n",
      "395/395 [==============================] - ETA: 0s - loss: 0.1940 - accuracy: 0.8961\n",
      "Epoch 11: val_accuracy did not improve from 0.90007\n",
      "395/395 [==============================] - 231s 585ms/step - loss: 0.1940 - accuracy: 0.8961 - val_loss: 0.4354 - val_accuracy: 0.8894\n",
      "Epoch 12/70\n",
      "395/395 [==============================] - ETA: 0s - loss: 0.1819 - accuracy: 0.9032\n",
      "Epoch 12: val_accuracy did not improve from 0.90007\n",
      "395/395 [==============================] - 231s 585ms/step - loss: 0.1819 - accuracy: 0.9032 - val_loss: 0.4457 - val_accuracy: 0.8894\n",
      "Epoch 13/70\n",
      "395/395 [==============================] - ETA: 0s - loss: 0.1847 - accuracy: 0.9051\n",
      "Epoch 13: val_accuracy did not improve from 0.90007\n",
      "395/395 [==============================] - 231s 585ms/step - loss: 0.1847 - accuracy: 0.9051 - val_loss: 0.4744 - val_accuracy: 0.8915\n",
      "Epoch 14/70\n",
      "395/395 [==============================] - ETA: 0s - loss: 0.1831 - accuracy: 0.9025\n",
      "Epoch 14: val_accuracy did not improve from 0.90007\n",
      "395/395 [==============================] - 231s 585ms/step - loss: 0.1831 - accuracy: 0.9025 - val_loss: 0.4895 - val_accuracy: 0.8986\n",
      "Epoch 15/70\n",
      "395/395 [==============================] - ETA: 0s - loss: 0.1852 - accuracy: 0.9026\n",
      "Epoch 15: val_accuracy improved from 0.90007 to 0.90079, saving model to ./key_sent_best_model_1.h5\n",
      "395/395 [==============================] - 262s 665ms/step - loss: 0.1852 - accuracy: 0.9026 - val_loss: 0.5048 - val_accuracy: 0.9008\n"
     ]
    }
   ],
   "source": [
    "epochs = 70\n",
    "batch_size = 32\n",
    "\n",
    "history1 = key_sent_model_1.fit(train_x, train_y, \n",
    "                    epochs = epochs, \n",
    "                    shuffle = True, \n",
    "                    batch_size = batch_size, \n",
    "                    validation_split= 0.1,\n",
    "                    callbacks = callbacks\n",
    "                    )"
   ]
  },
  {
   "cell_type": "code",
   "execution_count": 37,
   "metadata": {},
   "outputs": [
    {
     "data": {
      "image/png": "[encoded data removed]",
      "text/plain": [
       "<Figure size 600x300 with 1 Axes>"
      ]
     },
     "metadata": {},
     "output_type": "display_data"
    }
   ],
   "source": [
    "acc = history1.history['accuracy']\n",
    "val_acc = history1.history['val_accuracy']\n",
    "\n",
    "epochs = range(1, len(acc)+1)\n",
    "plt.figure(figsize=(6, 3))\n",
    "plt.title('KeySent Model Accuracy')\n",
    "plt.plot(epochs, acc, 'b', label='train_acc')\n",
    "plt.plot(epochs, val_acc, 'r', label='val_acc')\n",
    "plt.grid()\n",
    "plt.legend()\n",
    "plt.savefig('./KeySentModel_Accuracy_1.png')\n",
    "plt.show()"
   ]
  },
  {
   "cell_type": "code",
   "execution_count": 24,
   "metadata": {},
   "outputs": [],
   "source": [
    "key_sent_model_1 = tf.keras.models.load_model(best_model_path1,\n",
    "                                                  custom_objects={'TFBertForSequenceClassification': TFBertForSequenceClassification})"
   ]
  },
  {
   "cell_type": "code",
   "execution_count": 25,
   "metadata": {},
   "outputs": [
    {
     "name": "stdout",
     "output_type": "stream",
     "text": [
      "49/49 [==============================] - 13s 189ms/step - loss: 0.4783 - accuracy: 0.8992\n"
     ]
    }
   ],
   "source": [
    "test_eval_1 = key_sent_model_1.evaluate(test_x, test_y)"
   ]
  },
  {
   "cell_type": "markdown",
   "metadata": {},
   "source": [
    "### # Model 2"
   ]
  },
  {
   "cell_type": "code",
   "execution_count": 26,
   "metadata": {},
   "outputs": [],
   "source": [
    "dropout = tf.keras.layers.Dropout(0.5)(bert_output)\n",
    "layer = tf.keras.layers.Dense(256, activation=\"relu\")(dropout)\n",
    "layer = tf.keras.layers.Dense(128, activation=\"relu\")(layer)\n",
    "layer = tf.keras.layers.Dense(2, activation='softmax', kernel_initializer = tf.keras.initializers.TruncatedNormal(stddev=0.02))(layer)\n",
    "key_sent_model_2 = tf.keras.Model([token_inputs, mask_inputs, segment_inputs], layer)"
   ]
  },
  {
   "cell_type": "code",
   "execution_count": 27,
   "metadata": {},
   "outputs": [
    {
     "name": "stdout",
     "output_type": "stream",
     "text": [
      "Model: \"model_1\"\n",
      "__________________________________________________________________________________________________\n",
      " Layer (type)                   Output Shape         Param #     Connected to                     \n",
      "==================================================================================================\n",
      " input_word_ids (InputLayer)    [(None, 260)]        0           []                               \n",
      "                                                                                                  \n",
      " input_masks (InputLayer)       [(None, 260)]        0           []                               \n",
      "                                                                                                  \n",
      " input_segment (InputLayer)     [(None, 260)]        0           []                               \n",
      "                                                                                                  \n",
      " tf_bert_for_sequence_classific  TFSequenceClassifie  110618882  ['input_word_ids[0][0]',         \n",
      " ation (TFBertForSequenceClassi  rOutput(loss=None,               'input_masks[0][0]',            \n",
      " fication)                      logits=(None, 2),                 'input_segment[0][0]']          \n",
      "                                 hidden_states=None                                               \n",
      "                                , attentions=None)                                                \n",
      "                                                                                                  \n",
      " dropout_77 (Dropout)           (None, 2)            0           ['tf_bert_for_sequence_classifica\n",
      "                                                                 tion[0][0]']                     \n",
      "                                                                                                  \n",
      " dense_1 (Dense)                (None, 256)          768         ['dropout_77[0][0]']             \n",
      "                                                                                                  \n",
      " dense_2 (Dense)                (None, 128)          32896       ['dense_1[0][0]']                \n",
      "                                                                                                  \n",
      " dense_3 (Dense)                (None, 2)            258         ['dense_2[0][0]']                \n",
      "                                                                                                  \n",
      "==================================================================================================\n",
      "Total params: 110,652,804\n",
      "Trainable params: 110,652,804\n",
      "Non-trainable params: 0\n",
      "__________________________________________________________________________________________________\n"
     ]
    }
   ],
   "source": [
    "key_sent_model_2.summary()"
   ]
  },
  {
   "cell_type": "code",
   "execution_count": 29,
   "metadata": {},
   "outputs": [],
   "source": [
    "key_sent_model_2.compile(optimizer = optimizer, \n",
    "                        loss = tf.keras.losses.SparseCategoricalCrossentropy(), \n",
    "                        metrics = ['accuracy'])"
   ]
  },
  {
   "cell_type": "code",
   "execution_count": 30,
   "metadata": {},
   "outputs": [],
   "source": [
    "best_model_path2 = './key_sent_best_model_2.h5'\n",
    "\n",
    "model_checkpoint2 = ModelCheckpoint(\n",
    "    filepath = best_model_path2,\n",
    "    monitor = \"val_accuracy\",\n",
    "    mode = \"max\",\n",
    "    save_best_only = True, \n",
    "    verbose = 1)"
   ]
  },
  {
   "cell_type": "code",
   "execution_count": 31,
   "metadata": {},
   "outputs": [],
   "source": [
    "callbacks2 = [early_stopping, model_checkpoint2]"
   ]
  },
  {
   "cell_type": "code",
   "execution_count": 33,
   "metadata": {
    "scrolled": true
   },
   "outputs": [
    {
     "name": "stdout",
     "output_type": "stream",
     "text": [
      "Epoch 1/70\n",
      "789/789 [==============================] - ETA: 0s - loss: 0.4806 - accuracy: 0.6215\n",
      "Epoch 1: val_accuracy improved from -inf to 0.88294, saving model to ./key_sent_best_model_2.h5\n",
      "789/789 [==============================] - 299s 334ms/step - loss: 0.4806 - accuracy: 0.6215 - val_loss: 0.4572 - val_accuracy: 0.8829\n",
      "Epoch 2/70\n",
      "789/789 [==============================] - ETA: 0s - loss: 0.2456 - accuracy: 0.8488\n",
      "Epoch 2: val_accuracy improved from 0.88294 to 0.89722, saving model to ./key_sent_best_model_2.h5\n",
      "789/789 [==============================] - 292s 371ms/step - loss: 0.2456 - accuracy: 0.8488 - val_loss: 0.3005 - val_accuracy: 0.8972\n",
      "Epoch 3/70\n",
      "789/789 [==============================] - ETA: 0s - loss: 0.2053 - accuracy: 0.8964\n",
      "Epoch 3: val_accuracy did not improve from 0.89722\n",
      "789/789 [==============================] - 258s 327ms/step - loss: 0.2053 - accuracy: 0.8964 - val_loss: 0.3039 - val_accuracy: 0.8929\n",
      "Epoch 4/70\n",
      "789/789 [==============================] - ETA: 0s - loss: 0.1972 - accuracy: 0.8943\n",
      "Epoch 4: val_accuracy did not improve from 0.89722\n",
      "789/789 [==============================] - 258s 327ms/step - loss: 0.1972 - accuracy: 0.8943 - val_loss: 0.3127 - val_accuracy: 0.8887\n",
      "Epoch 5/70\n",
      "789/789 [==============================] - ETA: 0s - loss: 0.1902 - accuracy: 0.8984\n",
      "Epoch 5: val_accuracy did not improve from 0.89722\n",
      "789/789 [==============================] - 258s 327ms/step - loss: 0.1902 - accuracy: 0.8984 - val_loss: 0.3222 - val_accuracy: 0.8922\n",
      "Epoch 6/70\n",
      "789/789 [==============================] - ETA: 0s - loss: 0.1872 - accuracy: 0.8984\n",
      "Epoch 6: val_accuracy did not improve from 0.89722\n",
      "789/789 [==============================] - 258s 327ms/step - loss: 0.1872 - accuracy: 0.8984 - val_loss: 0.3403 - val_accuracy: 0.8872\n",
      "Epoch 7/70\n",
      "789/789 [==============================] - ETA: 0s - loss: 0.1839 - accuracy: 0.9010\n",
      "Epoch 7: val_accuracy did not improve from 0.89722\n",
      "789/789 [==============================] - 258s 327ms/step - loss: 0.1839 - accuracy: 0.9010 - val_loss: 0.3586 - val_accuracy: 0.8929\n",
      "Epoch 8/70\n",
      "789/789 [==============================] - ETA: 0s - loss: 0.1878 - accuracy: 0.8979\n",
      "Epoch 8: val_accuracy did not improve from 0.89722\n",
      "789/789 [==============================] - 258s 326ms/step - loss: 0.1878 - accuracy: 0.8979 - val_loss: 0.2843 - val_accuracy: 0.8936\n",
      "Epoch 9/70\n",
      "789/789 [==============================] - ETA: 0s - loss: 0.1849 - accuracy: 0.8935\n",
      "Epoch 9: val_accuracy did not improve from 0.89722\n",
      "789/789 [==============================] - 258s 327ms/step - loss: 0.1849 - accuracy: 0.8935 - val_loss: 0.3457 - val_accuracy: 0.8929\n",
      "Epoch 10/70\n",
      "789/789 [==============================] - ETA: 0s - loss: 0.1791 - accuracy: 0.9006\n",
      "Epoch 10: val_accuracy did not improve from 0.89722\n",
      "789/789 [==============================] - 258s 327ms/step - loss: 0.1791 - accuracy: 0.9006 - val_loss: 0.3640 - val_accuracy: 0.8944\n",
      "Epoch 11/70\n",
      "789/789 [==============================] - ETA: 0s - loss: 0.1725 - accuracy: 0.9023\n",
      "Epoch 11: val_accuracy improved from 0.89722 to 0.90507, saving model to ./key_sent_best_model_2.h5\n",
      "789/789 [==============================] - 311s 395ms/step - loss: 0.1725 - accuracy: 0.9023 - val_loss: 0.3482 - val_accuracy: 0.9051\n",
      "Epoch 12/70\n",
      "789/789 [==============================] - ETA: 0s - loss: 0.1743 - accuracy: 0.8994\n",
      "Epoch 12: val_accuracy did not improve from 0.90507\n",
      "789/789 [==============================] - 258s 327ms/step - loss: 0.1743 - accuracy: 0.8994 - val_loss: 0.3626 - val_accuracy: 0.9001\n",
      "Epoch 13/70\n",
      "789/789 [==============================] - ETA: 0s - loss: 0.1658 - accuracy: 0.9059\n",
      "Epoch 13: val_accuracy did not improve from 0.90507\n",
      "789/789 [==============================] - 258s 326ms/step - loss: 0.1658 - accuracy: 0.9059 - val_loss: 0.3921 - val_accuracy: 0.9022\n",
      "Epoch 14/70\n",
      "789/789 [==============================] - ETA: 0s - loss: 0.1685 - accuracy: 0.9045\n",
      "Epoch 14: val_accuracy did not improve from 0.90507\n",
      "789/789 [==============================] - 258s 327ms/step - loss: 0.1685 - accuracy: 0.9045 - val_loss: 0.4214 - val_accuracy: 0.8944\n",
      "Epoch 15/70\n",
      "789/789 [==============================] - ETA: 0s - loss: 0.1681 - accuracy: 0.9062\n",
      "Epoch 15: val_accuracy did not improve from 0.90507\n",
      "789/789 [==============================] - 258s 327ms/step - loss: 0.1681 - accuracy: 0.9062 - val_loss: 0.4049 - val_accuracy: 0.8958\n",
      "Epoch 16/70\n",
      "789/789 [==============================] - ETA: 0s - loss: 0.1703 - accuracy: 0.9036\n",
      "Epoch 16: val_accuracy improved from 0.90507 to 0.90721, saving model to ./key_sent_best_model_2.h5\n",
      "789/789 [==============================] - 305s 387ms/step - loss: 0.1703 - accuracy: 0.9036 - val_loss: 0.4147 - val_accuracy: 0.9072\n",
      "Epoch 17/70\n",
      "789/789 [==============================] - ETA: 0s - loss: 0.1729 - accuracy: 0.8998\n",
      "Epoch 17: val_accuracy did not improve from 0.90721\n",
      "789/789 [==============================] - 258s 326ms/step - loss: 0.1729 - accuracy: 0.8998 - val_loss: 0.4209 - val_accuracy: 0.9029\n",
      "Epoch 18/70\n",
      "789/789 [==============================] - ETA: 0s - loss: 0.1726 - accuracy: 0.9018\n",
      "Epoch 18: val_accuracy did not improve from 0.90721\n",
      "789/789 [==============================] - 258s 327ms/step - loss: 0.1726 - accuracy: 0.9018 - val_loss: 0.4410 - val_accuracy: 0.8901\n",
      "Epoch 19/70\n",
      "789/789 [==============================] - ETA: 0s - loss: 0.1720 - accuracy: 0.9005\n",
      "Epoch 19: val_accuracy did not improve from 0.90721\n",
      "789/789 [==============================] - 258s 327ms/step - loss: 0.1720 - accuracy: 0.9005 - val_loss: 0.4027 - val_accuracy: 0.9015\n",
      "Epoch 20/70\n",
      "789/789 [==============================] - ETA: 0s - loss: 0.1690 - accuracy: 0.9053\n",
      "Epoch 20: val_accuracy did not improve from 0.90721\n",
      "789/789 [==============================] - 257s 326ms/step - loss: 0.1690 - accuracy: 0.9053 - val_loss: 0.3770 - val_accuracy: 0.9022\n",
      "Epoch 21/70\n",
      "789/789 [==============================] - ETA: 0s - loss: 0.1646 - accuracy: 0.9059\n",
      "Epoch 21: val_accuracy did not improve from 0.90721\n",
      "789/789 [==============================] - 258s 327ms/step - loss: 0.1646 - accuracy: 0.9059 - val_loss: 0.3692 - val_accuracy: 0.9036\n",
      "Epoch 22/70\n",
      "789/789 [==============================] - ETA: 0s - loss: 0.1668 - accuracy: 0.9037\n",
      "Epoch 22: val_accuracy did not improve from 0.90721\n",
      "789/789 [==============================] - 258s 327ms/step - loss: 0.1668 - accuracy: 0.9037 - val_loss: 0.4150 - val_accuracy: 0.8994\n",
      "Epoch 23/70\n",
      "789/789 [==============================] - ETA: 0s - loss: 0.1714 - accuracy: 0.8999\n",
      "Epoch 23: val_accuracy did not improve from 0.90721\n",
      "789/789 [==============================] - 258s 327ms/step - loss: 0.1714 - accuracy: 0.8999 - val_loss: 0.3825 - val_accuracy: 0.9058\n",
      "Epoch 24/70\n",
      "184/789 [=====>........................] - ETA: 3:10 - loss: 0.1697 - accuracy: 0.9039"
     ]
    }
   ],
   "source": [
    "epochs = 70\n",
    "batch_size = 16\n",
    "history2 = key_sent_model_2.fit(train_x, train_y, \n",
    "                    epochs = epochs, \n",
    "                    shuffle = True, \n",
    "                    batch_size = batch_size, \n",
    "                    validation_split= 0.1,\n",
    "                    callbacks = callbacks2\n",
    "                    )"
   ]
  },
  {
   "cell_type": "code",
   "execution_count": 34,
   "metadata": {
    "scrolled": true
   },
   "outputs": [
    {
     "data": {
      "image/png": "[encoded data removed]",
      "text/plain": [
       "<Figure size 600x300 with 1 Axes>"
      ]
     },
     "metadata": {},
     "output_type": "display_data"
    }
   ],
   "source": [
    "acc = history2.history['accuracy']\n",
    "val_acc = history2.history['val_accuracy']\n",
    "\n",
    "epochs = range(1, len(acc)+1)\n",
    "plt.figure(figsize=(6, 3))\n",
    "plt.title('KeySent Model Accuracy')\n",
    "plt.plot(epochs, acc, 'b', label='train_acc')\n",
    "plt.plot(epochs, val_acc, 'r', label='val_acc')\n",
    "plt.grid()\n",
    "plt.legend()\n",
    "plt.savefig('./KeySentModel_Accuracy_2.png')\n",
    "plt.show()"
   ]
  },
  {
   "cell_type": "code",
   "execution_count": 35,
   "metadata": {},
   "outputs": [],
   "source": [
    "key_sent_model_2 = tf.keras.models.load_model(best_model_path2,\n",
    "                                                  custom_objects={'TFBertForSequenceClassification': TFBertForSequenceClassification})"
   ]
  },
  {
   "cell_type": "code",
   "execution_count": 36,
   "metadata": {},
   "outputs": [
    {
     "name": "stdout",
     "output_type": "stream",
     "text": [
      "49/49 [==============================] - 12s 189ms/step - loss: 0.4579 - accuracy: 0.9037\n"
     ]
    }
   ],
   "source": [
    "test_eval_2 = key_sent_model_2.evaluate(test_x, test_y)"
   ]
  },
  {
   "cell_type": "markdown",
   "metadata": {},
   "source": [
    "### # Model 3"
   ]
  },
  {
   "cell_type": "code",
   "execution_count": 102,
   "metadata": {},
   "outputs": [],
   "source": [
    "dropout = tf.keras.layers.Dropout(0.3)(bert_output)\n",
    "layer = tf.keras.layers.Dense(512, activation=\"relu\")(dropout)\n",
    "dropout = tf.keras.layers.Dropout(0.3)(layer)\n",
    "layer = tf.keras.layers.Dense(256, activation=\"relu\")(dropout)\n",
    "dropout = tf.keras.layers.Dropout(0.3)(layer)\n",
    "layer = tf.keras.layers.Dense(2, activation='softmax', kernel_initializer = tf.keras.initializers.TruncatedNormal(stddev=0.02))(layer)\n",
    "key_sent_model_3 = tf.keras.Model([token_inputs, mask_inputs, segment_inputs], layer)"
   ]
  },
  {
   "cell_type": "code",
   "execution_count": 103,
   "metadata": {},
   "outputs": [
    {
     "name": "stdout",
     "output_type": "stream",
     "text": [
      "Model: \"model_4\"\n",
      "__________________________________________________________________________________________________\n",
      " Layer (type)                   Output Shape         Param #     Connected to                     \n",
      "==================================================================================================\n",
      " input_word_ids (InputLayer)    [(None, 260)]        0           []                               \n",
      "                                                                                                  \n",
      " input_masks (InputLayer)       [(None, 260)]        0           []                               \n",
      "                                                                                                  \n",
      " input_segment (InputLayer)     [(None, 260)]        0           []                               \n",
      "                                                                                                  \n",
      " tf_bert_for_sequence_classific  TFSequenceClassifie  110618882  ['input_word_ids[0][0]',         \n",
      " ation (TFBertForSequenceClassi  rOutput(loss=None,               'input_masks[0][0]',            \n",
      " fication)                      logits=(None, 2),                 'input_segment[0][0]']          \n",
      "                                 hidden_states=None                                               \n",
      "                                , attentions=None)                                                \n",
      "                                                                                                  \n",
      " dropout_122 (Dropout)          (None, 2)            0           ['tf_bert_for_sequence_classifica\n",
      "                                                                 tion[0][0]']                     \n",
      "                                                                                                  \n",
      " dense_10 (Dense)               (None, 512)          1536        ['dropout_122[0][0]']            \n",
      "                                                                                                  \n",
      " dropout_123 (Dropout)          (None, 512)          0           ['dense_10[0][0]']               \n",
      "                                                                                                  \n",
      " dense_11 (Dense)               (None, 256)          131328      ['dropout_123[0][0]']            \n",
      "                                                                                                  \n",
      " dense_12 (Dense)               (None, 2)            514         ['dense_11[0][0]']               \n",
      "                                                                                                  \n",
      "==================================================================================================\n",
      "Total params: 110,752,260\n",
      "Trainable params: 110,752,260\n",
      "Non-trainable params: 0\n",
      "__________________________________________________________________________________________________\n"
     ]
    }
   ],
   "source": [
    "key_sent_model_3.summary()"
   ]
  },
  {
   "cell_type": "code",
   "execution_count": 104,
   "metadata": {},
   "outputs": [],
   "source": [
    "key_sent_model_3.compile(optimizer = optimizer, \n",
    "                        loss = tf.keras.losses.SparseCategoricalCrossentropy(), \n",
    "                        metrics = ['accuracy'])"
   ]
  },
  {
   "cell_type": "code",
   "execution_count": 10,
   "metadata": {},
   "outputs": [],
   "source": [
    "best_model_path3 = './key_sent_best_model_3.h5'\n",
    "\n",
    "model_checkpoint3 = ModelCheckpoint(\n",
    "    filepath = best_model_path3,\n",
    "    monitor = \"val_accuracy\",\n",
    "    mode = \"max\",\n",
    "    save_best_only = True, \n",
    "    verbose = 1\n",
    ")"
   ]
  },
  {
   "cell_type": "code",
   "execution_count": 106,
   "metadata": {},
   "outputs": [],
   "source": [
    "callbacks3 = [early_stopping, model_checkpoint3]"
   ]
  },
  {
   "cell_type": "code",
   "execution_count": 107,
   "metadata": {
    "scrolled": true
   },
   "outputs": [
    {
     "name": "stdout",
     "output_type": "stream",
     "text": [
      "Epoch 1/100\n",
      "789/789 [==============================] - ETA: 0s - loss: 0.0845 - accuracy: 0.9580\n",
      "Epoch 1: val_accuracy improved from -inf to 0.89293, saving model to ./key_sent_best_model_3.h5\n",
      "789/789 [==============================] - 298s 335ms/step - loss: 0.0845 - accuracy: 0.9580 - val_loss: 0.7208 - val_accuracy: 0.8929\n",
      "Epoch 2/100\n",
      "789/789 [==============================] - ETA: 0s - loss: 0.0642 - accuracy: 0.9677\n",
      "Epoch 2: val_accuracy improved from 0.89293 to 0.89793, saving model to ./key_sent_best_model_3.h5\n",
      "789/789 [==============================] - 294s 373ms/step - loss: 0.0642 - accuracy: 0.9677 - val_loss: 0.7093 - val_accuracy: 0.8979\n",
      "Epoch 3/100\n",
      "789/789 [==============================] - ETA: 0s - loss: 0.0666 - accuracy: 0.9661\n",
      "Epoch 3: val_accuracy improved from 0.89793 to 0.90007, saving model to ./key_sent_best_model_3.h5\n",
      "789/789 [==============================] - 303s 384ms/step - loss: 0.0666 - accuracy: 0.9661 - val_loss: 0.7493 - val_accuracy: 0.9001\n",
      "Epoch 4/100\n",
      "789/789 [==============================] - ETA: 0s - loss: 0.0653 - accuracy: 0.9648\n",
      "Epoch 4: val_accuracy improved from 0.90007 to 0.90079, saving model to ./key_sent_best_model_3.h5\n",
      "789/789 [==============================] - 363s 460ms/step - loss: 0.0653 - accuracy: 0.9648 - val_loss: 0.6783 - val_accuracy: 0.9008\n",
      "Epoch 5/100\n",
      "789/789 [==============================] - ETA: 0s - loss: 0.0621 - accuracy: 0.9656\n",
      "Epoch 5: val_accuracy improved from 0.90079 to 0.90364, saving model to ./key_sent_best_model_3.h5\n",
      "789/789 [==============================] - 319s 404ms/step - loss: 0.0621 - accuracy: 0.9656 - val_loss: 0.7937 - val_accuracy: 0.9036\n",
      "Epoch 6/100\n",
      "789/789 [==============================] - ETA: 0s - loss: 0.0631 - accuracy: 0.9652\n",
      "Epoch 6: val_accuracy did not improve from 0.90364\n",
      "789/789 [==============================] - 258s 327ms/step - loss: 0.0631 - accuracy: 0.9652 - val_loss: 0.6828 - val_accuracy: 0.9029\n",
      "Epoch 7/100\n",
      "789/789 [==============================] - ETA: 0s - loss: 0.0652 - accuracy: 0.9665\n",
      "Epoch 7: val_accuracy did not improve from 0.90364\n",
      "789/789 [==============================] - 258s 327ms/step - loss: 0.0652 - accuracy: 0.9665 - val_loss: 0.8000 - val_accuracy: 0.8965\n",
      "Epoch 8/100\n",
      "789/789 [==============================] - ETA: 0s - loss: 0.0666 - accuracy: 0.9630\n",
      "Epoch 8: val_accuracy did not improve from 0.90364\n",
      "789/789 [==============================] - 258s 327ms/step - loss: 0.0666 - accuracy: 0.9630 - val_loss: 0.8804 - val_accuracy: 0.8936\n",
      "Epoch 9/100\n",
      "789/789 [==============================] - ETA: 0s - loss: 0.0626 - accuracy: 0.9672\n",
      "Epoch 9: val_accuracy did not improve from 0.90364\n",
      "789/789 [==============================] - 258s 327ms/step - loss: 0.0626 - accuracy: 0.9672 - val_loss: 0.7438 - val_accuracy: 0.8944\n",
      "Epoch 10/100\n",
      "789/789 [==============================] - ETA: 0s - loss: 0.0665 - accuracy: 0.9641\n",
      "Epoch 10: val_accuracy did not improve from 0.90364\n",
      "789/789 [==============================] - 258s 327ms/step - loss: 0.0665 - accuracy: 0.9641 - val_loss: 0.7441 - val_accuracy: 0.8951\n",
      "Epoch 11/100\n",
      "789/789 [==============================] - ETA: 0s - loss: 0.0610 - accuracy: 0.9665\n",
      "Epoch 11: val_accuracy did not improve from 0.90364\n",
      "789/789 [==============================] - 258s 327ms/step - loss: 0.0610 - accuracy: 0.9665 - val_loss: 0.7149 - val_accuracy: 0.8944\n",
      "Epoch 12/100\n",
      "789/789 [==============================] - ETA: 0s - loss: 0.0602 - accuracy: 0.9641\n",
      "Epoch 12: val_accuracy did not improve from 0.90364\n",
      "789/789 [==============================] - 258s 327ms/step - loss: 0.0602 - accuracy: 0.9641 - val_loss: 0.7644 - val_accuracy: 0.8994\n",
      "Epoch 13/100\n",
      "789/789 [==============================] - ETA: 0s - loss: 0.0610 - accuracy: 0.9638\n",
      "Epoch 13: val_accuracy did not improve from 0.90364\n",
      "789/789 [==============================] - 258s 327ms/step - loss: 0.0610 - accuracy: 0.9638 - val_loss: 0.8874 - val_accuracy: 0.8965\n"
     ]
    }
   ],
   "source": [
    "epochs = 100\n",
    "batch_size = 16\n",
    "\n",
    "history3 = key_sent_model_3.fit(train_x, train_y, \n",
    "                    epochs = epochs, \n",
    "                    shuffle = True, \n",
    "                    batch_size = batch_size, \n",
    "                    validation_split= 0.1,\n",
    "                    callbacks = callbacks3\n",
    "                    )"
   ]
  },
  {
   "cell_type": "code",
   "execution_count": 111,
   "metadata": {},
   "outputs": [
    {
     "data": {
      "image/png": "[encoded data removed]",
      "text/plain": [
       "<Figure size 600x300 with 1 Axes>"
      ]
     },
     "metadata": {},
     "output_type": "display_data"
    }
   ],
   "source": [
    "acc = history3.history['accuracy']\n",
    "val_acc = history3.history['val_accuracy']\n",
    "\n",
    "epochs = range(1, len(acc)+1)\n",
    "plt.figure(figsize=(6, 3))\n",
    "plt.title('KeySent Model Accuracy')\n",
    "plt.plot(epochs, acc, 'b', label='train_acc')\n",
    "plt.plot(epochs, val_acc, 'r', label='val_acc')\n",
    "plt.grid()\n",
    "plt.legend()\n",
    "plt.savefig('./KeySentModel_Accuracy_3.png')\n",
    "plt.show()"
   ]
  },
  {
   "cell_type": "code",
   "execution_count": 11,
   "metadata": {
    "colab": {
     "base_uri": "https://localhost:8080/",
     "height": 227
    },
    "executionInfo": {
     "elapsed": 260,
     "status": "error",
     "timestamp": 1676902180773,
     "user": {
      "displayName": "최다솔",
      "userId": "02081007897853777168"
     },
     "user_tz": -540
    },
    "id": "Ld0bUWa6YK9u",
    "outputId": "d38d2e2e-92d4-4092-dedb-be0b1bd762b7",
    "scrolled": true
   },
   "outputs": [
    {
     "name": "stdout",
     "output_type": "stream",
     "text": [
      "WARNING:tensorflow:Error in loading the saved optimizer state. As a result, your model is starting with a freshly initialized optimizer.\n"
     ]
    }
   ],
   "source": [
    "key_sent_model_3 = tf.keras.models.load_model(best_model_path3,\n",
    "                                              custom_objects={'TFBertForSequenceClassification': TFBertForSequenceClassification})"
   ]
  },
  {
   "cell_type": "code",
   "execution_count": 12,
   "metadata": {
    "id": "FLLGZVYTfRk_"
   },
   "outputs": [
    {
     "name": "stdout",
     "output_type": "stream",
     "text": [
      "49/49 [==============================] - 13s 189ms/step - loss: 0.7895 - accuracy: 0.9049\n"
     ]
    }
   ],
   "source": [
    "test_eval_3 = key_sent_model_3.evaluate(test_x, test_y)"
   ]
  },
  {
   "cell_type": "markdown",
   "metadata": {
    "id": "BbHriQ-tYYQB"
   },
   "source": [
    "## Evaluation"
   ]
  },
  {
   "cell_type": "code",
   "execution_count": 115,
   "metadata": {},
   "outputs": [
    {
     "data": {
      "text/plain": [
       "[0.8991650342941284, 0.9036608934402466, 0.904945433139801]"
      ]
     },
     "execution_count": 115,
     "metadata": {},
     "output_type": "execute_result"
    }
   ],
   "source": [
    "# 3가지 모델 Accuracy 비교\n",
    "test_evals = [test_eval_1[1], test_eval_2[1], test_eval_3[1]]\n",
    "test_evals"
   ]
  },
  {
   "cell_type": "code",
   "execution_count": 16,
   "metadata": {
    "colab": {
     "base_uri": "https://localhost:8080/"
    },
    "executionInfo": {
     "elapsed": 22381,
     "status": "ok",
     "timestamp": 1676697243150,
     "user": {
      "displayName": "최다솔",
      "userId": "02081007897853777168"
     },
     "user_tz": -540
    },
    "id": "FYZOlpbC66kR",
    "outputId": "64ed2ffc-328c-458b-9bcd-1695dfc43e0d"
   },
   "outputs": [
    {
     "name": "stdout",
     "output_type": "stream",
     "text": [
      "49/49 [==============================] - 12s 186ms/step\n"
     ]
    }
   ],
   "source": [
    "# Accuracy가 가장 높은 3번 모델로 평가 진행\n",
    "\n",
    "predicted_value = key_sent_model_3.predict(test_x)\n",
    "predicted_label = np.argmax(predicted_value, axis = 1)"
   ]
  },
  {
   "cell_type": "markdown",
   "metadata": {
    "id": "F2TiLyStYZ29"
   },
   "source": [
    "#### Classification Report"
   ]
  },
  {
   "cell_type": "code",
   "execution_count": 17,
   "metadata": {
    "colab": {
     "base_uri": "https://localhost:8080/"
    },
    "executionInfo": {
     "elapsed": 1660,
     "status": "ok",
     "timestamp": 1676611365219,
     "user": {
      "displayName": "최다솔",
      "userId": "02081007897853777168"
     },
     "user_tz": -540
    },
    "id": "5WYI4j2HYLE9",
    "outputId": "c63e3d97-5529-47b2-c744-d44ec2c46140"
   },
   "outputs": [
    {
     "data": {
      "text/html": [
       "<div>\n",
       "<style scoped>\n",
       "    .dataframe tbody tr th:only-of-type {\n",
       "        vertical-align: middle;\n",
       "    }\n",
       "\n",
       "    .dataframe tbody tr th {\n",
       "        vertical-align: top;\n",
       "    }\n",
       "\n",
       "    .dataframe thead th {\n",
       "        text-align: right;\n",
       "    }\n",
       "</style>\n",
       "<table border=\"1\" class=\"dataframe\">\n",
       "  <thead>\n",
       "    <tr style=\"text-align: right;\">\n",
       "      <th></th>\n",
       "      <th>precision</th>\n",
       "      <th>recall</th>\n",
       "      <th>f1-score</th>\n",
       "      <th>support</th>\n",
       "    </tr>\n",
       "  </thead>\n",
       "  <tbody>\n",
       "    <tr>\n",
       "      <th>0</th>\n",
       "      <td>0.927</td>\n",
       "      <td>0.913</td>\n",
       "      <td>0.920</td>\n",
       "      <td>930.000</td>\n",
       "    </tr>\n",
       "    <tr>\n",
       "      <th>1</th>\n",
       "      <td>0.874</td>\n",
       "      <td>0.893</td>\n",
       "      <td>0.883</td>\n",
       "      <td>627.000</td>\n",
       "    </tr>\n",
       "    <tr>\n",
       "      <th>accuracy</th>\n",
       "      <td>0.905</td>\n",
       "      <td>0.905</td>\n",
       "      <td>0.905</td>\n",
       "      <td>0.905</td>\n",
       "    </tr>\n",
       "    <tr>\n",
       "      <th>macro avg</th>\n",
       "      <td>0.900</td>\n",
       "      <td>0.903</td>\n",
       "      <td>0.902</td>\n",
       "      <td>1557.000</td>\n",
       "    </tr>\n",
       "    <tr>\n",
       "      <th>weighted avg</th>\n",
       "      <td>0.905</td>\n",
       "      <td>0.905</td>\n",
       "      <td>0.905</td>\n",
       "      <td>1557.000</td>\n",
       "    </tr>\n",
       "  </tbody>\n",
       "</table>\n",
       "</div>"
      ],
      "text/plain": [
       "              precision  recall  f1-score   support\n",
       "0                 0.927   0.913     0.920   930.000\n",
       "1                 0.874   0.893     0.883   627.000\n",
       "accuracy          0.905   0.905     0.905     0.905\n",
       "macro avg         0.900   0.903     0.902  1557.000\n",
       "weighted avg      0.905   0.905     0.905  1557.000"
      ]
     },
     "execution_count": 17,
     "metadata": {},
     "output_type": "execute_result"
    }
   ],
   "source": [
    "CL_REPORT_FILE = \"./cl_report_key_sent.csv\"\n",
    "\n",
    "cl_report = classification_report(test_y, predicted_label, output_dict = True)\n",
    "cl_report_df = pd.DataFrame(cl_report).transpose()\n",
    "cl_report_df = cl_report_df.round(3)\n",
    "cl_report_df.to_csv(CL_REPORT_FILE)\n",
    "cl_report_df"
   ]
  },
  {
   "cell_type": "markdown",
   "metadata": {
    "id": "MXRDKdmGYdXR"
   },
   "source": [
    "#### Confusion Matrix"
   ]
  },
  {
   "cell_type": "code",
   "execution_count": 18,
   "metadata": {
    "colab": {
     "base_uri": "https://localhost:8080/",
     "height": 391
    },
    "executionInfo": {
     "elapsed": 805,
     "status": "ok",
     "timestamp": 1676611368234,
     "user": {
      "displayName": "최다솔",
      "userId": "02081007897853777168"
     },
     "user_tz": -540
    },
    "id": "1odl_aSSYLHT",
    "outputId": "aedcd055-76da-4942-abc0-0e39a9f65573"
   },
   "outputs": [
    {
     "data": {
      "image/png": "[encoded data removed]",
      "text/plain": [
       "<Figure size 500x400 with 2 Axes>"
      ]
     },
     "metadata": {},
     "output_type": "display_data"
    }
   ],
   "source": [
    "figure_file = \"./cf_matrix_key_sent.png\"\n",
    "\n",
    "cf_matrix = confusion_matrix(test_y, predicted_label)\n",
    "fig, ax = plt.subplots(figsize = (5,4))\n",
    "sns.heatmap(cf_matrix, annot = True, fmt = 'd')\n",
    "plt.ylabel('Actual')\n",
    "plt.xlabel('Predicted')\n",
    "plt.savefig(figure_file)\n",
    "plt.show()"
   ]
  },
  {
   "cell_type": "markdown",
   "metadata": {
    "id": "PlQfaiTjYhQ0"
   },
   "source": [
    "#### Total Metric"
   ]
  },
  {
   "cell_type": "code",
   "execution_count": 19,
   "metadata": {
    "id": "mHD1jVo8Yg6b"
   },
   "outputs": [],
   "source": [
    "accuracy_score = round(accuracy_score(y_test, predicted_label), 3) # Accuracy\n",
    "precision_score = round(precision_score(y_test, predicted_label, average=\"weighted\"), 3) # Precision\n",
    "recall_score = round(recall_score(y_test, predicted_label, average=\"weighted\"), 3) # Recall\n",
    "f1_score = round(f1_score(y_test, predicted_label, average=\"weighted\"), 3) # F1 Score\n",
    "roc_auc_score = round(roc_auc_score(y_test, predicted_label, average=\"weighted\", multi_class=\"ovr\"), 2) # ROC AUC Score\n",
    "cohen_kappa_score = round(cohen_kappa_score(y_test, predicted_label), 3) # Cohen's Kappa Score\n",
    "matthews_corrcoef = round(matthews_corrcoef(y_test, predicted_label), 3) # Matthew's Correlation Coefficient\n",
    "log_loss = round(log_loss(y_test, predicted_label), 3) # Log Loss"
   ]
  },
  {
   "cell_type": "code",
   "execution_count": 22,
   "metadata": {
    "id": "pkdh_nYsWoac"
   },
   "outputs": [],
   "source": [
    "metric_file = './metric_key_sent.csv'\n",
    "\n",
    "metric_total = pd.DataFrame({\n",
    "    'PLM': model_name,\n",
    "    'Optimizer': optimizer_name,\n",
    "    'Accuracy': accuracy_score,\n",
    "    'Precision': precision_score,\n",
    "    'Recall': recall_score,\n",
    "    'F1_score': f1_score,\n",
    "    'ROC_AUC_score': roc_auc_score,\n",
    "    'Cohen_kappa_coef': cohen_kappa_score,\n",
    "    'Matthews_corrcoef': matthews_corrcoef,\n",
    "    'Log_loss': log_loss},\n",
    "     index = ['-'])  "
   ]
  },
  {
   "cell_type": "code",
   "execution_count": 23,
   "metadata": {
    "id": "rSNlXx_CVhC6"
   },
   "outputs": [],
   "source": [
    "metric_total.to_csv(metric_file)"
   ]
  },
  {
   "cell_type": "code",
   "execution_count": 24,
   "metadata": {
    "colab": {
     "base_uri": "https://localhost:8080/"
    },
    "executionInfo": {
     "elapsed": 5,
     "status": "ok",
     "timestamp": 1676611385369,
     "user": {
      "displayName": "최다솔",
      "userId": "02081007897853777168"
     },
     "user_tz": -540
    },
    "id": "1BxpsBrfVhFR",
    "outputId": "34a2b2e2-7a2b-48e2-b1c8-6c2d391f0592"
   },
   "outputs": [
    {
     "data": {
      "text/html": [
       "<div>\n",
       "<style scoped>\n",
       "    .dataframe tbody tr th:only-of-type {\n",
       "        vertical-align: middle;\n",
       "    }\n",
       "\n",
       "    .dataframe tbody tr th {\n",
       "        vertical-align: top;\n",
       "    }\n",
       "\n",
       "    .dataframe thead th {\n",
       "        text-align: right;\n",
       "    }\n",
       "</style>\n",
       "<table border=\"1\" class=\"dataframe\">\n",
       "  <thead>\n",
       "    <tr style=\"text-align: right;\">\n",
       "      <th></th>\n",
       "      <th>PLM</th>\n",
       "      <th>Optimizer</th>\n",
       "      <th>Accuracy</th>\n",
       "      <th>Precision</th>\n",
       "      <th>Recall</th>\n",
       "      <th>F1_score</th>\n",
       "      <th>ROC_AUC_score</th>\n",
       "      <th>Cohen_kappa_coef</th>\n",
       "      <th>Matthews_corrcoef</th>\n",
       "      <th>Log_loss</th>\n",
       "    </tr>\n",
       "  </thead>\n",
       "  <tbody>\n",
       "    <tr>\n",
       "      <th>-</th>\n",
       "      <td>klue/bert-base</td>\n",
       "      <td>RAdam</td>\n",
       "      <td>0.905</td>\n",
       "      <td>0.905</td>\n",
       "      <td>0.905</td>\n",
       "      <td>0.905</td>\n",
       "      <td>0.9</td>\n",
       "      <td>0.803</td>\n",
       "      <td>0.803</td>\n",
       "      <td>3.426</td>\n",
       "    </tr>\n",
       "  </tbody>\n",
       "</table>\n",
       "</div>"
      ],
      "text/plain": [
       "              PLM Optimizer  Accuracy  Precision  Recall  F1_score  \\\n",
       "-  klue/bert-base     RAdam     0.905      0.905   0.905     0.905   \n",
       "\n",
       "   ROC_AUC_score  Cohen_kappa_coef  Matthews_corrcoef  Log_loss  \n",
       "-            0.9             0.803              0.803     3.426  "
      ]
     },
     "execution_count": 24,
     "metadata": {},
     "output_type": "execute_result"
    }
   ],
   "source": [
    "metric_total"
   ]
  },
  {
   "cell_type": "markdown",
   "metadata": {},
   "source": [
    "### Final Training"
   ]
  },
  {
   "cell_type": "code",
   "execution_count": 13,
   "metadata": {
    "scrolled": true
   },
   "outputs": [
    {
     "name": "stdout",
     "output_type": "stream",
     "text": [
      "Epoch 1/30\n",
      "49/49 [==============================] - 50s 561ms/step - loss: 0.8886 - accuracy: 0.8709\n",
      "Epoch 2/30\n",
      "49/49 [==============================] - 27s 561ms/step - loss: 0.7703 - accuracy: 0.8818\n",
      "Epoch 3/30\n",
      "49/49 [==============================] - 28s 562ms/step - loss: 0.8609 - accuracy: 0.8767\n",
      "Epoch 4/30\n",
      "49/49 [==============================] - 28s 562ms/step - loss: 0.8296 - accuracy: 0.8683\n",
      "Epoch 5/30\n",
      "49/49 [==============================] - 28s 562ms/step - loss: 0.6365 - accuracy: 0.8786\n",
      "Epoch 6/30\n",
      "49/49 [==============================] - 28s 562ms/step - loss: 0.4096 - accuracy: 0.9069\n",
      "Epoch 7/30\n",
      "49/49 [==============================] - 28s 562ms/step - loss: 0.2653 - accuracy: 0.9037\n",
      "Epoch 8/30\n",
      "49/49 [==============================] - 28s 562ms/step - loss: 0.2337 - accuracy: 0.9101\n",
      "Epoch 9/30\n",
      "49/49 [==============================] - 28s 562ms/step - loss: 0.2199 - accuracy: 0.9216\n",
      "Epoch 10/30\n",
      "49/49 [==============================] - 28s 561ms/step - loss: 0.1900 - accuracy: 0.9338\n",
      "Epoch 11/30\n",
      "49/49 [==============================] - 28s 562ms/step - loss: 0.1947 - accuracy: 0.9313\n",
      "Epoch 12/30\n",
      "49/49 [==============================] - 28s 561ms/step - loss: 0.1627 - accuracy: 0.9441\n",
      "Epoch 13/30\n",
      "49/49 [==============================] - 28s 562ms/step - loss: 0.1339 - accuracy: 0.9557\n",
      "Epoch 14/30\n",
      "49/49 [==============================] - 28s 562ms/step - loss: 0.1162 - accuracy: 0.9557\n",
      "Epoch 15/30\n",
      "49/49 [==============================] - 28s 561ms/step - loss: 0.0985 - accuracy: 0.9544\n",
      "Epoch 16/30\n",
      "49/49 [==============================] - 28s 561ms/step - loss: 0.1007 - accuracy: 0.9525\n",
      "Epoch 17/30\n",
      "49/49 [==============================] - 28s 561ms/step - loss: 0.0909 - accuracy: 0.9595\n",
      "Epoch 18/30\n",
      "49/49 [==============================] - 28s 561ms/step - loss: 0.0783 - accuracy: 0.9627\n",
      "Epoch 19/30\n",
      "49/49 [==============================] - 27s 561ms/step - loss: 0.0555 - accuracy: 0.9743\n",
      "Epoch 20/30\n",
      "49/49 [==============================] - 28s 561ms/step - loss: 0.0648 - accuracy: 0.9595\n",
      "Epoch 21/30\n",
      "49/49 [==============================] - 28s 562ms/step - loss: 0.0664 - accuracy: 0.9602\n",
      "Epoch 22/30\n",
      "49/49 [==============================] - 28s 562ms/step - loss: 0.0776 - accuracy: 0.9557\n",
      "Epoch 23/30\n",
      "49/49 [==============================] - 28s 561ms/step - loss: 0.0702 - accuracy: 0.9627\n",
      "Epoch 24/30\n",
      "49/49 [==============================] - 28s 562ms/step - loss: 0.0688 - accuracy: 0.9589\n",
      "Epoch 25/30\n",
      "49/49 [==============================] - 27s 561ms/step - loss: 0.0586 - accuracy: 0.9717\n",
      "Epoch 26/30\n",
      "49/49 [==============================] - 27s 561ms/step - loss: 0.0572 - accuracy: 0.9711\n",
      "Epoch 27/30\n",
      "49/49 [==============================] - 27s 561ms/step - loss: 0.0681 - accuracy: 0.9563\n",
      "Epoch 28/30\n",
      "49/49 [==============================] - 27s 561ms/step - loss: 0.0713 - accuracy: 0.9563\n",
      "Epoch 29/30\n",
      "49/49 [==============================] - 28s 561ms/step - loss: 0.0612 - accuracy: 0.9602\n",
      "Epoch 30/30\n",
      "49/49 [==============================] - 28s 562ms/step - loss: 0.0670 - accuracy: 0.9589\n"
     ]
    },
    {
     "data": {
      "text/plain": [
       "<keras.callbacks.History at 0x7f5190384f40>"
      ]
     },
     "execution_count": 13,
     "metadata": {},
     "output_type": "execute_result"
    }
   ],
   "source": [
    "key_sent_model_3.fit(test_x, test_y, \n",
    "                      epochs=30, \n",
    "                      shuffle = True, batch_size = 32)"
   ]
  },
  {
   "cell_type": "code",
   "execution_count": 14,
   "metadata": {},
   "outputs": [],
   "source": [
    "model_path = \"./final_key_sent_model.h5\"\n",
    "key_sent_model_3.save(model_path)"
   ]
  },
  {
   "cell_type": "code",
   "execution_count": null,
   "metadata": {},
   "outputs": [],
   "source": []
  }
 ],
 "metadata": {
  "accelerator": "TPU",
  "colab": {
   "machine_shape": "hm",
   "provenance": []
  },
  "gpuClass": "standard",
  "kernelspec": {
   "display_name": "Python 3 (ipykernel)",
   "language": "python",
   "name": "python3"
  },
  "language_info": {
   "codemirror_mode": {
    "name": "ipython",
    "version": 3
   },
   "file_extension": ".py",
   "mimetype": "text/x-python",
   "name": "python",
   "nbconvert_exporter": "python",
   "pygments_lexer": "ipython3",
   "version": "3.10.4"
  },
  "widgets": {
   "application/vnd.jupyter.widget-state+json": {
    "042384b021a14298803d387723c87aca": {
     "model_module": "@jupyter-widgets/base",
     "model_module_version": "1.2.0",
     "model_name": "LayoutModel",
     "state": {
      "_model_module": "@jupyter-widgets/base",
      "_model_module_version": "1.2.0",
      "_model_name": "LayoutModel",
      "_view_count": null,
      "_view_module": "@jupyter-widgets/base",
      "_view_module_version": "1.2.0",
      "_view_name": "LayoutView",
      "align_content": null,
      "align_items": null,
      "align_self": null,
      "border": null,
      "bottom": null,
      "display": null,
      "flex": null,
      "flex_flow": null,
      "grid_area": null,
      "grid_auto_columns": null,
      "grid_auto_flow": null,
      "grid_auto_rows": null,
      "grid_column": null,
      "grid_gap": null,
      "grid_row": null,
      "grid_template_areas": null,
      "grid_template_columns": null,
      "grid_template_rows": null,
      "height": null,
      "justify_content": null,
      "justify_items": null,
      "left": null,
      "margin": null,
      "max_height": null,
      "max_width": null,
      "min_height": null,
      "min_width": null,
      "object_fit": null,
      "object_position": null,
      "order": null,
      "overflow": null,
      "overflow_x": null,
      "overflow_y": null,
      "padding": null,
      "right": null,
      "top": null,
      "visibility": null,
      "width": null
     }
    },
    "05b48583edca425fbcc8ae103155f1f6": {
     "model_module": "@jupyter-widgets/controls",
     "model_module_version": "1.5.0",
     "model_name": "FloatProgressModel",
     "state": {
      "_dom_classes": [],
      "_model_module": "@jupyter-widgets/controls",
      "_model_module_version": "1.5.0",
      "_model_name": "FloatProgressModel",
      "_view_count": null,
      "_view_module": "@jupyter-widgets/controls",
      "_view_module_version": "1.5.0",
      "_view_name": "ProgressView",
      "bar_style": "success",
      "description": "",
      "description_tooltip": null,
      "layout": "IPY_MODEL_06bff517f9824a8d9ca27d92528e1b39",
      "max": 445025130,
      "min": 0,
      "orientation": "horizontal",
      "style": "IPY_MODEL_fcda98f52add426ab3cfb99074633098",
      "value": 445025130
     }
    },
    "06bff517f9824a8d9ca27d92528e1b39": {
     "model_module": "@jupyter-widgets/base",
     "model_module_version": "1.2.0",
     "model_name": "LayoutModel",
     "state": {
      "_model_module": "@jupyter-widgets/base",
      "_model_module_version": "1.2.0",
      "_model_name": "LayoutModel",
      "_view_count": null,
      "_view_module": "@jupyter-widgets/base",
      "_view_module_version": "1.2.0",
      "_view_name": "LayoutView",
      "align_content": null,
      "align_items": null,
      "align_self": null,
      "border": null,
      "bottom": null,
      "display": null,
      "flex": null,
      "flex_flow": null,
      "grid_area": null,
      "grid_auto_columns": null,
      "grid_auto_flow": null,
      "grid_auto_rows": null,
      "grid_column": null,
      "grid_gap": null,
      "grid_row": null,
      "grid_template_areas": null,
      "grid_template_columns": null,
      "grid_template_rows": null,
      "height": null,
      "justify_content": null,
      "justify_items": null,
      "left": null,
      "margin": null,
      "max_height": null,
      "max_width": null,
      "min_height": null,
      "min_width": null,
      "object_fit": null,
      "object_position": null,
      "order": null,
      "overflow": null,
      "overflow_x": null,
      "overflow_y": null,
      "padding": null,
      "right": null,
      "top": null,
      "visibility": null,
      "width": null
     }
    },
    "086e113c33e44b4faf4ccc5b9e398336": {
     "model_module": "@jupyter-widgets/base",
     "model_module_version": "1.2.0",
     "model_name": "LayoutModel",
     "state": {
      "_model_module": "@jupyter-widgets/base",
      "_model_module_version": "1.2.0",
      "_model_name": "LayoutModel",
      "_view_count": null,
      "_view_module": "@jupyter-widgets/base",
      "_view_module_version": "1.2.0",
      "_view_name": "LayoutView",
      "align_content": null,
      "align_items": null,
      "align_self": null,
      "border": null,
      "bottom": null,
      "display": null,
      "flex": null,
      "flex_flow": null,
      "grid_area": null,
      "grid_auto_columns": null,
      "grid_auto_flow": null,
      "grid_auto_rows": null,
      "grid_column": null,
      "grid_gap": null,
      "grid_row": null,
      "grid_template_areas": null,
      "grid_template_columns": null,
      "grid_template_rows": null,
      "height": null,
      "justify_content": null,
      "justify_items": null,
      "left": null,
      "margin": null,
      "max_height": null,
      "max_width": null,
      "min_height": null,
      "min_width": null,
      "object_fit": null,
      "object_position": null,
      "order": null,
      "overflow": null,
      "overflow_x": null,
      "overflow_y": null,
      "padding": null,
      "right": null,
      "top": null,
      "visibility": null,
      "width": null
     }
    },
    "0974c2ce82b44c3c8e4341bd19081a54": {
     "model_module": "@jupyter-widgets/base",
     "model_module_version": "1.2.0",
     "model_name": "LayoutModel",
     "state": {
      "_model_module": "@jupyter-widgets/base",
      "_model_module_version": "1.2.0",
      "_model_name": "LayoutModel",
      "_view_count": null,
      "_view_module": "@jupyter-widgets/base",
      "_view_module_version": "1.2.0",
      "_view_name": "LayoutView",
      "align_content": null,
      "align_items": null,
      "align_self": null,
      "border": null,
      "bottom": null,
      "display": null,
      "flex": null,
      "flex_flow": null,
      "grid_area": null,
      "grid_auto_columns": null,
      "grid_auto_flow": null,
      "grid_auto_rows": null,
      "grid_column": null,
      "grid_gap": null,
      "grid_row": null,
      "grid_template_areas": null,
      "grid_template_columns": null,
      "grid_template_rows": null,
      "height": null,
      "justify_content": null,
      "justify_items": null,
      "left": null,
      "margin": null,
      "max_height": null,
      "max_width": null,
      "min_height": null,
      "min_width": null,
      "object_fit": null,
      "object_position": null,
      "order": null,
      "overflow": null,
      "overflow_x": null,
      "overflow_y": null,
      "padding": null,
      "right": null,
      "top": null,
      "visibility": null,
      "width": null
     }
    },
    "1a57fb5300e148b4a1dad00ba36d56d3": {
     "model_module": "@jupyter-widgets/controls",
     "model_module_version": "1.5.0",
     "model_name": "DescriptionStyleModel",
     "state": {
      "_model_module": "@jupyter-widgets/controls",
      "_model_module_version": "1.5.0",
      "_model_name": "DescriptionStyleModel",
      "_view_count": null,
      "_view_module": "@jupyter-widgets/base",
      "_view_module_version": "1.2.0",
      "_view_name": "StyleView",
      "description_width": ""
     }
    },
    "1c4f84d069204476978903092cc9b060": {
     "model_module": "@jupyter-widgets/controls",
     "model_module_version": "1.5.0",
     "model_name": "DescriptionStyleModel",
     "state": {
      "_model_module": "@jupyter-widgets/controls",
      "_model_module_version": "1.5.0",
      "_model_name": "DescriptionStyleModel",
      "_view_count": null,
      "_view_module": "@jupyter-widgets/base",
      "_view_module_version": "1.2.0",
      "_view_name": "StyleView",
      "description_width": ""
     }
    },
    "1f5921f9f7a745579c589308d790218a": {
     "model_module": "@jupyter-widgets/base",
     "model_module_version": "1.2.0",
     "model_name": "LayoutModel",
     "state": {
      "_model_module": "@jupyter-widgets/base",
      "_model_module_version": "1.2.0",
      "_model_name": "LayoutModel",
      "_view_count": null,
      "_view_module": "@jupyter-widgets/base",
      "_view_module_version": "1.2.0",
      "_view_name": "LayoutView",
      "align_content": null,
      "align_items": null,
      "align_self": null,
      "border": null,
      "bottom": null,
      "display": null,
      "flex": null,
      "flex_flow": null,
      "grid_area": null,
      "grid_auto_columns": null,
      "grid_auto_flow": null,
      "grid_auto_rows": null,
      "grid_column": null,
      "grid_gap": null,
      "grid_row": null,
      "grid_template_areas": null,
      "grid_template_columns": null,
      "grid_template_rows": null,
      "height": null,
      "justify_content": null,
      "justify_items": null,
      "left": null,
      "margin": null,
      "max_height": null,
      "max_width": null,
      "min_height": null,
      "min_width": null,
      "object_fit": null,
      "object_position": null,
      "order": null,
      "overflow": null,
      "overflow_x": null,
      "overflow_y": null,
      "padding": null,
      "right": null,
      "top": null,
      "visibility": null,
      "width": null
     }
    },
    "2fac3c6281744420ba73c0ba43ecba92": {
     "model_module": "@jupyter-widgets/controls",
     "model_module_version": "1.5.0",
     "model_name": "HBoxModel",
     "state": {
      "_dom_classes": [],
      "_model_module": "@jupyter-widgets/controls",
      "_model_module_version": "1.5.0",
      "_model_name": "HBoxModel",
      "_view_count": null,
      "_view_module": "@jupyter-widgets/controls",
      "_view_module_version": "1.5.0",
      "_view_name": "HBoxView",
      "box_style": "",
      "children": [
       "IPY_MODEL_93de56c3775f4cdf95713395dd0931df",
       "IPY_MODEL_9f51b18bd091401f8d3908e545f32b21",
       "IPY_MODEL_efb994204ca446139de19f84e91727c9"
      ],
      "layout": "IPY_MODEL_704abc230710459f83dd7fecbbd3556b"
     }
    },
    "362b243e0fea46af8103a5a426213f32": {
     "model_module": "@jupyter-widgets/controls",
     "model_module_version": "1.5.0",
     "model_name": "ProgressStyleModel",
     "state": {
      "_model_module": "@jupyter-widgets/controls",
      "_model_module_version": "1.5.0",
      "_model_name": "ProgressStyleModel",
      "_view_count": null,
      "_view_module": "@jupyter-widgets/base",
      "_view_module_version": "1.2.0",
      "_view_name": "StyleView",
      "bar_color": null,
      "description_width": ""
     }
    },
    "424cbb2e06804a4a8fa3523c027f3e2d": {
     "model_module": "@jupyter-widgets/base",
     "model_module_version": "1.2.0",
     "model_name": "LayoutModel",
     "state": {
      "_model_module": "@jupyter-widgets/base",
      "_model_module_version": "1.2.0",
      "_model_name": "LayoutModel",
      "_view_count": null,
      "_view_module": "@jupyter-widgets/base",
      "_view_module_version": "1.2.0",
      "_view_name": "LayoutView",
      "align_content": null,
      "align_items": null,
      "align_self": null,
      "border": null,
      "bottom": null,
      "display": null,
      "flex": null,
      "flex_flow": null,
      "grid_area": null,
      "grid_auto_columns": null,
      "grid_auto_flow": null,
      "grid_auto_rows": null,
      "grid_column": null,
      "grid_gap": null,
      "grid_row": null,
      "grid_template_areas": null,
      "grid_template_columns": null,
      "grid_template_rows": null,
      "height": null,
      "justify_content": null,
      "justify_items": null,
      "left": null,
      "margin": null,
      "max_height": null,
      "max_width": null,
      "min_height": null,
      "min_width": null,
      "object_fit": null,
      "object_position": null,
      "order": null,
      "overflow": null,
      "overflow_x": null,
      "overflow_y": null,
      "padding": null,
      "right": null,
      "top": null,
      "visibility": null,
      "width": null
     }
    },
    "4901f020cabf4ef3be1bcfbf735e014b": {
     "model_module": "@jupyter-widgets/controls",
     "model_module_version": "1.5.0",
     "model_name": "DescriptionStyleModel",
     "state": {
      "_model_module": "@jupyter-widgets/controls",
      "_model_module_version": "1.5.0",
      "_model_name": "DescriptionStyleModel",
      "_view_count": null,
      "_view_module": "@jupyter-widgets/base",
      "_view_module_version": "1.2.0",
      "_view_name": "StyleView",
      "description_width": ""
     }
    },
    "56ee37c0a31842dfb58dcbc9f36d53d9": {
     "model_module": "@jupyter-widgets/controls",
     "model_module_version": "1.5.0",
     "model_name": "FloatProgressModel",
     "state": {
      "_dom_classes": [],
      "_model_module": "@jupyter-widgets/controls",
      "_model_module_version": "1.5.0",
      "_model_name": "FloatProgressModel",
      "_view_count": null,
      "_view_module": "@jupyter-widgets/controls",
      "_view_module_version": "1.5.0",
      "_view_name": "ProgressView",
      "bar_style": "success",
      "description": "",
      "description_tooltip": null,
      "layout": "IPY_MODEL_042384b021a14298803d387723c87aca",
      "max": 289,
      "min": 0,
      "orientation": "horizontal",
      "style": "IPY_MODEL_362b243e0fea46af8103a5a426213f32",
      "value": 289
     }
    },
    "58f0446fa4a14f8a99c0c2b60c03f44f": {
     "model_module": "@jupyter-widgets/controls",
     "model_module_version": "1.5.0",
     "model_name": "DescriptionStyleModel",
     "state": {
      "_model_module": "@jupyter-widgets/controls",
      "_model_module_version": "1.5.0",
      "_model_name": "DescriptionStyleModel",
      "_view_count": null,
      "_view_module": "@jupyter-widgets/base",
      "_view_module_version": "1.2.0",
      "_view_name": "StyleView",
      "description_width": ""
     }
    },
    "596c52132d2c4b918cf5d67239a1cc57": {
     "model_module": "@jupyter-widgets/controls",
     "model_module_version": "1.5.0",
     "model_name": "HTMLModel",
     "state": {
      "_dom_classes": [],
      "_model_module": "@jupyter-widgets/controls",
      "_model_module_version": "1.5.0",
      "_model_name": "HTMLModel",
      "_view_count": null,
      "_view_module": "@jupyter-widgets/controls",
      "_view_module_version": "1.5.0",
      "_view_name": "HTMLView",
      "description": "",
      "description_tooltip": null,
      "layout": "IPY_MODEL_fe97f1b3750d4245a2ed3fe6770ce4ca",
      "placeholder": "​",
      "style": "IPY_MODEL_a4d6924babaf47f985a0672adc99d2a9",
      "value": " 445M/445M [00:04&lt;00:00, 99.4MB/s]"
     }
    },
    "5da7b0f73e664ddf953cbacb6f65236b": {
     "model_module": "@jupyter-widgets/base",
     "model_module_version": "1.2.0",
     "model_name": "LayoutModel",
     "state": {
      "_model_module": "@jupyter-widgets/base",
      "_model_module_version": "1.2.0",
      "_model_name": "LayoutModel",
      "_view_count": null,
      "_view_module": "@jupyter-widgets/base",
      "_view_module_version": "1.2.0",
      "_view_name": "LayoutView",
      "align_content": null,
      "align_items": null,
      "align_self": null,
      "border": null,
      "bottom": null,
      "display": null,
      "flex": null,
      "flex_flow": null,
      "grid_area": null,
      "grid_auto_columns": null,
      "grid_auto_flow": null,
      "grid_auto_rows": null,
      "grid_column": null,
      "grid_gap": null,
      "grid_row": null,
      "grid_template_areas": null,
      "grid_template_columns": null,
      "grid_template_rows": null,
      "height": null,
      "justify_content": null,
      "justify_items": null,
      "left": null,
      "margin": null,
      "max_height": null,
      "max_width": null,
      "min_height": null,
      "min_width": null,
      "object_fit": null,
      "object_position": null,
      "order": null,
      "overflow": null,
      "overflow_x": null,
      "overflow_y": null,
      "padding": null,
      "right": null,
      "top": null,
      "visibility": null,
      "width": null
     }
    },
    "63e13cf3bc1e494eb1aea15dcfd150ca": {
     "model_module": "@jupyter-widgets/controls",
     "model_module_version": "1.5.0",
     "model_name": "HTMLModel",
     "state": {
      "_dom_classes": [],
      "_model_module": "@jupyter-widgets/controls",
      "_model_module_version": "1.5.0",
      "_model_name": "HTMLModel",
      "_view_count": null,
      "_view_module": "@jupyter-widgets/controls",
      "_view_module_version": "1.5.0",
      "_view_name": "HTMLView",
      "description": "",
      "description_tooltip": null,
      "layout": "IPY_MODEL_1f5921f9f7a745579c589308d790218a",
      "placeholder": "​",
      "style": "IPY_MODEL_58f0446fa4a14f8a99c0c2b60c03f44f",
      "value": "Downloading (…)lve/main/config.json: 100%"
     }
    },
    "6b18b1c6e06d433dad93c17a6a1392ad": {
     "model_module": "@jupyter-widgets/base",
     "model_module_version": "1.2.0",
     "model_name": "LayoutModel",
     "state": {
      "_model_module": "@jupyter-widgets/base",
      "_model_module_version": "1.2.0",
      "_model_name": "LayoutModel",
      "_view_count": null,
      "_view_module": "@jupyter-widgets/base",
      "_view_module_version": "1.2.0",
      "_view_name": "LayoutView",
      "align_content": null,
      "align_items": null,
      "align_self": null,
      "border": null,
      "bottom": null,
      "display": null,
      "flex": null,
      "flex_flow": null,
      "grid_area": null,
      "grid_auto_columns": null,
      "grid_auto_flow": null,
      "grid_auto_rows": null,
      "grid_column": null,
      "grid_gap": null,
      "grid_row": null,
      "grid_template_areas": null,
      "grid_template_columns": null,
      "grid_template_rows": null,
      "height": null,
      "justify_content": null,
      "justify_items": null,
      "left": null,
      "margin": null,
      "max_height": null,
      "max_width": null,
      "min_height": null,
      "min_width": null,
      "object_fit": null,
      "object_position": null,
      "order": null,
      "overflow": null,
      "overflow_x": null,
      "overflow_y": null,
      "padding": null,
      "right": null,
      "top": null,
      "visibility": null,
      "width": null
     }
    },
    "704abc230710459f83dd7fecbbd3556b": {
     "model_module": "@jupyter-widgets/base",
     "model_module_version": "1.2.0",
     "model_name": "LayoutModel",
     "state": {
      "_model_module": "@jupyter-widgets/base",
      "_model_module_version": "1.2.0",
      "_model_name": "LayoutModel",
      "_view_count": null,
      "_view_module": "@jupyter-widgets/base",
      "_view_module_version": "1.2.0",
      "_view_name": "LayoutView",
      "align_content": null,
      "align_items": null,
      "align_self": null,
      "border": null,
      "bottom": null,
      "display": null,
      "flex": null,
      "flex_flow": null,
      "grid_area": null,
      "grid_auto_columns": null,
      "grid_auto_flow": null,
      "grid_auto_rows": null,
      "grid_column": null,
      "grid_gap": null,
      "grid_row": null,
      "grid_template_areas": null,
      "grid_template_columns": null,
      "grid_template_rows": null,
      "height": null,
      "justify_content": null,
      "justify_items": null,
      "left": null,
      "margin": null,
      "max_height": null,
      "max_width": null,
      "min_height": null,
      "min_width": null,
      "object_fit": null,
      "object_position": null,
      "order": null,
      "overflow": null,
      "overflow_x": null,
      "overflow_y": null,
      "padding": null,
      "right": null,
      "top": null,
      "visibility": null,
      "width": null
     }
    },
    "7134c627dee840c28e36a9878fcf3e14": {
     "model_module": "@jupyter-widgets/controls",
     "model_module_version": "1.5.0",
     "model_name": "HTMLModel",
     "state": {
      "_dom_classes": [],
      "_model_module": "@jupyter-widgets/controls",
      "_model_module_version": "1.5.0",
      "_model_name": "HTMLModel",
      "_view_count": null,
      "_view_module": "@jupyter-widgets/controls",
      "_view_module_version": "1.5.0",
      "_view_name": "HTMLView",
      "description": "",
      "description_tooltip": null,
      "layout": "IPY_MODEL_086e113c33e44b4faf4ccc5b9e398336",
      "placeholder": "​",
      "style": "IPY_MODEL_fe3a5cde0c29495b80673c60b67ba6fd",
      "value": " 289/289 [00:00&lt;00:00, 18.7kB/s]"
     }
    },
    "72d11516b60046a9b2879b8b7bc3f02b": {
     "model_module": "@jupyter-widgets/controls",
     "model_module_version": "1.5.0",
     "model_name": "ProgressStyleModel",
     "state": {
      "_model_module": "@jupyter-widgets/controls",
      "_model_module_version": "1.5.0",
      "_model_name": "ProgressStyleModel",
      "_view_count": null,
      "_view_module": "@jupyter-widgets/base",
      "_view_module_version": "1.2.0",
      "_view_name": "StyleView",
      "bar_color": null,
      "description_width": ""
     }
    },
    "7de4bfd6179646f59c5b7a454695ae04": {
     "model_module": "@jupyter-widgets/controls",
     "model_module_version": "1.5.0",
     "model_name": "HTMLModel",
     "state": {
      "_dom_classes": [],
      "_model_module": "@jupyter-widgets/controls",
      "_model_module_version": "1.5.0",
      "_model_name": "HTMLModel",
      "_view_count": null,
      "_view_module": "@jupyter-widgets/controls",
      "_view_module_version": "1.5.0",
      "_view_name": "HTMLView",
      "description": "",
      "description_tooltip": null,
      "layout": "IPY_MODEL_0974c2ce82b44c3c8e4341bd19081a54",
      "placeholder": "​",
      "style": "IPY_MODEL_1a57fb5300e148b4a1dad00ba36d56d3",
      "value": " 425/425 [00:00&lt;00:00, 21.4kB/s]"
     }
    },
    "7f4daa6a98754d3c96dc18bf8c9a5728": {
     "model_module": "@jupyter-widgets/base",
     "model_module_version": "1.2.0",
     "model_name": "LayoutModel",
     "state": {
      "_model_module": "@jupyter-widgets/base",
      "_model_module_version": "1.2.0",
      "_model_name": "LayoutModel",
      "_view_count": null,
      "_view_module": "@jupyter-widgets/base",
      "_view_module_version": "1.2.0",
      "_view_name": "LayoutView",
      "align_content": null,
      "align_items": null,
      "align_self": null,
      "border": null,
      "bottom": null,
      "display": null,
      "flex": null,
      "flex_flow": null,
      "grid_area": null,
      "grid_auto_columns": null,
      "grid_auto_flow": null,
      "grid_auto_rows": null,
      "grid_column": null,
      "grid_gap": null,
      "grid_row": null,
      "grid_template_areas": null,
      "grid_template_columns": null,
      "grid_template_rows": null,
      "height": null,
      "justify_content": null,
      "justify_items": null,
      "left": null,
      "margin": null,
      "max_height": null,
      "max_width": null,
      "min_height": null,
      "min_width": null,
      "object_fit": null,
      "object_position": null,
      "order": null,
      "overflow": null,
      "overflow_x": null,
      "overflow_y": null,
      "padding": null,
      "right": null,
      "top": null,
      "visibility": null,
      "width": null
     }
    },
    "81347fca71774a7dbadaa8d2ead86c69": {
     "model_module": "@jupyter-widgets/base",
     "model_module_version": "1.2.0",
     "model_name": "LayoutModel",
     "state": {
      "_model_module": "@jupyter-widgets/base",
      "_model_module_version": "1.2.0",
      "_model_name": "LayoutModel",
      "_view_count": null,
      "_view_module": "@jupyter-widgets/base",
      "_view_module_version": "1.2.0",
      "_view_name": "LayoutView",
      "align_content": null,
      "align_items": null,
      "align_self": null,
      "border": null,
      "bottom": null,
      "display": null,
      "flex": null,
      "flex_flow": null,
      "grid_area": null,
      "grid_auto_columns": null,
      "grid_auto_flow": null,
      "grid_auto_rows": null,
      "grid_column": null,
      "grid_gap": null,
      "grid_row": null,
      "grid_template_areas": null,
      "grid_template_columns": null,
      "grid_template_rows": null,
      "height": null,
      "justify_content": null,
      "justify_items": null,
      "left": null,
      "margin": null,
      "max_height": null,
      "max_width": null,
      "min_height": null,
      "min_width": null,
      "object_fit": null,
      "object_position": null,
      "order": null,
      "overflow": null,
      "overflow_x": null,
      "overflow_y": null,
      "padding": null,
      "right": null,
      "top": null,
      "visibility": null,
      "width": null
     }
    },
    "825dbfcdd6f44e34b9fba687e0b28e5a": {
     "model_module": "@jupyter-widgets/controls",
     "model_module_version": "1.5.0",
     "model_name": "HBoxModel",
     "state": {
      "_dom_classes": [],
      "_model_module": "@jupyter-widgets/controls",
      "_model_module_version": "1.5.0",
      "_model_name": "HBoxModel",
      "_view_count": null,
      "_view_module": "@jupyter-widgets/controls",
      "_view_module_version": "1.5.0",
      "_view_name": "HBoxView",
      "box_style": "",
      "children": [
       "IPY_MODEL_8bb454c7e2924cffa23fc0fcc95bdbf9",
       "IPY_MODEL_05b48583edca425fbcc8ae103155f1f6",
       "IPY_MODEL_596c52132d2c4b918cf5d67239a1cc57"
      ],
      "layout": "IPY_MODEL_832e6f76e32344fa8416d9911a2cade8"
     }
    },
    "832e6f76e32344fa8416d9911a2cade8": {
     "model_module": "@jupyter-widgets/base",
     "model_module_version": "1.2.0",
     "model_name": "LayoutModel",
     "state": {
      "_model_module": "@jupyter-widgets/base",
      "_model_module_version": "1.2.0",
      "_model_name": "LayoutModel",
      "_view_count": null,
      "_view_module": "@jupyter-widgets/base",
      "_view_module_version": "1.2.0",
      "_view_name": "LayoutView",
      "align_content": null,
      "align_items": null,
      "align_self": null,
      "border": null,
      "bottom": null,
      "display": null,
      "flex": null,
      "flex_flow": null,
      "grid_area": null,
      "grid_auto_columns": null,
      "grid_auto_flow": null,
      "grid_auto_rows": null,
      "grid_column": null,
      "grid_gap": null,
      "grid_row": null,
      "grid_template_areas": null,
      "grid_template_columns": null,
      "grid_template_rows": null,
      "height": null,
      "justify_content": null,
      "justify_items": null,
      "left": null,
      "margin": null,
      "max_height": null,
      "max_width": null,
      "min_height": null,
      "min_width": null,
      "object_fit": null,
      "object_position": null,
      "order": null,
      "overflow": null,
      "overflow_x": null,
      "overflow_y": null,
      "padding": null,
      "right": null,
      "top": null,
      "visibility": null,
      "width": null
     }
    },
    "8bb454c7e2924cffa23fc0fcc95bdbf9": {
     "model_module": "@jupyter-widgets/controls",
     "model_module_version": "1.5.0",
     "model_name": "HTMLModel",
     "state": {
      "_dom_classes": [],
      "_model_module": "@jupyter-widgets/controls",
      "_model_module_version": "1.5.0",
      "_model_name": "HTMLModel",
      "_view_count": null,
      "_view_module": "@jupyter-widgets/controls",
      "_view_module_version": "1.5.0",
      "_view_name": "HTMLView",
      "description": "",
      "description_tooltip": null,
      "layout": "IPY_MODEL_5da7b0f73e664ddf953cbacb6f65236b",
      "placeholder": "​",
      "style": "IPY_MODEL_d23d919c3db54ceb9bcbc9c24326a8fa",
      "value": "Downloading (…)&quot;pytorch_model.bin&quot;;: 100%"
     }
    },
    "8ed38e5152f44f2685693b3c6f368545": {
     "model_module": "@jupyter-widgets/controls",
     "model_module_version": "1.5.0",
     "model_name": "HTMLModel",
     "state": {
      "_dom_classes": [],
      "_model_module": "@jupyter-widgets/controls",
      "_model_module_version": "1.5.0",
      "_model_name": "HTMLModel",
      "_view_count": null,
      "_view_module": "@jupyter-widgets/controls",
      "_view_module_version": "1.5.0",
      "_view_name": "HTMLView",
      "description": "",
      "description_tooltip": null,
      "layout": "IPY_MODEL_a7b9f23813de4a21b0a1e0e6dc3c1f8b",
      "placeholder": "​",
      "style": "IPY_MODEL_4901f020cabf4ef3be1bcfbf735e014b",
      "value": " 248k/248k [00:00&lt;00:00, 2.20MB/s]"
     }
    },
    "8fb7c754527b462fb51de1c99c4a788d": {
     "model_module": "@jupyter-widgets/base",
     "model_module_version": "1.2.0",
     "model_name": "LayoutModel",
     "state": {
      "_model_module": "@jupyter-widgets/base",
      "_model_module_version": "1.2.0",
      "_model_name": "LayoutModel",
      "_view_count": null,
      "_view_module": "@jupyter-widgets/base",
      "_view_module_version": "1.2.0",
      "_view_name": "LayoutView",
      "align_content": null,
      "align_items": null,
      "align_self": null,
      "border": null,
      "bottom": null,
      "display": null,
      "flex": null,
      "flex_flow": null,
      "grid_area": null,
      "grid_auto_columns": null,
      "grid_auto_flow": null,
      "grid_auto_rows": null,
      "grid_column": null,
      "grid_gap": null,
      "grid_row": null,
      "grid_template_areas": null,
      "grid_template_columns": null,
      "grid_template_rows": null,
      "height": null,
      "justify_content": null,
      "justify_items": null,
      "left": null,
      "margin": null,
      "max_height": null,
      "max_width": null,
      "min_height": null,
      "min_width": null,
      "object_fit": null,
      "object_position": null,
      "order": null,
      "overflow": null,
      "overflow_x": null,
      "overflow_y": null,
      "padding": null,
      "right": null,
      "top": null,
      "visibility": null,
      "width": null
     }
    },
    "938caffef7594c91b9d7b6a43fe2b80b": {
     "model_module": "@jupyter-widgets/base",
     "model_module_version": "1.2.0",
     "model_name": "LayoutModel",
     "state": {
      "_model_module": "@jupyter-widgets/base",
      "_model_module_version": "1.2.0",
      "_model_name": "LayoutModel",
      "_view_count": null,
      "_view_module": "@jupyter-widgets/base",
      "_view_module_version": "1.2.0",
      "_view_name": "LayoutView",
      "align_content": null,
      "align_items": null,
      "align_self": null,
      "border": null,
      "bottom": null,
      "display": null,
      "flex": null,
      "flex_flow": null,
      "grid_area": null,
      "grid_auto_columns": null,
      "grid_auto_flow": null,
      "grid_auto_rows": null,
      "grid_column": null,
      "grid_gap": null,
      "grid_row": null,
      "grid_template_areas": null,
      "grid_template_columns": null,
      "grid_template_rows": null,
      "height": null,
      "justify_content": null,
      "justify_items": null,
      "left": null,
      "margin": null,
      "max_height": null,
      "max_width": null,
      "min_height": null,
      "min_width": null,
      "object_fit": null,
      "object_position": null,
      "order": null,
      "overflow": null,
      "overflow_x": null,
      "overflow_y": null,
      "padding": null,
      "right": null,
      "top": null,
      "visibility": null,
      "width": null
     }
    },
    "93de56c3775f4cdf95713395dd0931df": {
     "model_module": "@jupyter-widgets/controls",
     "model_module_version": "1.5.0",
     "model_name": "HTMLModel",
     "state": {
      "_dom_classes": [],
      "_model_module": "@jupyter-widgets/controls",
      "_model_module_version": "1.5.0",
      "_model_name": "HTMLModel",
      "_view_count": null,
      "_view_module": "@jupyter-widgets/controls",
      "_view_module_version": "1.5.0",
      "_view_name": "HTMLView",
      "description": "",
      "description_tooltip": null,
      "layout": "IPY_MODEL_9a725d217acb4c6d91c8d7679c9903bc",
      "placeholder": "​",
      "style": "IPY_MODEL_d818a849bf4542a8bdd0cd32a82d661e",
      "value": "Downloading (…)cial_tokens_map.json: 100%"
     }
    },
    "96fbe1a583c04c0fb6e2e0c68cc8e6b8": {
     "model_module": "@jupyter-widgets/controls",
     "model_module_version": "1.5.0",
     "model_name": "FloatProgressModel",
     "state": {
      "_dom_classes": [],
      "_model_module": "@jupyter-widgets/controls",
      "_model_module_version": "1.5.0",
      "_model_name": "FloatProgressModel",
      "_view_count": null,
      "_view_module": "@jupyter-widgets/controls",
      "_view_module_version": "1.5.0",
      "_view_name": "ProgressView",
      "bar_style": "success",
      "description": "",
      "description_tooltip": null,
      "layout": "IPY_MODEL_7f4daa6a98754d3c96dc18bf8c9a5728",
      "max": 248477,
      "min": 0,
      "orientation": "horizontal",
      "style": "IPY_MODEL_ea6b11bbc7a14eda888da0f8f06a0842",
      "value": 248477
     }
    },
    "9a725d217acb4c6d91c8d7679c9903bc": {
     "model_module": "@jupyter-widgets/base",
     "model_module_version": "1.2.0",
     "model_name": "LayoutModel",
     "state": {
      "_model_module": "@jupyter-widgets/base",
      "_model_module_version": "1.2.0",
      "_model_name": "LayoutModel",
      "_view_count": null,
      "_view_module": "@jupyter-widgets/base",
      "_view_module_version": "1.2.0",
      "_view_name": "LayoutView",
      "align_content": null,
      "align_items": null,
      "align_self": null,
      "border": null,
      "bottom": null,
      "display": null,
      "flex": null,
      "flex_flow": null,
      "grid_area": null,
      "grid_auto_columns": null,
      "grid_auto_flow": null,
      "grid_auto_rows": null,
      "grid_column": null,
      "grid_gap": null,
      "grid_row": null,
      "grid_template_areas": null,
      "grid_template_columns": null,
      "grid_template_rows": null,
      "height": null,
      "justify_content": null,
      "justify_items": null,
      "left": null,
      "margin": null,
      "max_height": null,
      "max_width": null,
      "min_height": null,
      "min_width": null,
      "object_fit": null,
      "object_position": null,
      "order": null,
      "overflow": null,
      "overflow_x": null,
      "overflow_y": null,
      "padding": null,
      "right": null,
      "top": null,
      "visibility": null,
      "width": null
     }
    },
    "9e3da9d26a17455f8cd4092d00fedd25": {
     "model_module": "@jupyter-widgets/base",
     "model_module_version": "1.2.0",
     "model_name": "LayoutModel",
     "state": {
      "_model_module": "@jupyter-widgets/base",
      "_model_module_version": "1.2.0",
      "_model_name": "LayoutModel",
      "_view_count": null,
      "_view_module": "@jupyter-widgets/base",
      "_view_module_version": "1.2.0",
      "_view_name": "LayoutView",
      "align_content": null,
      "align_items": null,
      "align_self": null,
      "border": null,
      "bottom": null,
      "display": null,
      "flex": null,
      "flex_flow": null,
      "grid_area": null,
      "grid_auto_columns": null,
      "grid_auto_flow": null,
      "grid_auto_rows": null,
      "grid_column": null,
      "grid_gap": null,
      "grid_row": null,
      "grid_template_areas": null,
      "grid_template_columns": null,
      "grid_template_rows": null,
      "height": null,
      "justify_content": null,
      "justify_items": null,
      "left": null,
      "margin": null,
      "max_height": null,
      "max_width": null,
      "min_height": null,
      "min_width": null,
      "object_fit": null,
      "object_position": null,
      "order": null,
      "overflow": null,
      "overflow_x": null,
      "overflow_y": null,
      "padding": null,
      "right": null,
      "top": null,
      "visibility": null,
      "width": null
     }
    },
    "9f51b18bd091401f8d3908e545f32b21": {
     "model_module": "@jupyter-widgets/controls",
     "model_module_version": "1.5.0",
     "model_name": "FloatProgressModel",
     "state": {
      "_dom_classes": [],
      "_model_module": "@jupyter-widgets/controls",
      "_model_module_version": "1.5.0",
      "_model_name": "FloatProgressModel",
      "_view_count": null,
      "_view_module": "@jupyter-widgets/controls",
      "_view_module_version": "1.5.0",
      "_view_name": "ProgressView",
      "bar_style": "success",
      "description": "",
      "description_tooltip": null,
      "layout": "IPY_MODEL_8fb7c754527b462fb51de1c99c4a788d",
      "max": 125,
      "min": 0,
      "orientation": "horizontal",
      "style": "IPY_MODEL_72d11516b60046a9b2879b8b7bc3f02b",
      "value": 125
     }
    },
    "a4d6924babaf47f985a0672adc99d2a9": {
     "model_module": "@jupyter-widgets/controls",
     "model_module_version": "1.5.0",
     "model_name": "DescriptionStyleModel",
     "state": {
      "_model_module": "@jupyter-widgets/controls",
      "_model_module_version": "1.5.0",
      "_model_name": "DescriptionStyleModel",
      "_view_count": null,
      "_view_module": "@jupyter-widgets/base",
      "_view_module_version": "1.2.0",
      "_view_name": "StyleView",
      "description_width": ""
     }
    },
    "a7b9f23813de4a21b0a1e0e6dc3c1f8b": {
     "model_module": "@jupyter-widgets/base",
     "model_module_version": "1.2.0",
     "model_name": "LayoutModel",
     "state": {
      "_model_module": "@jupyter-widgets/base",
      "_model_module_version": "1.2.0",
      "_model_name": "LayoutModel",
      "_view_count": null,
      "_view_module": "@jupyter-widgets/base",
      "_view_module_version": "1.2.0",
      "_view_name": "LayoutView",
      "align_content": null,
      "align_items": null,
      "align_self": null,
      "border": null,
      "bottom": null,
      "display": null,
      "flex": null,
      "flex_flow": null,
      "grid_area": null,
      "grid_auto_columns": null,
      "grid_auto_flow": null,
      "grid_auto_rows": null,
      "grid_column": null,
      "grid_gap": null,
      "grid_row": null,
      "grid_template_areas": null,
      "grid_template_columns": null,
      "grid_template_rows": null,
      "height": null,
      "justify_content": null,
      "justify_items": null,
      "left": null,
      "margin": null,
      "max_height": null,
      "max_width": null,
      "min_height": null,
      "min_width": null,
      "object_fit": null,
      "object_position": null,
      "order": null,
      "overflow": null,
      "overflow_x": null,
      "overflow_y": null,
      "padding": null,
      "right": null,
      "top": null,
      "visibility": null,
      "width": null
     }
    },
    "b40b9337981844ff907422939655d56e": {
     "model_module": "@jupyter-widgets/controls",
     "model_module_version": "1.5.0",
     "model_name": "DescriptionStyleModel",
     "state": {
      "_model_module": "@jupyter-widgets/controls",
      "_model_module_version": "1.5.0",
      "_model_name": "DescriptionStyleModel",
      "_view_count": null,
      "_view_module": "@jupyter-widgets/base",
      "_view_module_version": "1.2.0",
      "_view_name": "StyleView",
      "description_width": ""
     }
    },
    "b4b3236b72204039b527899a7ff21467": {
     "model_module": "@jupyter-widgets/controls",
     "model_module_version": "1.5.0",
     "model_name": "ProgressStyleModel",
     "state": {
      "_model_module": "@jupyter-widgets/controls",
      "_model_module_version": "1.5.0",
      "_model_name": "ProgressStyleModel",
      "_view_count": null,
      "_view_module": "@jupyter-widgets/base",
      "_view_module_version": "1.2.0",
      "_view_name": "StyleView",
      "bar_color": null,
      "description_width": ""
     }
    },
    "b791496590d8493b8e87fe4613e8da9a": {
     "model_module": "@jupyter-widgets/base",
     "model_module_version": "1.2.0",
     "model_name": "LayoutModel",
     "state": {
      "_model_module": "@jupyter-widgets/base",
      "_model_module_version": "1.2.0",
      "_model_name": "LayoutModel",
      "_view_count": null,
      "_view_module": "@jupyter-widgets/base",
      "_view_module_version": "1.2.0",
      "_view_name": "LayoutView",
      "align_content": null,
      "align_items": null,
      "align_self": null,
      "border": null,
      "bottom": null,
      "display": null,
      "flex": null,
      "flex_flow": null,
      "grid_area": null,
      "grid_auto_columns": null,
      "grid_auto_flow": null,
      "grid_auto_rows": null,
      "grid_column": null,
      "grid_gap": null,
      "grid_row": null,
      "grid_template_areas": null,
      "grid_template_columns": null,
      "grid_template_rows": null,
      "height": null,
      "justify_content": null,
      "justify_items": null,
      "left": null,
      "margin": null,
      "max_height": null,
      "max_width": null,
      "min_height": null,
      "min_width": null,
      "object_fit": null,
      "object_position": null,
      "order": null,
      "overflow": null,
      "overflow_x": null,
      "overflow_y": null,
      "padding": null,
      "right": null,
      "top": null,
      "visibility": null,
      "width": null
     }
    },
    "ba8428c793db463881228c3741f4faa6": {
     "model_module": "@jupyter-widgets/base",
     "model_module_version": "1.2.0",
     "model_name": "LayoutModel",
     "state": {
      "_model_module": "@jupyter-widgets/base",
      "_model_module_version": "1.2.0",
      "_model_name": "LayoutModel",
      "_view_count": null,
      "_view_module": "@jupyter-widgets/base",
      "_view_module_version": "1.2.0",
      "_view_name": "LayoutView",
      "align_content": null,
      "align_items": null,
      "align_self": null,
      "border": null,
      "bottom": null,
      "display": null,
      "flex": null,
      "flex_flow": null,
      "grid_area": null,
      "grid_auto_columns": null,
      "grid_auto_flow": null,
      "grid_auto_rows": null,
      "grid_column": null,
      "grid_gap": null,
      "grid_row": null,
      "grid_template_areas": null,
      "grid_template_columns": null,
      "grid_template_rows": null,
      "height": null,
      "justify_content": null,
      "justify_items": null,
      "left": null,
      "margin": null,
      "max_height": null,
      "max_width": null,
      "min_height": null,
      "min_width": null,
      "object_fit": null,
      "object_position": null,
      "order": null,
      "overflow": null,
      "overflow_x": null,
      "overflow_y": null,
      "padding": null,
      "right": null,
      "top": null,
      "visibility": null,
      "width": null
     }
    },
    "ca21a2d9799742a49af3353c4f17142c": {
     "model_module": "@jupyter-widgets/controls",
     "model_module_version": "1.5.0",
     "model_name": "HBoxModel",
     "state": {
      "_dom_classes": [],
      "_model_module": "@jupyter-widgets/controls",
      "_model_module_version": "1.5.0",
      "_model_name": "HBoxModel",
      "_view_count": null,
      "_view_module": "@jupyter-widgets/controls",
      "_view_module_version": "1.5.0",
      "_view_name": "HBoxView",
      "box_style": "",
      "children": [
       "IPY_MODEL_eebe98165e20446393377720f95a3344",
       "IPY_MODEL_96fbe1a583c04c0fb6e2e0c68cc8e6b8",
       "IPY_MODEL_8ed38e5152f44f2685693b3c6f368545"
      ],
      "layout": "IPY_MODEL_81347fca71774a7dbadaa8d2ead86c69"
     }
    },
    "cedbff5be2584dc38b697076bc654278": {
     "model_module": "@jupyter-widgets/controls",
     "model_module_version": "1.5.0",
     "model_name": "FloatProgressModel",
     "state": {
      "_dom_classes": [],
      "_model_module": "@jupyter-widgets/controls",
      "_model_module_version": "1.5.0",
      "_model_name": "FloatProgressModel",
      "_view_count": null,
      "_view_module": "@jupyter-widgets/controls",
      "_view_module_version": "1.5.0",
      "_view_name": "ProgressView",
      "bar_style": "success",
      "description": "",
      "description_tooltip": null,
      "layout": "IPY_MODEL_6b18b1c6e06d433dad93c17a6a1392ad",
      "max": 425,
      "min": 0,
      "orientation": "horizontal",
      "style": "IPY_MODEL_b4b3236b72204039b527899a7ff21467",
      "value": 425
     }
    },
    "d23d919c3db54ceb9bcbc9c24326a8fa": {
     "model_module": "@jupyter-widgets/controls",
     "model_module_version": "1.5.0",
     "model_name": "DescriptionStyleModel",
     "state": {
      "_model_module": "@jupyter-widgets/controls",
      "_model_module_version": "1.5.0",
      "_model_name": "DescriptionStyleModel",
      "_view_count": null,
      "_view_module": "@jupyter-widgets/base",
      "_view_module_version": "1.2.0",
      "_view_name": "StyleView",
      "description_width": ""
     }
    },
    "d305a026148843759b5933185fc8922a": {
     "model_module": "@jupyter-widgets/controls",
     "model_module_version": "1.5.0",
     "model_name": "HBoxModel",
     "state": {
      "_dom_classes": [],
      "_model_module": "@jupyter-widgets/controls",
      "_model_module_version": "1.5.0",
      "_model_name": "HBoxModel",
      "_view_count": null,
      "_view_module": "@jupyter-widgets/controls",
      "_view_module_version": "1.5.0",
      "_view_name": "HBoxView",
      "box_style": "",
      "children": [
       "IPY_MODEL_63e13cf3bc1e494eb1aea15dcfd150ca",
       "IPY_MODEL_cedbff5be2584dc38b697076bc654278",
       "IPY_MODEL_7de4bfd6179646f59c5b7a454695ae04"
      ],
      "layout": "IPY_MODEL_ba8428c793db463881228c3741f4faa6"
     }
    },
    "d3e1638ee53b4adab650be43c72a648b": {
     "model_module": "@jupyter-widgets/controls",
     "model_module_version": "1.5.0",
     "model_name": "DescriptionStyleModel",
     "state": {
      "_model_module": "@jupyter-widgets/controls",
      "_model_module_version": "1.5.0",
      "_model_name": "DescriptionStyleModel",
      "_view_count": null,
      "_view_module": "@jupyter-widgets/base",
      "_view_module_version": "1.2.0",
      "_view_name": "StyleView",
      "description_width": ""
     }
    },
    "d818a849bf4542a8bdd0cd32a82d661e": {
     "model_module": "@jupyter-widgets/controls",
     "model_module_version": "1.5.0",
     "model_name": "DescriptionStyleModel",
     "state": {
      "_model_module": "@jupyter-widgets/controls",
      "_model_module_version": "1.5.0",
      "_model_name": "DescriptionStyleModel",
      "_view_count": null,
      "_view_module": "@jupyter-widgets/base",
      "_view_module_version": "1.2.0",
      "_view_name": "StyleView",
      "description_width": ""
     }
    },
    "e554fba275314f87a3dbecb0f8002ce1": {
     "model_module": "@jupyter-widgets/controls",
     "model_module_version": "1.5.0",
     "model_name": "HBoxModel",
     "state": {
      "_dom_classes": [],
      "_model_module": "@jupyter-widgets/controls",
      "_model_module_version": "1.5.0",
      "_model_name": "HBoxModel",
      "_view_count": null,
      "_view_module": "@jupyter-widgets/controls",
      "_view_module_version": "1.5.0",
      "_view_name": "HBoxView",
      "box_style": "",
      "children": [
       "IPY_MODEL_fe923b22298041adb9fe76227de57c65",
       "IPY_MODEL_56ee37c0a31842dfb58dcbc9f36d53d9",
       "IPY_MODEL_7134c627dee840c28e36a9878fcf3e14"
      ],
      "layout": "IPY_MODEL_938caffef7594c91b9d7b6a43fe2b80b"
     }
    },
    "ea6b11bbc7a14eda888da0f8f06a0842": {
     "model_module": "@jupyter-widgets/controls",
     "model_module_version": "1.5.0",
     "model_name": "ProgressStyleModel",
     "state": {
      "_model_module": "@jupyter-widgets/controls",
      "_model_module_version": "1.5.0",
      "_model_name": "ProgressStyleModel",
      "_view_count": null,
      "_view_module": "@jupyter-widgets/base",
      "_view_module_version": "1.2.0",
      "_view_name": "StyleView",
      "bar_color": null,
      "description_width": ""
     }
    },
    "eebe98165e20446393377720f95a3344": {
     "model_module": "@jupyter-widgets/controls",
     "model_module_version": "1.5.0",
     "model_name": "HTMLModel",
     "state": {
      "_dom_classes": [],
      "_model_module": "@jupyter-widgets/controls",
      "_model_module_version": "1.5.0",
      "_model_name": "HTMLModel",
      "_view_count": null,
      "_view_module": "@jupyter-widgets/controls",
      "_view_module_version": "1.5.0",
      "_view_name": "HTMLView",
      "description": "",
      "description_tooltip": null,
      "layout": "IPY_MODEL_b791496590d8493b8e87fe4613e8da9a",
      "placeholder": "​",
      "style": "IPY_MODEL_b40b9337981844ff907422939655d56e",
      "value": "Downloading (…)solve/main/vocab.txt: 100%"
     }
    },
    "efb994204ca446139de19f84e91727c9": {
     "model_module": "@jupyter-widgets/controls",
     "model_module_version": "1.5.0",
     "model_name": "HTMLModel",
     "state": {
      "_dom_classes": [],
      "_model_module": "@jupyter-widgets/controls",
      "_model_module_version": "1.5.0",
      "_model_name": "HTMLModel",
      "_view_count": null,
      "_view_module": "@jupyter-widgets/controls",
      "_view_module_version": "1.5.0",
      "_view_name": "HTMLView",
      "description": "",
      "description_tooltip": null,
      "layout": "IPY_MODEL_9e3da9d26a17455f8cd4092d00fedd25",
      "placeholder": "​",
      "style": "IPY_MODEL_1c4f84d069204476978903092cc9b060",
      "value": " 125/125 [00:00&lt;00:00, 8.81kB/s]"
     }
    },
    "fcda98f52add426ab3cfb99074633098": {
     "model_module": "@jupyter-widgets/controls",
     "model_module_version": "1.5.0",
     "model_name": "ProgressStyleModel",
     "state": {
      "_model_module": "@jupyter-widgets/controls",
      "_model_module_version": "1.5.0",
      "_model_name": "ProgressStyleModel",
      "_view_count": null,
      "_view_module": "@jupyter-widgets/base",
      "_view_module_version": "1.2.0",
      "_view_name": "StyleView",
      "bar_color": null,
      "description_width": ""
     }
    },
    "fe3a5cde0c29495b80673c60b67ba6fd": {
     "model_module": "@jupyter-widgets/controls",
     "model_module_version": "1.5.0",
     "model_name": "DescriptionStyleModel",
     "state": {
      "_model_module": "@jupyter-widgets/controls",
      "_model_module_version": "1.5.0",
      "_model_name": "DescriptionStyleModel",
      "_view_count": null,
      "_view_module": "@jupyter-widgets/base",
      "_view_module_version": "1.2.0",
      "_view_name": "StyleView",
      "description_width": ""
     }
    },
    "fe923b22298041adb9fe76227de57c65": {
     "model_module": "@jupyter-widgets/controls",
     "model_module_version": "1.5.0",
     "model_name": "HTMLModel",
     "state": {
      "_dom_classes": [],
      "_model_module": "@jupyter-widgets/controls",
      "_model_module_version": "1.5.0",
      "_model_name": "HTMLModel",
      "_view_count": null,
      "_view_module": "@jupyter-widgets/controls",
      "_view_module_version": "1.5.0",
      "_view_name": "HTMLView",
      "description": "",
      "description_tooltip": null,
      "layout": "IPY_MODEL_424cbb2e06804a4a8fa3523c027f3e2d",
      "placeholder": "​",
      "style": "IPY_MODEL_d3e1638ee53b4adab650be43c72a648b",
      "value": "Downloading (…)okenizer_config.json: 100%"
     }
    },
    "fe97f1b3750d4245a2ed3fe6770ce4ca": {
     "model_module": "@jupyter-widgets/base",
     "model_module_version": "1.2.0",
     "model_name": "LayoutModel",
     "state": {
      "_model_module": "@jupyter-widgets/base",
      "_model_module_version": "1.2.0",
      "_model_name": "LayoutModel",
      "_view_count": null,
      "_view_module": "@jupyter-widgets/base",
      "_view_module_version": "1.2.0",
      "_view_name": "LayoutView",
      "align_content": null,
      "align_items": null,
      "align_self": null,
      "border": null,
      "bottom": null,
      "display": null,
      "flex": null,
      "flex_flow": null,
      "grid_area": null,
      "grid_auto_columns": null,
      "grid_auto_flow": null,
      "grid_auto_rows": null,
      "grid_column": null,
      "grid_gap": null,
      "grid_row": null,
      "grid_template_areas": null,
      "grid_template_columns": null,
      "grid_template_rows": null,
      "height": null,
      "justify_content": null,
      "justify_items": null,
      "left": null,
      "margin": null,
      "max_height": null,
      "max_width": null,
      "min_height": null,
      "min_width": null,
      "object_fit": null,
      "object_position": null,
      "order": null,
      "overflow": null,
      "overflow_x": null,
      "overflow_y": null,
      "padding": null,
      "right": null,
      "top": null,
      "visibility": null,
      "width": null
     }
    }
   }
  }
 },
 "nbformat": 4,
 "nbformat_minor": 1
}
